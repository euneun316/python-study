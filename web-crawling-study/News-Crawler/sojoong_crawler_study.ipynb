{
  "nbformat": 4,
  "nbformat_minor": 0,
  "metadata": {
    "colab": {
      "name": "sojoong_crawler_study.ipynb",
      "provenance": [],
      "collapsed_sections": [],
      "authorship_tag": "ABX9TyM3JeiZT5fhKMFWH4sHZIFh",
      "include_colab_link": true
    },
    "kernelspec": {
      "name": "python3",
      "display_name": "Python 3"
    },
    "language_info": {
      "name": "python"
    }
  },
  "cells": [
    {
      "cell_type": "markdown",
      "metadata": {
        "id": "view-in-github",
        "colab_type": "text"
      },
      "source": [
        "<a href=\"https://colab.research.google.com/github/euneun316/python-study/blob/main/web-crawling-study/sojoong_crawler_study.ipynb\" target=\"_parent\"><img src=\"https://colab.research.google.com/assets/colab-badge.svg\" alt=\"Open In Colab\"/></a>"
      ]
    },
    {
      "cell_type": "code",
      "source": [
        "!pip install requests"
      ],
      "metadata": {
        "colab": {
          "base_uri": "https://localhost:8080/"
        },
        "id": "O8IHr3btpH9w",
        "outputId": "0489e0f4-53d6-4e96-8d7e-7334df47b429"
      },
      "execution_count": 4,
      "outputs": [
        {
          "output_type": "stream",
          "name": "stdout",
          "text": [
            "Requirement already satisfied: requests in /usr/local/lib/python3.7/dist-packages (2.23.0)\n",
            "Requirement already satisfied: urllib3!=1.25.0,!=1.25.1,<1.26,>=1.21.1 in /usr/local/lib/python3.7/dist-packages (from requests) (1.24.3)\n",
            "Requirement already satisfied: chardet<4,>=3.0.2 in /usr/local/lib/python3.7/dist-packages (from requests) (3.0.4)\n",
            "Requirement already satisfied: idna<3,>=2.5 in /usr/local/lib/python3.7/dist-packages (from requests) (2.10)\n",
            "Requirement already satisfied: certifi>=2017.4.17 in /usr/local/lib/python3.7/dist-packages (from requests) (2021.10.8)\n"
          ]
        }
      ]
    },
    {
      "cell_type": "code",
      "source": [
        "!pip install bs4"
      ],
      "metadata": {
        "colab": {
          "base_uri": "https://localhost:8080/"
        },
        "id": "_sAfDOxepVn_",
        "outputId": "d85eb6a3-8e05-4dd8-8a2e-8fa10f22d0a0"
      },
      "execution_count": 3,
      "outputs": [
        {
          "output_type": "stream",
          "name": "stdout",
          "text": [
            "Requirement already satisfied: bs4 in /usr/local/lib/python3.7/dist-packages (0.0.1)\n",
            "Requirement already satisfied: beautifulsoup4 in /usr/local/lib/python3.7/dist-packages (from bs4) (4.6.3)\n"
          ]
        }
      ]
    },
    {
      "cell_type": "code",
      "source": [
        "!pip install selenium==3.14.0"
      ],
      "metadata": {
        "colab": {
          "base_uri": "https://localhost:8080/"
        },
        "id": "PlCvyKLSpqO_",
        "outputId": "4473975a-63b0-4296-f228-ccc4318ba826"
      },
      "execution_count": 4,
      "outputs": [
        {
          "output_type": "stream",
          "name": "stdout",
          "text": [
            "Collecting selenium==3.14.0\n",
            "  Downloading selenium-3.14.0-py2.py3-none-any.whl (898 kB)\n",
            "\u001b[?25l\r\u001b[K     |▍                               | 10 kB 18.9 MB/s eta 0:00:01\r\u001b[K     |▊                               | 20 kB 22.9 MB/s eta 0:00:01\r\u001b[K     |█                               | 30 kB 26.3 MB/s eta 0:00:01\r\u001b[K     |█▌                              | 40 kB 28.2 MB/s eta 0:00:01\r\u001b[K     |█▉                              | 51 kB 30.3 MB/s eta 0:00:01\r\u001b[K     |██▏                             | 61 kB 22.9 MB/s eta 0:00:01\r\u001b[K     |██▌                             | 71 kB 19.1 MB/s eta 0:00:01\r\u001b[K     |███                             | 81 kB 20.7 MB/s eta 0:00:01\r\u001b[K     |███▎                            | 92 kB 21.5 MB/s eta 0:00:01\r\u001b[K     |███▋                            | 102 kB 19.4 MB/s eta 0:00:01\r\u001b[K     |████                            | 112 kB 19.4 MB/s eta 0:00:01\r\u001b[K     |████▍                           | 122 kB 19.4 MB/s eta 0:00:01\r\u001b[K     |████▊                           | 133 kB 19.4 MB/s eta 0:00:01\r\u001b[K     |█████                           | 143 kB 19.4 MB/s eta 0:00:01\r\u001b[K     |█████▌                          | 153 kB 19.4 MB/s eta 0:00:01\r\u001b[K     |█████▉                          | 163 kB 19.4 MB/s eta 0:00:01\r\u001b[K     |██████▏                         | 174 kB 19.4 MB/s eta 0:00:01\r\u001b[K     |██████▋                         | 184 kB 19.4 MB/s eta 0:00:01\r\u001b[K     |███████                         | 194 kB 19.4 MB/s eta 0:00:01\r\u001b[K     |███████▎                        | 204 kB 19.4 MB/s eta 0:00:01\r\u001b[K     |███████▋                        | 215 kB 19.4 MB/s eta 0:00:01\r\u001b[K     |████████                        | 225 kB 19.4 MB/s eta 0:00:01\r\u001b[K     |████████▍                       | 235 kB 19.4 MB/s eta 0:00:01\r\u001b[K     |████████▊                       | 245 kB 19.4 MB/s eta 0:00:01\r\u001b[K     |█████████▏                      | 256 kB 19.4 MB/s eta 0:00:01\r\u001b[K     |█████████▌                      | 266 kB 19.4 MB/s eta 0:00:01\r\u001b[K     |█████████▉                      | 276 kB 19.4 MB/s eta 0:00:01\r\u001b[K     |██████████▏                     | 286 kB 19.4 MB/s eta 0:00:01\r\u001b[K     |██████████▋                     | 296 kB 19.4 MB/s eta 0:00:01\r\u001b[K     |███████████                     | 307 kB 19.4 MB/s eta 0:00:01\r\u001b[K     |███████████▎                    | 317 kB 19.4 MB/s eta 0:00:01\r\u001b[K     |███████████▊                    | 327 kB 19.4 MB/s eta 0:00:01\r\u001b[K     |████████████                    | 337 kB 19.4 MB/s eta 0:00:01\r\u001b[K     |████████████▍                   | 348 kB 19.4 MB/s eta 0:00:01\r\u001b[K     |████████████▊                   | 358 kB 19.4 MB/s eta 0:00:01\r\u001b[K     |█████████████▏                  | 368 kB 19.4 MB/s eta 0:00:01\r\u001b[K     |█████████████▌                  | 378 kB 19.4 MB/s eta 0:00:01\r\u001b[K     |█████████████▉                  | 389 kB 19.4 MB/s eta 0:00:01\r\u001b[K     |██████████████▎                 | 399 kB 19.4 MB/s eta 0:00:01\r\u001b[K     |██████████████▋                 | 409 kB 19.4 MB/s eta 0:00:01\r\u001b[K     |███████████████                 | 419 kB 19.4 MB/s eta 0:00:01\r\u001b[K     |███████████████▎                | 430 kB 19.4 MB/s eta 0:00:01\r\u001b[K     |███████████████▊                | 440 kB 19.4 MB/s eta 0:00:01\r\u001b[K     |████████████████                | 450 kB 19.4 MB/s eta 0:00:01\r\u001b[K     |████████████████▍               | 460 kB 19.4 MB/s eta 0:00:01\r\u001b[K     |████████████████▉               | 471 kB 19.4 MB/s eta 0:00:01\r\u001b[K     |█████████████████▏              | 481 kB 19.4 MB/s eta 0:00:01\r\u001b[K     |█████████████████▌              | 491 kB 19.4 MB/s eta 0:00:01\r\u001b[K     |█████████████████▉              | 501 kB 19.4 MB/s eta 0:00:01\r\u001b[K     |██████████████████▎             | 512 kB 19.4 MB/s eta 0:00:01\r\u001b[K     |██████████████████▋             | 522 kB 19.4 MB/s eta 0:00:01\r\u001b[K     |███████████████████             | 532 kB 19.4 MB/s eta 0:00:01\r\u001b[K     |███████████████████▍            | 542 kB 19.4 MB/s eta 0:00:01\r\u001b[K     |███████████████████▊            | 552 kB 19.4 MB/s eta 0:00:01\r\u001b[K     |████████████████████            | 563 kB 19.4 MB/s eta 0:00:01\r\u001b[K     |████████████████████▍           | 573 kB 19.4 MB/s eta 0:00:01\r\u001b[K     |████████████████████▉           | 583 kB 19.4 MB/s eta 0:00:01\r\u001b[K     |█████████████████████▏          | 593 kB 19.4 MB/s eta 0:00:01\r\u001b[K     |█████████████████████▌          | 604 kB 19.4 MB/s eta 0:00:01\r\u001b[K     |██████████████████████          | 614 kB 19.4 MB/s eta 0:00:01\r\u001b[K     |██████████████████████▎         | 624 kB 19.4 MB/s eta 0:00:01\r\u001b[K     |██████████████████████▋         | 634 kB 19.4 MB/s eta 0:00:01\r\u001b[K     |███████████████████████         | 645 kB 19.4 MB/s eta 0:00:01\r\u001b[K     |███████████████████████▍        | 655 kB 19.4 MB/s eta 0:00:01\r\u001b[K     |███████████████████████▊        | 665 kB 19.4 MB/s eta 0:00:01\r\u001b[K     |████████████████████████        | 675 kB 19.4 MB/s eta 0:00:01\r\u001b[K     |████████████████████████▌       | 686 kB 19.4 MB/s eta 0:00:01\r\u001b[K     |████████████████████████▉       | 696 kB 19.4 MB/s eta 0:00:01\r\u001b[K     |█████████████████████████▏      | 706 kB 19.4 MB/s eta 0:00:01\r\u001b[K     |█████████████████████████▌      | 716 kB 19.4 MB/s eta 0:00:01\r\u001b[K     |██████████████████████████      | 727 kB 19.4 MB/s eta 0:00:01\r\u001b[K     |██████████████████████████▎     | 737 kB 19.4 MB/s eta 0:00:01\r\u001b[K     |██████████████████████████▋     | 747 kB 19.4 MB/s eta 0:00:01\r\u001b[K     |███████████████████████████     | 757 kB 19.4 MB/s eta 0:00:01\r\u001b[K     |███████████████████████████▍    | 768 kB 19.4 MB/s eta 0:00:01\r\u001b[K     |███████████████████████████▊    | 778 kB 19.4 MB/s eta 0:00:01\r\u001b[K     |████████████████████████████    | 788 kB 19.4 MB/s eta 0:00:01\r\u001b[K     |████████████████████████████▌   | 798 kB 19.4 MB/s eta 0:00:01\r\u001b[K     |████████████████████████████▉   | 808 kB 19.4 MB/s eta 0:00:01\r\u001b[K     |█████████████████████████████▏  | 819 kB 19.4 MB/s eta 0:00:01\r\u001b[K     |█████████████████████████████▌  | 829 kB 19.4 MB/s eta 0:00:01\r\u001b[K     |██████████████████████████████  | 839 kB 19.4 MB/s eta 0:00:01\r\u001b[K     |██████████████████████████████▎ | 849 kB 19.4 MB/s eta 0:00:01\r\u001b[K     |██████████████████████████████▋ | 860 kB 19.4 MB/s eta 0:00:01\r\u001b[K     |███████████████████████████████ | 870 kB 19.4 MB/s eta 0:00:01\r\u001b[K     |███████████████████████████████▍| 880 kB 19.4 MB/s eta 0:00:01\r\u001b[K     |███████████████████████████████▊| 890 kB 19.4 MB/s eta 0:00:01\r\u001b[K     |████████████████████████████████| 898 kB 19.4 MB/s \n",
            "\u001b[?25hRequirement already satisfied: urllib3 in /usr/local/lib/python3.7/dist-packages (from selenium==3.14.0) (1.24.3)\n",
            "Installing collected packages: selenium\n",
            "Successfully installed selenium-3.14.0\n"
          ]
        }
      ]
    },
    {
      "cell_type": "code",
      "execution_count": 24,
      "metadata": {
        "colab": {
          "base_uri": "https://localhost:8080/"
        },
        "id": "ZlFcsoXYo253",
        "outputId": "505e592f-7f3a-4f3b-d4cf-9900f95d31b4"
      },
      "outputs": [
        {
          "output_type": "execute_result",
          "data": {
            "text/plain": [
              "['https://sojoong.joins.com/archives/44661',\n",
              " 'https://sojoong.joins.com/archives/44648',\n",
              " 'https://sojoong.joins.com/archives/44506',\n",
              " 'https://sojoong.joins.com/archives/44500',\n",
              " 'https://sojoong.joins.com/archives/44438',\n",
              " 'https://sojoong.joins.com/archives/44432',\n",
              " 'https://sojoong.joins.com/archives/44294',\n",
              " 'https://sojoong.joins.com/archives/44278',\n",
              " 'https://sojoong.joins.com/archives/44217',\n",
              " 'https://sojoong.joins.com/archives/44206']"
            ]
          },
          "metadata": {},
          "execution_count": 24
        }
      ],
      "source": [
        "import requests\n",
        "import re # 정규표현식\n",
        "from bs4 import BeautifulSoup\n",
        "\n",
        "url = \"https://sojoong.joins.com/archives/category/nie/issue\"  # 소년중앙 url\n",
        "req = requests.get(url)                                   # requests\n",
        "html = req.text\n",
        "\n",
        "soup = BeautifulSoup(html, \"html.parser\")\n",
        "\n",
        "news_list = soup.select(\"h2 > a\")\n",
        "news_list = [p.get(\"href\") for p in news_list]\n",
        "news_list"
      ]
    },
    {
      "cell_type": "code",
      "source": [
        "soup"
      ],
      "metadata": {
        "id": "m9p_MkgMtBEW"
      },
      "execution_count": null,
      "outputs": []
    },
    {
      "cell_type": "markdown",
      "source": [
        "사용하는는 메소드드\n",
        "1. .select()\n",
        "2. .select_one()"
      ],
      "metadata": {
        "id": "IWMaFptFs78n"
      }
    },
    {
      "cell_type": "code",
      "source": [
        "# list_mypost > table > tbody > tr:nth-child(1) > td.title > h2 > a\n",
        "news_title = soup.select(\"h2 > a\")\n",
        "news_title"
      ],
      "metadata": {
        "colab": {
          "base_uri": "https://localhost:8080/"
        },
        "id": "ptq7vq6apyRa",
        "outputId": "f225efdf-6dd0-439e-93f3-2010c4f5dae3"
      },
      "execution_count": 27,
      "outputs": [
        {
          "output_type": "execute_result",
          "data": {
            "text/plain": [
              "[<a href=\"https://sojoong.joins.com/archives/44661\">[뉴스레시피] 화산 폭발로 큰 피해를 입은  통가를 돕기 위해 힘을 모아봐요</a>,\n",
              " <a href=\"https://sojoong.joins.com/archives/44648\">[위클리이슈] 통가 화산 폭발, 그 영향은 어디까지일까</a>,\n",
              " <a href=\"https://sojoong.joins.com/archives/44506\">[뉴스레시피] 횡령 범죄를 보고 느낀 점과 문제 해결 방법을 위한 여러분의 생각을 공유해주세요</a>,\n",
              " <a href=\"https://sojoong.joins.com/archives/44500\">[위클리이슈] 계속되는 거액 횡령 범죄, 무엇이 문제인가</a>,\n",
              " <a href=\"https://sojoong.joins.com/archives/44438\">[뉴스레시피] 장애인 이동권, 어떻게 보장해야 할까요?</a>,\n",
              " <a href=\"https://sojoong.joins.com/archives/44432\">[위클리이슈] 장애인 이동권, 어떻게 보장해야 할까</a>,\n",
              " <a href=\"https://sojoong.joins.com/archives/44294\">[뉴스레시피] 박근혜 전 대통령 특별사면을 둘러싼 찬반 논란, 여러분의 생각은 어떤가요.</a>,\n",
              " <a href=\"https://sojoong.joins.com/archives/44278\">[위클리이슈] 박근혜 전 대통령 특별사면 논란, 쟁점은?</a>,\n",
              " <a href=\"https://sojoong.joins.com/archives/44217\">[뉴스레시피] 우리가 할 수 있는 기후 행동 아이디어를 고민해보세요</a>,\n",
              " <a href=\"https://sojoong.joins.com/archives/44206\">[위클리이슈] 거듭되는 이상기후···지구가 보내는 경고 들여다보니</a>]"
            ]
          },
          "metadata": {},
          "execution_count": 27
        }
      ]
    },
    {
      "cell_type": "code",
      "source": [
        "news_title[0].text"
      ],
      "metadata": {
        "colab": {
          "base_uri": "https://localhost:8080/",
          "height": 35
        },
        "id": "junXQZs-tHGV",
        "outputId": "dc3e3a0d-7abf-4392-dbf1-dbde712b271b"
      },
      "execution_count": 28,
      "outputs": [
        {
          "output_type": "execute_result",
          "data": {
            "application/vnd.google.colaboratory.intrinsic+json": {
              "type": "string"
            },
            "text/plain": [
              "'[뉴스레시피] 화산 폭발로 큰 피해를 입은  통가를 돕기 위해 힘을 모아봐요'"
            ]
          },
          "metadata": {},
          "execution_count": 28
        }
      ]
    },
    {
      "cell_type": "code",
      "source": [
        "news_title[0].get(\"href\")"
      ],
      "metadata": {
        "colab": {
          "base_uri": "https://localhost:8080/",
          "height": 35
        },
        "id": "OJ2ScFultGNy",
        "outputId": "1de6aeec-03fa-4e3d-dcae-e3c703df490e"
      },
      "execution_count": 29,
      "outputs": [
        {
          "output_type": "execute_result",
          "data": {
            "application/vnd.google.colaboratory.intrinsic+json": {
              "type": "string"
            },
            "text/plain": [
              "'https://sojoong.joins.com/archives/44661'"
            ]
          },
          "metadata": {},
          "execution_count": 29
        }
      ]
    },
    {
      "cell_type": "code",
      "source": [
        "# url = \"https://sojoong.joins.com/archives/category/nie/issue\"  # 소년중앙 url\n",
        "# req = requests.get(url)                                   # requests\n",
        "# html = req.text\n",
        "\n",
        "# soup = BeautifulSoup(html, \"html.parser\")\n",
        "\n",
        "sub_url = news_title[0].get(\"href\")\n",
        "sub_req = requests.get(sub_url)\n",
        "sub_html = sub_req.text\n",
        "\n",
        "sub_soup = BeautifulSoup(sub_html, \"html.parser\")"
      ],
      "metadata": {
        "id": "D0sdDLPrtKPU"
      },
      "execution_count": 64,
      "outputs": []
    },
    {
      "cell_type": "code",
      "source": [
        "sub_soup"
      ],
      "metadata": {
        "id": "C7SmSBLMtMcA"
      },
      "execution_count": null,
      "outputs": []
    },
    {
      "cell_type": "markdown",
      "source": [
        "**Sub Crawling**\n",
        "\n",
        "```\n",
        "url: 기사 원문 URL\n",
        "title: 제목\n",
        "subtitle: 부제목(어린이동아는 부제 없음!)\n",
        "author: 기자\n",
        "date: 날짜\n",
        "article: 기사 내용\n",
        "img_path: 기사 img 경로\n",
        "source: 신문사\n",
        "```\n",
        "* **title** : main > div.title-wrapper > h1\n",
        "\n",
        "* **subtitle** : #content > div.hentry > p:nth-child(1) > b\n",
        "\n",
        "* **author** : #main > div.title-wrapper > div.post-meta\n",
        "\n",
        "* **date** : #main > div.title-wrapper > div.post-meta\n",
        "\n",
        "* **article** : #content > div.hentry > p:nth-child(3)\n",
        "\n",
        "* **img_path** : #attachment_44652 > a > img"
      ],
      "metadata": {
        "id": "iuvLkNL1tO_V"
      }
    },
    {
      "cell_type": "code",
      "source": [
        "# import re\n",
        "dir(re)"
      ],
      "metadata": {
        "id": "Heo9EcENCjzT"
      },
      "execution_count": null,
      "outputs": []
    },
    {
      "cell_type": "code",
      "source": [
        "# url: 기사 원문 URL\n",
        "url = news_title[0].get(\"href\")\n",
        "url"
      ],
      "metadata": {
        "colab": {
          "base_uri": "https://localhost:8080/",
          "height": 35
        },
        "id": "cKMhyLDttRlP",
        "outputId": "3d4fc285-7264-478d-9f0d-9a855a427be8"
      },
      "execution_count": 49,
      "outputs": [
        {
          "output_type": "execute_result",
          "data": {
            "application/vnd.google.colaboratory.intrinsic+json": {
              "type": "string"
            },
            "text/plain": [
              "'https://sojoong.joins.com/archives/44661'"
            ]
          },
          "metadata": {},
          "execution_count": 49
        }
      ]
    },
    {
      "cell_type": "code",
      "source": [
        "# title: 제목\n",
        "title = sub_soup.select_one(\"h1\").text\n",
        "## re.sub(<pattern>, <replace>, <object>)\n",
        "title = re.sub(\"[\\r\\n]\",\"\",title).strip()\n",
        "title"
      ],
      "metadata": {
        "colab": {
          "base_uri": "https://localhost:8080/",
          "height": 35
        },
        "id": "052Iy7ROtev_",
        "outputId": "d66e2a5e-97cf-498a-de4a-5bae8a199012"
      },
      "execution_count": 65,
      "outputs": [
        {
          "output_type": "execute_result",
          "data": {
            "application/vnd.google.colaboratory.intrinsic+json": {
              "type": "string"
            },
            "text/plain": [
              "'[뉴스레시피] 화산 폭발로 큰 피해를 입은  통가를 돕기 위해 힘을 모아봐요'"
            ]
          },
          "metadata": {},
          "execution_count": 65
        }
      ]
    },
    {
      "cell_type": "code",
      "source": [
        "# subtitle: 부제목(어린이동아는 부제 없음!)\n",
        "#content > div.hentry > p:nth-child(1) > b\n",
        "subtitle = sub_soup.select(\"div.hentry > p\")[0]\n",
        "## re.sub(<pattern>, <replace>, <object>)\n",
        "subtitle\n",
        "# title = re.sub(\"[\\r\\n]\",\"\",title).strip()\n",
        "# title"
      ],
      "metadata": {
        "colab": {
          "base_uri": "https://localhost:8080/"
        },
        "id": "4jxpwdcDtj0P",
        "outputId": "f4f73190-9cae-4c8a-bbdf-2ca0a87bed57"
      },
      "execution_count": 66,
      "outputs": [
        {
          "output_type": "execute_result",
          "data": {
            "text/plain": [
              "<p data-id=\"0\" data-particle-index=\"0\" data-particle-type=\"TextTemplate\" data-texttype=\"104\"><b>대폭발로 사라진 화산섬···통가의 영웅 “조국 도와달라”</b></p>"
            ]
          },
          "metadata": {},
          "execution_count": 66
        }
      ]
    },
    {
      "cell_type": "code",
      "source": [
        "# author: 기자\n",
        "# #content > div.hentry > p:nth-child(3)\n",
        "author = sub_soup.select(\"div.hentry > p\")\n",
        "author\n",
        "# response_object.css('div.hentry p::text').extract()\n",
        "\n",
        "# author = [p.text for p in author if \"글=\" in p.text][0].split(',')[0]\n",
        "# author = [p.text for p in author if \"글=\" in p.text]\n",
        "# author\n",
        "# author = \" \".join(author)\n",
        "\n",
        "# ls =[]\n",
        "# for i in author:\n",
        "#   ls.append(i)\n",
        "\n",
        "# author = author.split(',')[0]\n",
        "\n",
        "# author = re.sub(\"[0-9a-zA-Z]([-_.]?[0-9a-zA-Z])*@[0-9a-zA-Z]([-_.]?[0-9a-zA-Z])*.[a-zA-Z]{2,3}\",\"\",author).strip()\n",
        "# author = re.sub(\"글=\",\"\",author).strip()\n",
        "# author"
      ],
      "metadata": {
        "colab": {
          "base_uri": "https://localhost:8080/"
        },
        "id": "34DPDBEzDTaN",
        "outputId": "29c6f6fc-6784-4f56-e20d-ea1b0f398efa"
      },
      "execution_count": 38,
      "outputs": [
        {
          "output_type": "execute_result",
          "data": {
            "text/plain": [
              "[<p data-id=\"0\" data-particle-index=\"0\" data-particle-type=\"TextTemplate\" data-texttype=\"104\"><div class=\"su-note\" style=\"border-color:#e4c1bc;border-radius:3px;-moz-border-radius:3px;-webkit-border-radius:3px;\"><div class=\"su-note-inner su-clearfix\" style=\"background-color:#fdd6d1;border-color:#fff7f6;color:#000000;border-radius:3px;-moz-border-radius:3px;-webkit-border-radius:3px;\">\n",
              " <p data-id=\"0\" data-particle-index=\"0\" data-particle-type=\"TextTemplate\" data-texttype=\"104\"><b>통가 화산 폭발, 그 영향은 어디까지일까</b></p>\n",
              " <p data-id=\"1\" data-particle-index=\"0\" data-particle-type=\"TextTemplate\" data-texttype=\"104\">남태평양 섬나라 통가에서 대규모 해저화산 분화가 발생했습니다. 그 여파로 1.2m 높이의 지진해일이 통가 수도 누쿠알로파를 덮치는 등 막대한 피해를 입었어요. 한때 통신이 끊기면서 소식조차 알 수 없었지만 현재는 제한적으로 연결되면서 처참하게 파괴된 주택과 해변 시설의 사진·영상이 다른 국가로 전해지고 있죠. 약 1만㎞ 떨어진 일본과 미국, 뉴질랜드 등에서도 지진해일 경보가 내려지고, 페루 북부 람바예케 해변에선 쓰나미에 휩쓸린 2명이 사망했습니다. 이번 화산 폭발은 다시 한번 자연의 위력을 실감할 수 있는 계기가 되었는데요. 추가 분화는 아직 없지만 화산 상태가 불안정해 몇 주 또는 몇 달 동안 폭발이 지속될 수 있다는 분석도 나와요. 통가 해저화산의 영향이 어디까지 미칠지 전 세계가 예의 주시하는 상황입니다.</p>\n",
              " <p data-id=\"1\" data-particle-index=\"0\" data-particle-type=\"TextTemplate\" data-texttype=\"104\"></p></div></div>\n",
              " <p data-id=\"1\" data-particle-index=\"0\" data-particle-type=\"TextTemplate\" data-texttype=\"104\"><strong><br/>뉴스 ① </strong><b>거대한 버섯구름 우주서도 포착, 일본까지 쓰나미 경보</b></p>\n",
              " <p data-id=\"1\" data-particle-index=\"0\" data-particle-type=\"TextTemplate\" data-texttype=\"104\"><a href=\"https://sojoong.joins.com/wp-content/uploads/sites/4/2022/01/IM00007571_20220119-141654.jpg\"><img alt=\"IM00007571_20220119-141654\" class=\"aligncenter size-full wp-image-44653\" height=\"752\" src=\"https://sojoong.joins.com/wp-content/uploads/sites/4/2022/01/IM00007571_20220119-141654.jpg\" width=\"480\"/></a>남태평양 섬나라 통가에서 초대형 해저화산이 폭발해 태평양 섬나라는 물론 미국 서부 해안과 일본 등 환태평양 국가들이 쓰나미(지진·화산폭발에 따른 해일) 공포에 떨었습니다. AP통신·CNN 등에 따르면 통가 수도 누쿠알로파 북쪽 65㎞ 해역에 위치한 훈가 통가-훈가 하파이 화산이 지난 14·15일 이틀에 걸쳐 두 차례 분화했어요. 두 번째 분화(한국시간 15일 오전 1시 10분) 때 최소 8분간 큰 폭발이 이어지면서 화산재와 증기·가스 기둥이 상공 20㎞까지 치솟았고 반경 260㎞ 지역에 영향을 미쳤죠.</p>\n",
              " <p data-id=\"5\" data-particle-index=\"0\" data-particle-type=\"TextTemplate\" data-texttype=\"104\">미국 국립해양대기관리국(NOAA)이 홈페이지에 공개한 위성사진에는 화산 폭발 당시의 위력이 생생하게 잡혔습니다. 푸른 태평양 바다 위로 핵폭탄이 폭발한 듯 거대한 버섯구름이 일어나 일대를 잠식했죠. AP통신은 당시 굉음이 1만㎞ 떨어진 미국 알래스카에서 들릴 정도였다고 전했습니다. 통가의 한 주민은 “엄청난 폭발음과 함께 땅과 집이 흔들려 폭탄이 터진 줄 알았다”고 말했어요. 목격자들은 하늘이 순식간에 컴컴해지고 화산재가 비처럼 떨어졌다고 전했죠.</p>\n",
              " <p data-id=\"7\" data-particle-index=\"0\" data-particle-type=\"TextTemplate\" data-texttype=\"104\">폭발과 함께 통가 인구의 70%가 살고 있는 통가타푸섬에 강력한 쓰나미가 발생했어요. 밀려든 파도에 도로와 집이 침수돼 주민들은 긴급하게 고지대로 대피했죠. 폭발 이후 통가의 통신 서비스가 두절돼 정확한 피해 상황은 알려지지 않고 있습니다. 네트워크 관리를 맡은 서던크로스케이블네트워크는 “해저 케이블이 끊어졌는지, 단순히 정전 때문인지 파악 중”이라고 밝혔죠.  </p>\n",
              " <p data-id=\"9\" data-particle-index=\"0\" data-particle-type=\"TextTemplate\" data-texttype=\"104\">화산 폭발 직후 미국 국립기상청(NWS)은 캘리포니아·오리건·워싱턴·알래스카주에 쓰나미 주의보를 내렸어요. 캐나다·에콰도르·칠레 등 태평양 쪽으로 접한 국가와 호주 동부까지 광범위한 영역에도 쓰나미 주의보가 발령됐습니다. 일본은 통가의 해저화산 2차 분화가 있은 지 11시간가량 지난 16일 0시 15분 쓰나미 경보를 발령했다가 오후 2시에 해제했어요.  </p>\n",
              " <p data-id=\"11\" data-particle-index=\"0\" data-particle-type=\"TextTemplate\" data-texttype=\"104\">NHK에 따르면 이날 정오 무렵까지 관측된 쓰나미는 아마미시 고미나토(小湊)에서 1.2ｍ로 가장 높았고 이와테현 구지(久慈)항에서 1.1ｍ를 기록했습니다. 쓰나미로 인한 사망자 보고는 없으나 주민 다수가 대피소로 옮겨 불안한 밤을 보냈죠. NHK는 8개 현(縣) 약 23만 명에게 피난 지시가 내려졌다고 집계했어요. 한국은 화산 분화 13시간 만인 16일 오전 2시 30분부터 새벽 5시까지 제주 서귀포, 모슬포, 남해안 등에서 수㎝의 파고가 일었습니다. 기상청은 “한국은 화산 분화에 따른 지진해일 영향은 없을 것”이라고 밝혔죠.</p>\n",
              " <p data-id=\"13\" data-particle-index=\"0\" data-particle-type=\"TextTemplate\" data-texttype=\"104\">중앙일보 1월 17일자</p>\n",
              " <p data-id=\"13\" data-particle-index=\"0\" data-particle-type=\"TextTemplate\" data-texttype=\"104\"><b><br/>뉴스 ② </b><b>통가 정부 “해저화산 폭발로 3명 사망, 여러 명 부상”···첫 공식 집계</b></p>\n",
              " <figure class=\"wp-caption aligncenter\" id=\"attachment_44649\" style=\"width: 1038px;\"><a href=\"https://sojoong.joins.com/wp-content/uploads/sites/4/2022/01/IM00007552_20220119-141044.jpg\"><img alt=\"통가 중부 하파이제도 한 마을의 분화 전(왼쪽)과 후 모습. 교도통신\" class=\"size-full wp-image-44649\" height=\"479\" src=\"https://sojoong.joins.com/wp-content/uploads/sites/4/2022/01/IM00007552_20220119-141044.jpg\" width=\"1038\"/></a><figcaption class=\"wp-caption-text\">통가 중부 하파이제도 한 마을의 분화 전(왼쪽)과 후 모습. 교도통신</figcaption></figure>\n",
              " <p data-id=\"17\" data-particle-index=\"0\" data-particle-type=\"TextTemplate\" data-texttype=\"104\">남태평양 섬나라 통가 정부가 대규모 해저화산 폭발로 인한 사상자 규모를 처음으로 공식 발표했다고 로이터통신이 18일(현지시각) 보도했습니다. 보도에 따르면 통가 정부는 지금까지 사망자 3명과 다수의 부상자가 보고됐다고 첫 공식 피해 집계를 밝혔죠. 해저화산 폭발로 끊긴 통신이 아직 복구되지 않아 정확한 인명 피해 파악이 이뤄지지 못한 상황이었죠.  </p>\n",
              " <p data-id=\"18\" data-particle-index=\"0\" data-particle-type=\"TextTemplate\" data-texttype=\"104\">지금까지 신원이 확인된 사망자는 영국 여성 앤젤라 글로버(50)가 유일했습니다. 글로버는 자신이 운영하는 동물보호소 개들을 구하려다 파도에 휩쓸려 목숨을 잃었죠. 통가 정부는 글로버 이외에도 망고섬에서 65세 여성이, 노무카섬에서 49세 남성이 사망했다고 확인했습니다. 이어 인구 50명인 망고섬의 주택 전부가 파괴됐고, 포노이푸아섬도 2채를 제외한 나머지 주택이 모두 무너졌으며, 노무카섬도 광범위한 피해를 입었다고 설명했죠. 거처를 잃은 주민들의 대피가 진행 중이라고 전했습니다.</p>\n",
              " <p data-id=\"20\" data-particle-index=\"0\" data-particle-type=\"TextTemplate\" data-texttype=\"104\">통가의 해저화산 폭발 이후 1만㎞ 넘게 떨어진 페루 태평양 연안에도 높은 파도가 치면서 2명이 물에 휩쓸려 숨졌습니다. 페루 경찰은 16일(현지시간) 트위터에 “(북부) 나이람프 해변에서 2명이 숨진 채 발견됐다”며 “파도가 비정상적이었다”고 전했죠. 또 페루 해안에서 유조선이 기름 유출 사고를 일으키기도 했는데요. 페루 민방위 연구소는 보도자료에서 이탈리아 선적 유조선 마레 도리쿰호가 16일 태평양 연안의 라 팜피야 정유공장에 기름을 옮겨 싣던 중 강한 파도에 흔들려 유출사고를 일으켰다고 밝혔습니다. 페루 정부는 연방 및 지역 당국이 해안을 청소하기 위해 노력하고 있다고 밝혔지만 원유가 얼마나 유출되었는지는 말하지 않았죠.</p>\n",
              " <p data-id=\"22\" data-particle-index=\"0\" data-particle-type=\"TextTemplate\" data-texttype=\"104\">중앙일보 1월 17‧18일자</p>\n",
              " <p data-id=\"22\" data-particle-index=\"0\" data-particle-type=\"TextTemplate\" data-texttype=\"104\"><b><strong><br/>뉴스 ③ </strong></b><b>AFP “통가 화산 또다시 대형 분출은 오보”···각국 구호 지원</b></p>\n",
              " <figure class=\"wp-caption aligncenter\" id=\"attachment_44650\" style=\"width: 709px;\"><a href=\"https://sojoong.joins.com/wp-content/uploads/sites/4/2022/01/IM00007557_20220119-141044.jpg\"><img alt=\"남태평양 섬나라 통가 인근 해저 화산이 분화한 후 일본에서 쓰나미(해일)가 관 측된 가운데 16일 오전 일본 고치(高知)현 무로토시의 항구에 어선이 전복되거나 가라앉아 있다. 연합뉴스\" class=\"size-full wp-image-44650\" height=\"883\" src=\"https://sojoong.joins.com/wp-content/uploads/sites/4/2022/01/IM00007557_20220119-141044.jpg\" width=\"709\"/></a><figcaption class=\"wp-caption-text\">남태평양 섬나라 통가 인근 해저화산이 분화한 후 일본에서 쓰나미(해일)가 관측된 가운데 16일 오전 일본 고치(高知)현 무로토시의 항구에 어선이 전복되거나 가라앉아 있다. 연합뉴스</figcaption></figure>\n",
              " <p data-id=\"26\" data-particle-index=\"0\" data-particle-type=\"TextTemplate\" data-texttype=\"104\">남태평양 섬나라 통가 인근에서 또 다른 대규모 화산 폭발이 관측됐다고 보도했던 AFP 통신 측이 보도가 사실이 아니라고 정정했습니다. AFP는 17일 “통가 인근에서 오전 11시 10분(현지시간) 대규모 화산 분출이 감지됐다”고 호주 다윈에 있는 관측소를 인용해 보도했지만 약 2시간 후 “새로운 분출은 확인되지 않았다”면서 먼저 송고한 기사들을 취소했죠.</p>\n",
              " <p data-id=\"27\" data-particle-index=\"0\" data-particle-type=\"TextTemplate\" data-texttype=\"104\">페니 에나레 뉴질랜드 국방부 장관은 17일 “누쿠알로파의 많은 지역에서 전력이 복구됐다”고 밝혔습니다. 다만 통신은 여전히 장애를 겪고 있죠. 태평양 횡단 통신 케이블 업체인 서던크로스케이블네트워크는 “케이블 수리에 최대 2주가 걸릴 것”이라고 말했습니다. 이날 로이터는 “통가 공항은 상대적으로 양호한 상태로 보이지만, 도로·교량은 손상이 심각하다”고 전했죠. 국제적십자사연맹(IFRC)의 케이티 그린우드 태평양 대표단장은 BBC 인터뷰에서 “화산 분출이나 이로 인한 쓰나미‧침수 등으로 통가에서 최대 8만 명이 영향을 받았을 것”이라고 했습니다.</p>\n",
              " <p data-id=\"29\" data-particle-index=\"0\" data-particle-type=\"TextTemplate\" data-texttype=\"104\">뉴질랜드와 호주는 통가 구호 활동에 나섰어요. 뉴질랜드 국방부(NZDF)는 이날 트위터를 통해 “해당 지역과 저지대 섬에 대한 초기 영향 평가를 지원하기 위한 정찰기를 파견했다”고 밝혔죠. 국제적십자사도 구호 활동에 나섰습니다. 알렉산더 마테우 적십자 아시아태평양국장은 “화산재로 오염된 식수 정화와 피난 쉼터 제공, 흩어진 가족 찾기 등이 시급한 문제”라고 전했죠. 하지만 통신이 복구되지 않아 구호마저 쉽지 않은 상황입니다. 또 코로나19 청정국인 통가가 국제 사회의 지원을 받다가 코로나19가 유입될 수 있다는 우려도 나옵니다.  </p>\n",
              " <p data-id=\"31\" data-particle-index=\"0\" data-particle-type=\"TextTemplate\" data-texttype=\"104\">중앙일보 1월 17‧18일자</p>\n",
              " <div class=\"yarpp-related yarpp-related-none\">\n",
              " <h3>연관뉴스</h3>\n",
              " </div>\n",
              " </p>]"
            ]
          },
          "metadata": {},
          "execution_count": 38
        }
      ]
    },
    {
      "cell_type": "code",
      "source": [
        "# date: 날짜\n",
        "date = sub_soup.select_one(\"div.post-meta > span\").text\n",
        "date"
      ],
      "metadata": {
        "colab": {
          "base_uri": "https://localhost:8080/",
          "height": 35
        },
        "id": "w-IJIZb9HhQA",
        "outputId": "001f84db-dc72-47ef-8967-438dc833aeec"
      },
      "execution_count": 44,
      "outputs": [
        {
          "output_type": "execute_result",
          "data": {
            "application/vnd.google.colaboratory.intrinsic+json": {
              "type": "string"
            },
            "text/plain": [
              "'2022.01.31 09:00'"
            ]
          },
          "metadata": {},
          "execution_count": 44
        }
      ]
    },
    {
      "cell_type": "code",
      "source": [
        "# article: 기사 내용\n",
        "# > : 명확한 위계질서 (/슬래쉬로 밑에있는거)\n",
        "# 공백 : 모든애들\n",
        "article = [p.text for p in sub_soup.select(\"div > p\") \n",
        "if not (\"인터넷신문등록번호\") in p.text\n",
        "if not (\"소년중앙의 모든 콘텐트\") in p.text\n",
        "if not (\"글=\") in p.text\n",
        "if not (\"Copyright by JoongAng\") in p.text]\n",
        "# print(article)\n",
        "\" \".join(article)\n",
        "# print(*[1,2,3]) # * 아스타 해주면 요소들만 출력\n",
        "\n"
      ],
      "metadata": {
        "colab": {
          "base_uri": "https://localhost:8080/",
          "height": 327
        },
        "id": "nq1wKMwsJXRN",
        "outputId": "70d3dc4c-3a2e-44a5-bced-747213e7661e"
      },
      "execution_count": 62,
      "outputs": [
        {
          "output_type": "execute_result",
          "data": {
            "application/vnd.google.colaboratory.intrinsic+json": {
              "type": "string"
            },
            "text/plain": [
              "'인류가 가장 오랫동안 즐겼던 음료 중 하나는 차나무의 어린잎을 달이거나 우린 물인 차(茶)로, 역사를 문자로 기록하기 이전인 전설시대부터 즐겼다고 합니다. 처음에 차는 약으로 여겨졌지만, 점차 독특한 향기나 맛을 즐기는 기호식품(嗜好食品)이 됐는데요. 여기에 일상생활에 필요한 도리와 예법이 더해지며 다례(茶禮)가 만들어졌고, 차를 마시며 몸과 마음을 수련하는 다도(茶道)로까지 발전했죠. 우리나라에 차가 언제 들어왔는지 정확하게는 알 수 없지만, 삼국시대 때 이미 우리 민족이 차를 즐겼다는 기록이 있으며, 고려·조선시대에 걸쳐 관련 문화가 성행했어요. 차를 마시며 담소를 나누는 행위는 다양한 계층이 즐겼기에 궁궐을 중심으로 규범에 따라 행한 궁정다례, 부처에게 차를 올리는 헌다(獻茶), 양갓집 규수들의 규방다례 등 관련 예법도 다양합니다. 차를 즐기며 마음도 수양할 수 있는 다례의 가치는 오늘날에도 유효한데요. 박시은 학생기자와 현지용 학생모델이 손님에게 차를 대접하는 접빈다례와 관련 기본예절을 알아보기 위해 경기도 고양시에 있는 고양문화원에서 김영미 예인회(예를 전하는 사람들) 회장을 만났어요. 이날 소중 학생기자단은 한복을 차려입고 취재에 임했는데요. 김 회장은 먼저 “차를 우리고 대접하기 전 단정한 복장을 갖춰야 한다”며 옷매무새를 다시 만져줬죠. “우리 오늘 처음 만났으니까 한복 입고 바르게 서는 법과 절하여 예를 표하는 법부터 배워볼까요? 일단 방석 뒤에 서보세요.”(김) 절하는 예법, 배례(拜禮)에는 큰절·평절·반절 등이 있죠. 친척 어른을 뵐 일이 많은 설 명절을 앞둔 만큼 아랫사람이 웃어른을 처음 만나면 하는 큰절을 배워봤습니다. 큰절은 남자와 여자에 따라 그 방법이 달라요. 남자는 왼손이 오른손 위로 가도록 포개는 공수(拱手)를 한 뒤, 손을 눈높이까지 올렸다가 내리면서 허리를 굽힙니다. 공수한 채로 바닥을 짚고, 왼쪽과 오른쪽 무릎을 차례대로 굽히며 바닥에 앉죠. 그리고 몸을 숙여 이마를 공수한 손등 가까이 대고 바닥에 잠시 머물러 있다가 오른쪽 무릎부터 순서대로 일어난 후, 공수한 손을 눈높이까지 올렸다가 내린 후 고개를 숙여 인사(묵례)해요. 여자의 공수자세는 손의 방향이 남자와 반대예요. 오른손이 위로, 왼손이 아래로 가도록 양손을 포개 눈썹 높이 정도로 올린 뒤, 왼쪽→오른쪽 순으로 무릎을 꿇고 앉아요. 이후 몸을 45도 정도 앞으로 숙인 뒤 잠시 머무르다가 오른쪽→왼쪽 순으로 무릎을 세우고 몸을 일으켜 묵례해요. 앉을 때와 일어날 때 무릎 방향이 반대죠. “절을 마친 뒤 상대방이 ‘편히 앉으십시오’ 말하면 처음에는 ‘괜찮습니다’라고 사양한 뒤, 두 번째로 ‘편히 앉으십시오’ 권유했을 때 책상다리로 자리에 앉습니다.”(김) 예의 있는 첫인상을 남기는 법을 알아봤으니 이제 다례를 배워봅시다. 찻자리에 사용되는 물건을 다기라고 하는데요. 끓인 물을 보관하는 탕관(湯罐), 물을 식힐 때 쓰는 큰 사발처럼 생긴 숙우(熟盂), 찻잎을 담는 차호(茶壺), 차호의 차를 다관에 넣을 때 사용하는 찻숟가락(차시), 찻잎을 우려내는 주전자인 다관(茶罐), 손님 수에 맞춘 찻잔(茶盞)과 찻잔을 받칠 때 사용하는 차탁(茶托), 다구에 흐르는 물기를 닦을 때 쓰는 차수건, 찻상을 덮는 용도로 쓰는 붉은색 천인 홍포(紅布), 물을 버리는 퇴수기 등이 필요해요. “국어사전을 보니 다도는 차를 달이거나 마실 때의 방식이나 예의범절이고, 다례는 차를 대접하는 의식이라고 하더라고요. 다례와 다도의 차이는 무엇인가요?” 시은 학생기자가 물었어요. “다도(茶道)의 도는 인간이 지켜야 할 도리와 나아가야 할 바른길을 뜻해요. 즉, 다도는 차를 마시면서 심신을 갈고 닦는 행위를 강조한 말이죠. 화경청적(和敬清寂)이라는 말로 설명할 수 있는데, 서로 화합하고 남을 공경하는 마음을 담아 맑은 정신으로 고요함을 즐긴다는 뜻이에요. 다례(茶禮)의 례(예)는 예절을 뜻하는 한자로, 상대방에게 예를 갖춰 차를 올리는 것을 뜻해요. 다도보다는 한 단계 아래의 경지인데, 초보자에게 다도는 좀 어려울 수 있으니 오늘은 질서와 순서를 지켜 상대방에게 차를 대접하는 다례를 배워보기로 해요.”(김) 다례의 시작은 찻상 점검이에요. 찻자리에서 차를 우려 대접하는 사람을 팽주(烹主)라고 하는데요. 차를 우리는 다기가 있는 상을 중심으로 오른쪽에는 탕관과 퇴수기가, 왼쪽에는 우린 차를 손님에게 내어가는 다반이 위치합니다. 숙우는 꼭지가 팽주와 제일 가까운 곳에 놓은 잔으로 가게 하고, 다관은 긴 손잡이 부분이 팽주의 중앙에 오게끔 놓아요. 탕관·퇴수기·숙우·다관 등 모든 다기는 팽주가 손을 뻗었을 때 닿는 위치에 있어야 해요. 차호를 열어 찻잎이 잘 들어있는지도 확인해야죠. 이 모든 과정을 마치면 홍포를 다시 원래대로 덮어요. 이제 손님 앞에서 정성을 담아 차를 우려서 대접해보겠습니다. 순서는 크게 준비▶다기 예열▶차 우리기로 구분할 수 있어요. “찻상 앞에 무릎을 꿇고 공손히 앉아 손님이 ‘귀한 차를 드시고 건강하세요’ 하는 마음으로 잠시 눈을 감고 심호흡을 합니다.”(김) 첫 단계는 다기를 따뜻하게 데우는 예열이에요. 잔잔히 흐르는 음악에 맞춰서 김 회장이 다례 시범에 돌입했어요. 찻상 위 홍포를 살짝 걷어 무릎 위에서 단정히 접은 후, 팽주의 오른쪽 옆에 내려놓습니다. 뒤집어둔 찻잔의 바닥이 하늘을 보도록 바로 놓은 뒤, 탕관에 담긴 따뜻한 물을 숙우▶다관▶찻잔 순으로 옮겨 담습니다. 다관을 들 때는 오른손으로 손잡이, 왼손으로 뚜껑을 지그시 눌러요. 찻잔을 예열할 때는 물을 80% 정도만 채우고, 천천히 한 두바퀴 돌린 뒤 퇴수기에 물을 버립니다. 김 회장의 시범을 따라 하는 소중 학생기자단의 표정이 사뭇 진지합니다. 이제 차를 우려내서 대접할 차례예요. 다시 한 번 탕관에 끓인 물을 아까와 비슷한 양으로 숙우에 따릅니다. “물이 너무 뜨거우면 찻잎이 푹 익어버리기 때문에 적당한 온도로 내리는 과정이에요.”(김) 그리고 오른손으로 차호를 가져와서, 왼손 위로 올린 뒤 오른손으로 뚜껑을 가져다 놓습니다. 이후 찻숟가락으로 찻잎을 덜어서 다관에 넣죠. “찻잎은 (3잔 기준) 무거운 듯 가볍게 두 번 정도 뜹니다.”(김) 이후 숙우의 물을 다관에 넣고 뚜껑을 닫고 차가 우러날 때까지 기다려요. 찻잎이 우러나는 시간은 차의 종류마다 다르지만, 녹차의 경우 약 1~2분 정도 기다리면 됩니다. 다관에서 향과 맛이 우러난 차를 잔에 따를 때는 팽주의 기준에서 웃어른에게 올릴 잔부터 차례대로 1/3씩 채워줍니다. 그리고 다관에 남은 차를 같은 순서로 조금씩 찻잔에 더 채워요. 차는 동석자 중 가장 어른에게 먼저 드리는 게 예의인데요. 차탁 위에 손님께 대접하려는 찻잔을 올린 뒤 다반 위에 다과와 함께 놓습니다. “손님에게 다반을 전달하기 전 팽주가 먼저 자신의 잔에 있는 차를 한 모금 시음하고 ‘대접할 만하다’ 싶으면 “차 드십시오”라고 말해요. 차 한 잔은 세 번 정도 천천히 나눠서 마시면 적당하고, 다 마신 잔은 각자 오른편에 내려놓습니다.”(김) 차를 마실 때 자세도 중요한데요. 자리에서 공수 자세로 앉아있던 대로 두 손을 모아 찻잔에 손을 가져간 뒤 오른손으로 찻잔의 옆면을 살짝 감싸고 왼손으로 바닥을 지탱해요. 어깨에 힘을 뺀 상태에서 가슴과 배꼽 중간 높이로 찻잔을 들었다가 천천히 마십니다. “차는 오감으로 즐기는 음료예요. 촉감으로는 찻잔의 온기를, 시각으로는 차의 색깔을, 후각으로는 차의 향을, 미각으로는 차의 맛을, 청각으로는 자연의 소리나 아름다운 음악을 즐기죠.”(김) 다례를 해본 소중 학생기자단은 손끝에 느껴지는 온기와 은은한 향에 절로 고개를 끄덕였습니다. “차는 정말 고귀한 음료인 것 같아요.”(현) “다례를 할 때 차와 함께 주전부리나 과일 같은 먹거리를 곁들이는 걸 봤어요. 차는 어떤 음식과 함께 먹어야 하나요?” 지용 학생모델이 물었어요. “차와 먹는 음식을 다식(茶食)이라고 하는데, 향이 너무 짙거나 짜거나 매운 음식은 찻상에 올리지 않아요. 차의 맛과 향을 온전히 즐기기 힘드니까요. 또 크기가 너무 큰 음식도 베어 먹거나 상에 다시 내려놓는 과정에서 소란해지기 때문에 적당하지 않아요. 다식은 향이 적고 살짝 달콤하면서도 한입에 쏙 들어갈 수 있는 크기가 좋아요. 오늘 제가 여러분을 위해 준비한 약과처럼요.”(김) 몸가짐을 단정히 하고 경건한 마음으로 차에 대한 이야기를 나누다 보니 어느새 두 시간이 훌쩍 지났어요. 무엇이든 ‘빨리빨리’ 해내야 한다는 압박감과 자극적인 맛에 익숙한 요즘. 상대방을 귀중히 여기는 마음을 담아 정성 들여 차를 달여서 대접하는 다례의 매력에 한 번 빠져보는 건 어떤가요. 우리 전통문화의 아름다움을 되새기는 건 물론, 바쁜 일상에 쉼표를 찍어줄 귀중한 경험이 될 거예요. 학생기자 취재 후기 다례 취재 얘기를 듣고 평소 관심이 있었던 우리나라의 문화와 전통에 대해 배울 수 있을 것 같아 기대했어요. 실수하거나 어려울까 봐 걱정했지만, 이번 취재를 통해 우리나라 다례의 기본은 물론, 상대방을 존중하고 배려할 수 있는 태도를 기를 수 있었던 것 같아요. 처음에는 어렵고 멀게만 느껴졌던 다례가 이제는 자랑스러운 생활 예절로 느껴져서 배우길 잘한 것 같아 정말 뿌듯해요. 더 많은 사람이 다례를 통해 예의를 배우면 좋을 것 같아요. 박시은(서울 여의도초 5) 학생기자 평소에도 차 마시는 것을 좋아해서, 고양문화원으로 다례를 배우러 갈 때 정말 설레었어요. 김영미 회장님은 상대방에 대한 예의를 여러 번 강조하셨어요. 처음 뵈었을 때는 공수를 한 뒤 작은 절을 하여 예를 표하는 법부터 배웠어요. 또 차를 우릴 때도 손님에게 감사하고 존중하는 마음으로 예를 갖추며 대접하는 것이 중요하다고 하셨어요. 덕분에 예를 갖추며 직접 차를 우려보는 시간도 가질 수 있었습니다. 이런 과정을 거쳐 제가 우린 차를 마셔보니 갈증도 해소되었고 화합과 공경, 맑고 고요한 마음(화경청적)도 느낄 수 있었죠. 이번에 알게 된 다례를 활용해서 우리 가족에게도 예를 갖춰서 맛있고 건강한 차를 꼭 대접하고 싶어요. 현지용(서울 가곡초 6) 학생모델'"
            ]
          },
          "metadata": {},
          "execution_count": 62
        }
      ]
    },
    {
      "cell_type": "code",
      "source": [
        "# img_path: 기사 img 경로\n",
        "# attachment_44561 > a > img\n",
        "\n",
        "# articles = soup.find_all(\"h4\", attrs={\"class\": \"titles\"})\n",
        "# sub_soup.find_all(\"div\", attrs={\"id\": \"content\"})\n",
        "\n",
        "# [p.get(\"src\") for p in sub_soup.select(\"div > figure > img\")]\n",
        "sub_soup.select_one(\"div > figure > a > img\").get(\"src\")"
      ],
      "metadata": {
        "colab": {
          "base_uri": "https://localhost:8080/",
          "height": 35
        },
        "id": "_uxMcjs2PZDR",
        "outputId": "391e4506-8892-4d97-86b5-70715f1dd854"
      },
      "execution_count": 85,
      "outputs": [
        {
          "output_type": "execute_result",
          "data": {
            "application/vnd.google.colaboratory.intrinsic+json": {
              "type": "string"
            },
            "text/plain": [
              "'https://sojoong.joins.com/wp-content/uploads/sites/4/2022/01/3T1A1141.jpg'"
            ]
          },
          "metadata": {},
          "execution_count": 85
        }
      ]
    },
    {
      "cell_type": "code",
      "source": [
        "# source: 소년중앙"
      ],
      "metadata": {
        "id": "qwiNPeqYQhSO"
      },
      "execution_count": null,
      "outputs": []
    },
    {
      "cell_type": "markdown",
      "source": [
        "## Full Python Web Crawling\n",
        "- 뉴스 리스트들을 링크들을 뽑아 리스트화"
      ],
      "metadata": {
        "id": "2LjGcuolSRqe"
      }
    },
    {
      "cell_type": "code",
      "source": [
        "import requests\n",
        "import re # 정규표현식\n",
        "from bs4 import BeautifulSoup\n",
        "\n",
        "url = \"https://sojoong.joins.com/archives/category/nie/issue\"  # 소년중앙 url\n",
        "req = requests.get(url)                                   # requests\n",
        "html = req.text\n",
        "soup = BeautifulSoup(html, \"html.parser\")\n",
        "\n",
        "news_list = soup.select(\"h2 > a\")\n",
        "news_list = [p.get(\"href\") for p in news_list]\n",
        "news_list"
      ],
      "metadata": {
        "colab": {
          "base_uri": "https://localhost:8080/"
        },
        "id": "rOVOsAaFTEP3",
        "outputId": "bd748d9b-3da8-4b9f-f2b2-b7dee9950f2f"
      },
      "execution_count": 23,
      "outputs": [
        {
          "output_type": "execute_result",
          "data": {
            "text/plain": [
              "['https://sojoong.joins.com/archives/44661',\n",
              " 'https://sojoong.joins.com/archives/44648',\n",
              " 'https://sojoong.joins.com/archives/44506',\n",
              " 'https://sojoong.joins.com/archives/44500',\n",
              " 'https://sojoong.joins.com/archives/44438',\n",
              " 'https://sojoong.joins.com/archives/44432',\n",
              " 'https://sojoong.joins.com/archives/44294',\n",
              " 'https://sojoong.joins.com/archives/44278',\n",
              " 'https://sojoong.joins.com/archives/44217',\n",
              " 'https://sojoong.joins.com/archives/44206']"
            ]
          },
          "metadata": {},
          "execution_count": 23
        }
      ]
    },
    {
      "cell_type": "code",
      "source": [
        "# [{1번},{2번},...]\n",
        "# 수도코드\n",
        "data = []\n",
        "for 문\n",
        "  json_data = {}\n",
        "  json_data[\"url\"] = url_code\n",
        "  json_data[\"title\" = title_code]\n",
        "  ...\n",
        "  data.append(json_data)"
      ],
      "metadata": {
        "id": "MFnXzXyvWcDt"
      },
      "execution_count": null,
      "outputs": []
    },
    {
      "cell_type": "code",
      "source": [
        "json_data = {}\n",
        "json_data[\"url\"] = news\n",
        "json_data[\"title\"] = \"새해복많이\"\n",
        "json_data"
      ],
      "metadata": {
        "colab": {
          "base_uri": "https://localhost:8080/"
        },
        "id": "S9ArynHSXg9u",
        "outputId": "86d0dc9a-abc8-46d9-b169-9c4e0975ee47"
      },
      "execution_count": 98,
      "outputs": [
        {
          "output_type": "execute_result",
          "data": {
            "text/plain": [
              "{'title': '새해복많이', 'url': 'https://sojoong.joins.com/archives/44559'}"
            ]
          },
          "metadata": {},
          "execution_count": 98
        }
      ]
    },
    {
      "cell_type": "code",
      "source": [
        "# 소년중앙 크롤링\n",
        "\n",
        "%%time\n",
        "import requests\n",
        "import re\n",
        "from bs4 import BeautifulSoup\n",
        "\n",
        "url = \"https://sojoong.joins.com/archives/category/nie/issue\"\n",
        "req = requests.get(url)\n",
        "html = req.text\n",
        "soup = BeautifulSoup(html, \"html.parser\")\n",
        "\n",
        "news_list = soup.select(\"h2 > a\")\n",
        "news_list = [p.get(\"href\") for p in news_list]\n",
        "\n",
        "data = []\n",
        "for news in news_list:\n",
        "    json_data = {}\n",
        "    # sub crawling\n",
        "    sub_req = requests.get(news)\n",
        "    sub_html = sub_req.text\n",
        "    sub_soup = BeautifulSoup(sub_html, \"html.parser\")\n",
        "\n",
        "    # url: 기사 원문 URL\n",
        "    json_data[\"url\"] = news\n",
        "\n",
        "    # title: 제목\n",
        "    title = sub_soup.select_one(\"h1\").text\n",
        "    title = re.sub(\"[\\r\\n]\", \"\", title).strip()\n",
        "    json_data[\"title\"] = title\n",
        "\n",
        "    # subtitle: 부제목(어린이동아는 부제 없음!)\n",
        "    subtitle = sub_soup.select(\"div.hentry > p\")[0]\n",
        "    json_data[\"subtitle\"] = subtitle\n",
        "\n",
        "    # author: 기자\n",
        "    # date: 날짜\n",
        "    meta = sub_soup.select_one(\"div.post-meta\").text.split(\"|\")\n",
        "    author = meta[0].strip()\n",
        "    date = meta[1].strip()\n",
        "\n",
        "    json_data[\"author\"] = author\n",
        "    json_data[\"date\"] = date\n",
        "\n",
        "    # article: 기사 내용\n",
        "    article = []\n",
        "    p_list = sub_soup.select(\"p\")\n",
        "    end_point = None\n",
        "    \n",
        "    for i, p in enumerate(p_list):\n",
        "        if p.get(\"class\"):\n",
        "            break\n",
        "        text = re.sub(\"[\\xa0\\u200b\\n\\r\\t]\", \"\",p.text).strip()\n",
        "        if text[-2:] == \"일자\":\n",
        "            end_point = i + 1\n",
        "        article.append(text)\n",
        "    \n",
        "    article = \" \".join(article[:end_point])\n",
        "    json_data[\"article\"] = article\n",
        "\n",
        "    # img_path: 기사 img 경로\n",
        "    img_path = sub_soup.select_one(\"figure\").a.get(\"href\")\n",
        "    json_data[\"img_path\"] = img_path\n",
        "\n",
        "    # source: 신문사\n",
        "    json_data[\"source\"] = \"소년중앙\"\n",
        "\n",
        "    data.append(json_data)"
      ],
      "metadata": {
        "colab": {
          "base_uri": "https://localhost:8080/"
        },
        "id": "b_-8Uy8WVR7V",
        "outputId": "aa15f56b-e6f4-4fb3-85fe-97dae14a7cf4"
      },
      "execution_count": 62,
      "outputs": [
        {
          "output_type": "stream",
          "name": "stdout",
          "text": [
            "CPU times: user 585 ms, sys: 17.5 ms, total: 602 ms\n",
            "Wall time: 17.2 s\n"
          ]
        }
      ]
    },
    {
      "cell_type": "code",
      "source": [
        "data"
      ],
      "metadata": {
        "colab": {
          "base_uri": "https://localhost:8080/"
        },
        "id": "gGUdQXKiXWPe",
        "outputId": "f2d0e3d9-b146-46ee-e42c-4ac8ba9e9e13"
      },
      "execution_count": 63,
      "outputs": [
        {
          "output_type": "execute_result",
          "data": {
            "text/plain": [
              "[{'article': '대폭발로 사라진 화산섬···통가의 영웅 “조국 도와달라” “통가는 도움이 절실합니다.” 남태평양 섬나라 통가의 태권도 국가대표 선수인 피타 타우파토푸아(38)가 화산 폭발과 지진해일로 피해를 본 조국을 위해 발 벗고 나섰습니다. 인구 10만 명의 통가에선 지난 15일 대규모 해저화산이 폭발했죠. 수도 누쿠알로파에서 북쪽으로 65㎞ 떨어진 훈가하파이섬 인근에서 치솟은 화산재는 직경 300㎞ 범위에 퍼져 현지는 낮에도 밤처럼 어둡습니다. 타우파토푸아는 당시 호주 애들레이드에 머물고 있어 무사했어요. 하지만 통가와의 통신이 두절되면서 가족과 연락이 끊겼죠. 어렵게 연락이 닿은 타우파토푸아는 서면 인터뷰에서 “나는 위험한 상황을 면했지만 그건 중요하지 않다. 지금 이 순간 나의 사명은 단 한 가지다. 수단·방법을 가리지 않고 통가의 상황을 전 세계인에게 알리는 것”이라고 말했습니다. 그는 “한국을 비롯한 아시아 국가에서도 어려움에 닥친 통가를 외면하지 않았으면 좋겠다”고 호소했죠. 여름·겨울을 통틀어 세 차례 올림픽 무대를 밟은 타우파토푸아는 처음 출전한 2016년 브라질 리우데자네이루 여름올림픽에서 상체를 드러낸 전통의상 투페누를 입고 개막식 기수로 등장해 유명인사가 됐습니다. 키 1m90㎝, 체중 90㎏의 탄탄한 체격에 코코넛 오일을 잔뜩 바른 근육질 몸매를 뽐냈죠. 한국에선 ‘통가 근육남’으로 화제를 모았어요. 2018 평창 겨울올림픽에선 영하 8도의 강추위에도 상의를 벗고 개막식에 나왔습니다. 그는 무너진 병원 등을 다시 짓기 위해 인스타그램에서 모금운동을 시작해 18일까지 18만 달러(약 2억1500만원) 이상을 모았어요. 유니세프(UNICEF·유엔아동기금)와 호주 정부도 이날 식수·생필품 등을 통가에 보내기로 했습니다. 통가 정부는 화산 분출로 영국 여성 앤젤라 글로버(50) 등 최소 3명이 사망하고 다수의 부상자가 발생했다고 이날 밝혔죠. 해저화산 폭발로 끊긴 통신이 복구되지 않아 정확한 인명피해 집계가 이뤄지지 못하는 상황입니다. 이번 폭발로 통가 해안과 주택 등이 처참하게 파괴된 모습이 위성사진을 통해 드러나고 있어요. 유엔의 위성사진 분석 기구인 유엔활동위성프로그램(UNOSAT)이 공개한 위성사진을 보면 통가의 최대 섬 통가타푸 등에서 붕괴한 것으로 보이는 건물이나 시설이 확인됩니다. 대지 전체가 검회색 화산재를 뒤집어 쓴 탓에 섬 전체가 마치 흑백사진처럼 변했죠. UNOSAT가 공개한 훈가하파이섬의 마을 노무카는 건물 40여 채가 파손되고, 60여 채가 화산재로 뒤덮였습니다. 뉴질랜드 언론은 인구 100명이 사는 아타타섬 역시 여러 건물이 무너진 것으로 추정된다고 보도했죠. 붙어있던 훈가통가섬과 훈가하파이섬은 화산 폭발로 인해 서로 분리된 작은 조각과 파편으로만 남았습니다. 유엔은 통가타푸섬 북쪽에 있는 하파이 군도에서 조난신호가 포착됐다며 포노이섬과망고섬이 특히 우려된다고 밝혔어요. 통가 정부에 따르면 포노이섬에는 69명, 망고섬에는 36명이 거주하고 있죠. 유엔 인도주의업무조정국(OCHA)은 “추가 화산활동도 배제할 수 없다”며 전체 피해는, 특히 외곽 쪽 섬들의 경우 아직 평가하기 어렵다고 했어요. 통가 화산 폭발과 관련해 권창우 한국지질자원연구원 책임연구원은 “이 지역은 태평양판이 호주판과 충돌하면서 그 아래로 내려가고, 이때 생기는 마찰력으로 지각이 녹아 마그마가 되는 곳”이라며 “앞으로도 지속해서 마그마가 공급될 수밖에 없는 지질학적 특성 때문에 화산 분화가 이어질 것”이라고 말했습니다. 중앙일보 1월 18·19일자',\n",
              "  'author': '한은정 기자',\n",
              "  'date': '2022.01.24 08:02',\n",
              "  'img_path': 'https://sojoong.joins.com/wp-content/uploads/sites/4/2022/01/IM00007568_20220119-143142.jpg',\n",
              "  'source': '소년중앙',\n",
              "  'subtitle': <p data-id=\"0\" data-particle-index=\"0\" data-particle-type=\"TextTemplate\" data-texttype=\"104\"><b>대폭발로 사라진 화산섬···통가의 영웅 “조국 도와달라”</b></p>,\n",
              "  'title': '[뉴스레시피] 화산 폭발로 큰 피해를 입은  통가를 돕기 위해 힘을 모아봐요',\n",
              "  'url': 'https://sojoong.joins.com/archives/44661'},\n",
              " {'article': '통가 화산 폭발, 그 영향은 어디까지일까남태평양 섬나라 통가에서 대규모 해저화산 분화가 발생했습니다. 그 여파로 1.2m 높이의 지진해일이 통가 수도 누쿠알로파를 덮치는 등 막대한 피해를 입었어요. 한때 통신이 끊기면서 소식조차 알 수 없었지만 현재는 제한적으로 연결되면서 처참하게 파괴된 주택과 해변 시설의 사진·영상이 다른 국가로 전해지고 있죠. 약 1만㎞ 떨어진 일본과 미국, 뉴질랜드 등에서도 지진해일 경보가 내려지고, 페루 북부 람바예케 해변에선 쓰나미에 휩쓸린 2명이 사망했습니다. 이번 화산 폭발은 다시 한번 자연의 위력을 실감할 수 있는 계기가 되었는데요. 추가 분화는 아직 없지만 화산 상태가 불안정해 몇 주 또는 몇 달 동안 폭발이 지속될 수 있다는 분석도 나와요. 통가 해저화산의 영향이 어디까지 미칠지 전 세계가 예의 주시하는 상황입니다.뉴스 ①거대한 버섯구름 우주서도 포착, 일본까지 쓰나미 경보남태평양 섬나라 통가에서 초대형 해저화산이 폭발해 태평양 섬나라는 물론 미국 서부 해안과 일본 등 환태평양 국가들이 쓰나미(지진·화산폭발에 따른 해일) 공포에 떨었습니다. AP통신·CNN 등에 따르면 통가 수도 누쿠알로파 북쪽 65㎞ 해역에 위치한 훈가 통가-훈가 하파이 화산이 지난 14·15일 이틀에 걸쳐 두 차례 분화했어요. 두 번째 분화(한국시간 15일 오전 1시 10분) 때 최소 8분간 큰 폭발이 이어지면서 화산재와 증기·가스 기둥이 상공 20㎞까지 치솟았고 반경 260㎞ 지역에 영향을 미쳤죠.미국 국립해양대기관리국(NOAA)이 홈페이지에 공개한 위성사진에는 화산 폭발 당시의 위력이 생생하게 잡혔습니다. 푸른 태평양 바다 위로 핵폭탄이 폭발한 듯 거대한 버섯구름이 일어나 일대를 잠식했죠. AP통신은 당시 굉음이 1만㎞ 떨어진 미국 알래스카에서 들릴 정도였다고 전했습니다. 통가의 한 주민은 “엄청난 폭발음과 함께 땅과 집이 흔들려 폭탄이 터진 줄 알았다”고 말했어요. 목격자들은 하늘이 순식간에 컴컴해지고 화산재가 비처럼 떨어졌다고 전했죠.폭발과 함께 통가 인구의 70%가 살고 있는 통가타푸섬에 강력한 쓰나미가 발생했어요. 밀려든 파도에 도로와 집이 침수돼 주민들은 긴급하게 고지대로 대피했죠. 폭발 이후 통가의 통신 서비스가 두절돼 정확한 피해 상황은 알려지지 않고 있습니다. 네트워크 관리를 맡은 서던크로스케이블네트워크는 “해저 케이블이 끊어졌는지, 단순히 정전 때문인지 파악 중”이라고 밝혔죠. 화산 폭발 직후 미국 국립기상청(NWS)은 캘리포니아·오리건·워싱턴·알래스카주에 쓰나미 주의보를 내렸어요. 캐나다·에콰도르·칠레 등 태평양 쪽으로 접한 국가와 호주 동부까지 광범위한 영역에도 쓰나미 주의보가 발령됐습니다. 일본은 통가의 해저화산 2차 분화가 있은 지 11시간가량 지난 16일 0시 15분 쓰나미 경보를 발령했다가 오후 2시에 해제했어요. NHK에 따르면 이날 정오 무렵까지 관측된 쓰나미는 아마미시 고미나토(小湊)에서 1.2ｍ로 가장 높았고 이와테현 구지(久慈)항에서 1.1ｍ를 기록했습니다. 쓰나미로 인한 사망자 보고는 없으나 주민 다수가 대피소로 옮겨 불안한 밤을 보냈죠. NHK는 8개 현(縣) 약 23만 명에게 피난 지시가 내려졌다고 집계했어요. 한국은 화산 분화 13시간 만인 16일 오전 2시 30분부터 새벽 5시까지 제주 서귀포, 모슬포, 남해안 등에서 수㎝의 파고가 일었습니다. 기상청은 “한국은 화산 분화에 따른 지진해일 영향은 없을 것”이라고 밝혔죠.중앙일보 1월 17일자뉴스②통가 정부 “해저화산 폭발로 3명 사망, 여러 명 부상”···첫 공식 집계통가 중부 하파이제도 한 마을의 분화 전(왼쪽)과 후 모습. 교도통신남태평양 섬나라 통가 정부가 대규모 해저화산 폭발로 인한 사상자 규모를 처음으로 공식 발표했다고 로이터통신이 18일(현지시각) 보도했습니다. 보도에 따르면 통가 정부는 지금까지 사망자 3명과 다수의 부상자가 보고됐다고 첫 공식 피해 집계를 밝혔죠. 해저화산 폭발로 끊긴 통신이 아직 복구되지 않아 정확한 인명 피해 파악이 이뤄지지 못한 상황이었죠.지금까지 신원이 확인된 사망자는 영국 여성 앤젤라 글로버(50)가 유일했습니다. 글로버는 자신이 운영하는 동물보호소 개들을 구하려다 파도에 휩쓸려 목숨을 잃었죠. 통가 정부는 글로버 이외에도 망고섬에서 65세 여성이, 노무카섬에서 49세 남성이 사망했다고 확인했습니다. 이어 인구 50명인 망고섬의 주택 전부가 파괴됐고, 포노이푸아섬도 2채를 제외한 나머지 주택이 모두 무너졌으며, 노무카섬도 광범위한 피해를 입었다고 설명했죠. 거처를 잃은 주민들의 대피가 진행 중이라고 전했습니다.통가의 해저화산 폭발 이후 1만㎞ 넘게 떨어진 페루 태평양 연안에도 높은 파도가 치면서 2명이 물에 휩쓸려 숨졌습니다. 페루 경찰은 16일(현지시간) 트위터에 “(북부) 나이람프 해변에서 2명이 숨진 채 발견됐다”며 “파도가 비정상적이었다”고 전했죠. 또 페루 해안에서 유조선이 기름 유출 사고를 일으키기도 했는데요. 페루 민방위 연구소는 보도자료에서 이탈리아 선적 유조선 마레 도리쿰호가 16일 태평양 연안의 라 팜피야 정유공장에 기름을 옮겨 싣던 중 강한 파도에 흔들려 유출사고를 일으켰다고 밝혔습니다. 페루 정부는 연방 및 지역 당국이 해안을 청소하기 위해 노력하고 있다고 밝혔지만 원유가 얼마나 유출되었는지는 말하지 않았죠.중앙일보 1월 17‧18일자뉴스③AFP “통가 화산 또다시 대형 분출은 오보”···각국 구호 지원남태평양 섬나라 통가 인근 해저화산이 분화한 후 일본에서 쓰나미(해일)가 관측된 가운데 16일 오전 일본 고치(高知)현 무로토시의 항구에 어선이 전복되거나 가라앉아 있다. 연합뉴스남태평양 섬나라 통가 인근에서 또 다른 대규모 화산 폭발이 관측됐다고 보도했던 AFP 통신 측이 보도가 사실이 아니라고 정정했습니다. AFP는 17일 “통가 인근에서 오전 11시 10분(현지시간) 대규모 화산 분출이 감지됐다”고 호주 다윈에 있는 관측소를 인용해 보도했지만 약 2시간 후 “새로운 분출은 확인되지 않았다”면서 먼저 송고한 기사들을 취소했죠.페니 에나레 뉴질랜드 국방부 장관은 17일 “누쿠알로파의 많은 지역에서 전력이 복구됐다”고 밝혔습니다. 다만 통신은 여전히 장애를 겪고 있죠. 태평양 횡단 통신 케이블 업체인 서던크로스케이블네트워크는 “케이블 수리에 최대 2주가 걸릴 것”이라고 말했습니다. 이날 로이터는 “통가 공항은 상대적으로 양호한 상태로 보이지만, 도로·교량은 손상이 심각하다”고 전했죠. 국제적십자사연맹(IFRC)의 케이티 그린우드 태평양 대표단장은 BBC 인터뷰에서 “화산 분출이나 이로 인한 쓰나미‧침수 등으로 통가에서 최대 8만 명이 영향을 받았을 것”이라고 했습니다.뉴질랜드와 호주는 통가 구호 활동에 나섰어요. 뉴질랜드 국방부(NZDF)는 이날 트위터를 통해 “해당 지역과 저지대 섬에 대한 초기 영향 평가를 지원하기 위한 정찰기를 파견했다”고 밝혔죠. 국제적십자사도 구호 활동에 나섰습니다. 알렉산더 마테우 적십자 아시아태평양국장은 “화산재로 오염된 식수 정화와 피난 쉼터 제공, 흩어진 가족 찾기 등이 시급한 문제”라고 전했죠. 하지만 통신이 복구되지 않아 구호마저 쉽지 않은 상황입니다. 또 코로나19 청정국인 통가가 국제 사회의 지원을 받다가 코로나19가 유입될 수 있다는 우려도 나옵니다. 중앙일보 1월 17‧18일자연관뉴스 통가 화산 폭발, 그 영향은 어디까지일까 남태평양 섬나라 통가에서 대규모 해저화산 분화가 발생했습니다. 그 여파로 1.2m 높이의 지진해일이 통가 수도 누쿠알로파를 덮치는 등 막대한 피해를 입었어요. 한때 통신이 끊기면서 소식조차 알 수 없었지만 현재는 제한적으로 연결되면서 처참하게 파괴된 주택과 해변 시설의 사진·영상이 다른 국가로 전해지고 있죠. 약 1만㎞ 떨어진 일본과 미국, 뉴질랜드 등에서도 지진해일 경보가 내려지고, 페루 북부 람바예케 해변에선 쓰나미에 휩쓸린 2명이 사망했습니다. 이번 화산 폭발은 다시 한번 자연의 위력을 실감할 수 있는 계기가 되었는데요. 추가 분화는 아직 없지만 화산 상태가 불안정해 몇 주 또는 몇 달 동안 폭발이 지속될 수 있다는 분석도 나와요. 통가 해저화산의 영향이 어디까지 미칠지 전 세계가 예의 주시하는 상황입니다.  뉴스 ①거대한 버섯구름 우주서도 포착, 일본까지 쓰나미 경보 남태평양 섬나라 통가에서 초대형 해저화산이 폭발해 태평양 섬나라는 물론 미국 서부 해안과 일본 등 환태평양 국가들이 쓰나미(지진·화산폭발에 따른 해일) 공포에 떨었습니다. AP통신·CNN 등에 따르면 통가 수도 누쿠알로파 북쪽 65㎞ 해역에 위치한 훈가 통가-훈가 하파이 화산이 지난 14·15일 이틀에 걸쳐 두 차례 분화했어요. 두 번째 분화(한국시간 15일 오전 1시 10분) 때 최소 8분간 큰 폭발이 이어지면서 화산재와 증기·가스 기둥이 상공 20㎞까지 치솟았고 반경 260㎞ 지역에 영향을 미쳤죠. 미국 국립해양대기관리국(NOAA)이 홈페이지에 공개한 위성사진에는 화산 폭발 당시의 위력이 생생하게 잡혔습니다. 푸른 태평양 바다 위로 핵폭탄이 폭발한 듯 거대한 버섯구름이 일어나 일대를 잠식했죠. AP통신은 당시 굉음이 1만㎞ 떨어진 미국 알래스카에서 들릴 정도였다고 전했습니다. 통가의 한 주민은 “엄청난 폭발음과 함께 땅과 집이 흔들려 폭탄이 터진 줄 알았다”고 말했어요. 목격자들은 하늘이 순식간에 컴컴해지고 화산재가 비처럼 떨어졌다고 전했죠. 폭발과 함께 통가 인구의 70%가 살고 있는 통가타푸섬에 강력한 쓰나미가 발생했어요. 밀려든 파도에 도로와 집이 침수돼 주민들은 긴급하게 고지대로 대피했죠. 폭발 이후 통가의 통신 서비스가 두절돼 정확한 피해 상황은 알려지지 않고 있습니다. 네트워크 관리를 맡은 서던크로스케이블네트워크는 “해저 케이블이 끊어졌는지, 단순히 정전 때문인지 파악 중”이라고 밝혔죠. 화산 폭발 직후 미국 국립기상청(NWS)은 캘리포니아·오리건·워싱턴·알래스카주에 쓰나미 주의보를 내렸어요. 캐나다·에콰도르·칠레 등 태평양 쪽으로 접한 국가와 호주 동부까지 광범위한 영역에도 쓰나미 주의보가 발령됐습니다. 일본은 통가의 해저화산 2차 분화가 있은 지 11시간가량 지난 16일 0시 15분 쓰나미 경보를 발령했다가 오후 2시에 해제했어요. NHK에 따르면 이날 정오 무렵까지 관측된 쓰나미는 아마미시 고미나토(小湊)에서 1.2ｍ로 가장 높았고 이와테현 구지(久慈)항에서 1.1ｍ를 기록했습니다. 쓰나미로 인한 사망자 보고는 없으나 주민 다수가 대피소로 옮겨 불안한 밤을 보냈죠. NHK는 8개 현(縣) 약 23만 명에게 피난 지시가 내려졌다고 집계했어요. 한국은 화산 분화 13시간 만인 16일 오전 2시 30분부터 새벽 5시까지 제주 서귀포, 모슬포, 남해안 등에서 수㎝의 파고가 일었습니다. 기상청은 “한국은 화산 분화에 따른 지진해일 영향은 없을 것”이라고 밝혔죠. 중앙일보 1월 17일자 뉴스②통가 정부 “해저화산 폭발로 3명 사망, 여러 명 부상”···첫 공식 집계 남태평양 섬나라 통가 정부가 대규모 해저화산 폭발로 인한 사상자 규모를 처음으로 공식 발표했다고 로이터통신이 18일(현지시각) 보도했습니다. 보도에 따르면 통가 정부는 지금까지 사망자 3명과 다수의 부상자가 보고됐다고 첫 공식 피해 집계를 밝혔죠. 해저화산 폭발로 끊긴 통신이 아직 복구되지 않아 정확한 인명 피해 파악이 이뤄지지 못한 상황이었죠. 지금까지 신원이 확인된 사망자는 영국 여성 앤젤라 글로버(50)가 유일했습니다. 글로버는 자신이 운영하는 동물보호소 개들을 구하려다 파도에 휩쓸려 목숨을 잃었죠. 통가 정부는 글로버 이외에도 망고섬에서 65세 여성이, 노무카섬에서 49세 남성이 사망했다고 확인했습니다. 이어 인구 50명인 망고섬의 주택 전부가 파괴됐고, 포노이푸아섬도 2채를 제외한 나머지 주택이 모두 무너졌으며, 노무카섬도 광범위한 피해를 입었다고 설명했죠. 거처를 잃은 주민들의 대피가 진행 중이라고 전했습니다. 통가의 해저화산 폭발 이후 1만㎞ 넘게 떨어진 페루 태평양 연안에도 높은 파도가 치면서 2명이 물에 휩쓸려 숨졌습니다. 페루 경찰은 16일(현지시간) 트위터에 “(북부) 나이람프 해변에서 2명이 숨진 채 발견됐다”며 “파도가 비정상적이었다”고 전했죠. 또 페루 해안에서 유조선이 기름 유출 사고를 일으키기도 했는데요. 페루 민방위 연구소는 보도자료에서 이탈리아 선적 유조선 마레 도리쿰호가 16일 태평양 연안의 라 팜피야 정유공장에 기름을 옮겨 싣던 중 강한 파도에 흔들려 유출사고를 일으켰다고 밝혔습니다. 페루 정부는 연방 및 지역 당국이 해안을 청소하기 위해 노력하고 있다고 밝혔지만 원유가 얼마나 유출되었는지는 말하지 않았죠. 중앙일보 1월 17‧18일자 뉴스③AFP “통가 화산 또다시 대형 분출은 오보”···각국 구호 지원 남태평양 섬나라 통가 인근에서 또 다른 대규모 화산 폭발이 관측됐다고 보도했던 AFP 통신 측이 보도가 사실이 아니라고 정정했습니다. AFP는 17일 “통가 인근에서 오전 11시 10분(현지시간) 대규모 화산 분출이 감지됐다”고 호주 다윈에 있는 관측소를 인용해 보도했지만 약 2시간 후 “새로운 분출은 확인되지 않았다”면서 먼저 송고한 기사들을 취소했죠. 페니 에나레 뉴질랜드 국방부 장관은 17일 “누쿠알로파의 많은 지역에서 전력이 복구됐다”고 밝혔습니다. 다만 통신은 여전히 장애를 겪고 있죠. 태평양 횡단 통신 케이블 업체인 서던크로스케이블네트워크는 “케이블 수리에 최대 2주가 걸릴 것”이라고 말했습니다. 이날 로이터는 “통가 공항은 상대적으로 양호한 상태로 보이지만, 도로·교량은 손상이 심각하다”고 전했죠. 국제적십자사연맹(IFRC)의 케이티 그린우드 태평양 대표단장은 BBC 인터뷰에서 “화산 분출이나 이로 인한 쓰나미‧침수 등으로 통가에서 최대 8만 명이 영향을 받았을 것”이라고 했습니다. 뉴질랜드와 호주는 통가 구호 활동에 나섰어요. 뉴질랜드 국방부(NZDF)는 이날 트위터를 통해 “해당 지역과 저지대 섬에 대한 초기 영향 평가를 지원하기 위한 정찰기를 파견했다”고 밝혔죠. 국제적십자사도 구호 활동에 나섰습니다. 알렉산더 마테우 적십자 아시아태평양국장은 “화산재로 오염된 식수 정화와 피난 쉼터 제공, 흩어진 가족 찾기 등이 시급한 문제”라고 전했죠. 하지만 통신이 복구되지 않아 구호마저 쉽지 않은 상황입니다. 또 코로나19 청정국인 통가가 국제 사회의 지원을 받다가 코로나19가 유입될 수 있다는 우려도 나옵니다. 중앙일보 1월 17‧18일자',\n",
              "  'author': '한은정 기자',\n",
              "  'date': '2022.01.24 08:01',\n",
              "  'img_path': 'https://sojoong.joins.com/wp-content/uploads/sites/4/2022/01/IM00007558_20220119-141716.jpg',\n",
              "  'source': '소년중앙',\n",
              "  'subtitle': <p data-id=\"0\" data-particle-index=\"0\" data-particle-type=\"TextTemplate\" data-texttype=\"104\"><div class=\"su-note\" style=\"border-color:#e4c1bc;border-radius:3px;-moz-border-radius:3px;-webkit-border-radius:3px;\"><div class=\"su-note-inner su-clearfix\" style=\"background-color:#fdd6d1;border-color:#fff7f6;color:#000000;border-radius:3px;-moz-border-radius:3px;-webkit-border-radius:3px;\">\n",
              "  <p data-id=\"0\" data-particle-index=\"0\" data-particle-type=\"TextTemplate\" data-texttype=\"104\"><b>통가 화산 폭발, 그 영향은 어디까지일까</b></p>\n",
              "  <p data-id=\"1\" data-particle-index=\"0\" data-particle-type=\"TextTemplate\" data-texttype=\"104\">남태평양 섬나라 통가에서 대규모 해저화산 분화가 발생했습니다. 그 여파로 1.2m 높이의 지진해일이 통가 수도 누쿠알로파를 덮치는 등 막대한 피해를 입었어요. 한때 통신이 끊기면서 소식조차 알 수 없었지만 현재는 제한적으로 연결되면서 처참하게 파괴된 주택과 해변 시설의 사진·영상이 다른 국가로 전해지고 있죠. 약 1만㎞ 떨어진 일본과 미국, 뉴질랜드 등에서도 지진해일 경보가 내려지고, 페루 북부 람바예케 해변에선 쓰나미에 휩쓸린 2명이 사망했습니다. 이번 화산 폭발은 다시 한번 자연의 위력을 실감할 수 있는 계기가 되었는데요. 추가 분화는 아직 없지만 화산 상태가 불안정해 몇 주 또는 몇 달 동안 폭발이 지속될 수 있다는 분석도 나와요. 통가 해저화산의 영향이 어디까지 미칠지 전 세계가 예의 주시하는 상황입니다.</p>\n",
              "  <p data-id=\"1\" data-particle-index=\"0\" data-particle-type=\"TextTemplate\" data-texttype=\"104\"></p></div></div>\n",
              "  <p data-id=\"1\" data-particle-index=\"0\" data-particle-type=\"TextTemplate\" data-texttype=\"104\"><strong><br/>뉴스 ① </strong><b>거대한 버섯구름 우주서도 포착, 일본까지 쓰나미 경보</b></p>\n",
              "  <p data-id=\"1\" data-particle-index=\"0\" data-particle-type=\"TextTemplate\" data-texttype=\"104\"><a href=\"https://sojoong.joins.com/wp-content/uploads/sites/4/2022/01/IM00007571_20220119-141654.jpg\"><img alt=\"IM00007571_20220119-141654\" class=\"aligncenter size-full wp-image-44653\" height=\"752\" src=\"https://sojoong.joins.com/wp-content/uploads/sites/4/2022/01/IM00007571_20220119-141654.jpg\" width=\"480\"/></a>남태평양 섬나라 통가에서 초대형 해저화산이 폭발해 태평양 섬나라는 물론 미국 서부 해안과 일본 등 환태평양 국가들이 쓰나미(지진·화산폭발에 따른 해일) 공포에 떨었습니다. AP통신·CNN 등에 따르면 통가 수도 누쿠알로파 북쪽 65㎞ 해역에 위치한 훈가 통가-훈가 하파이 화산이 지난 14·15일 이틀에 걸쳐 두 차례 분화했어요. 두 번째 분화(한국시간 15일 오전 1시 10분) 때 최소 8분간 큰 폭발이 이어지면서 화산재와 증기·가스 기둥이 상공 20㎞까지 치솟았고 반경 260㎞ 지역에 영향을 미쳤죠.</p>\n",
              "  <p data-id=\"5\" data-particle-index=\"0\" data-particle-type=\"TextTemplate\" data-texttype=\"104\">미국 국립해양대기관리국(NOAA)이 홈페이지에 공개한 위성사진에는 화산 폭발 당시의 위력이 생생하게 잡혔습니다. 푸른 태평양 바다 위로 핵폭탄이 폭발한 듯 거대한 버섯구름이 일어나 일대를 잠식했죠. AP통신은 당시 굉음이 1만㎞ 떨어진 미국 알래스카에서 들릴 정도였다고 전했습니다. 통가의 한 주민은 “엄청난 폭발음과 함께 땅과 집이 흔들려 폭탄이 터진 줄 알았다”고 말했어요. 목격자들은 하늘이 순식간에 컴컴해지고 화산재가 비처럼 떨어졌다고 전했죠.</p>\n",
              "  <p data-id=\"7\" data-particle-index=\"0\" data-particle-type=\"TextTemplate\" data-texttype=\"104\">폭발과 함께 통가 인구의 70%가 살고 있는 통가타푸섬에 강력한 쓰나미가 발생했어요. 밀려든 파도에 도로와 집이 침수돼 주민들은 긴급하게 고지대로 대피했죠. 폭발 이후 통가의 통신 서비스가 두절돼 정확한 피해 상황은 알려지지 않고 있습니다. 네트워크 관리를 맡은 서던크로스케이블네트워크는 “해저 케이블이 끊어졌는지, 단순히 정전 때문인지 파악 중”이라고 밝혔죠.  </p>\n",
              "  <p data-id=\"9\" data-particle-index=\"0\" data-particle-type=\"TextTemplate\" data-texttype=\"104\">화산 폭발 직후 미국 국립기상청(NWS)은 캘리포니아·오리건·워싱턴·알래스카주에 쓰나미 주의보를 내렸어요. 캐나다·에콰도르·칠레 등 태평양 쪽으로 접한 국가와 호주 동부까지 광범위한 영역에도 쓰나미 주의보가 발령됐습니다. 일본은 통가의 해저화산 2차 분화가 있은 지 11시간가량 지난 16일 0시 15분 쓰나미 경보를 발령했다가 오후 2시에 해제했어요.  </p>\n",
              "  <p data-id=\"11\" data-particle-index=\"0\" data-particle-type=\"TextTemplate\" data-texttype=\"104\">NHK에 따르면 이날 정오 무렵까지 관측된 쓰나미는 아마미시 고미나토(小湊)에서 1.2ｍ로 가장 높았고 이와테현 구지(久慈)항에서 1.1ｍ를 기록했습니다. 쓰나미로 인한 사망자 보고는 없으나 주민 다수가 대피소로 옮겨 불안한 밤을 보냈죠. NHK는 8개 현(縣) 약 23만 명에게 피난 지시가 내려졌다고 집계했어요. 한국은 화산 분화 13시간 만인 16일 오전 2시 30분부터 새벽 5시까지 제주 서귀포, 모슬포, 남해안 등에서 수㎝의 파고가 일었습니다. 기상청은 “한국은 화산 분화에 따른 지진해일 영향은 없을 것”이라고 밝혔죠.</p>\n",
              "  <p data-id=\"13\" data-particle-index=\"0\" data-particle-type=\"TextTemplate\" data-texttype=\"104\">중앙일보 1월 17일자</p>\n",
              "  <p data-id=\"13\" data-particle-index=\"0\" data-particle-type=\"TextTemplate\" data-texttype=\"104\"><b><br/>뉴스 ② </b><b>통가 정부 “해저화산 폭발로 3명 사망, 여러 명 부상”···첫 공식 집계</b></p>\n",
              "  <figure class=\"wp-caption aligncenter\" id=\"attachment_44649\" style=\"width: 1038px;\"><a href=\"https://sojoong.joins.com/wp-content/uploads/sites/4/2022/01/IM00007552_20220119-141044.jpg\"><img alt=\"통가 중부 하파이제도 한 마을의 분화 전(왼쪽)과 후 모습. 교도통신\" class=\"size-full wp-image-44649\" height=\"479\" src=\"https://sojoong.joins.com/wp-content/uploads/sites/4/2022/01/IM00007552_20220119-141044.jpg\" width=\"1038\"/></a><figcaption class=\"wp-caption-text\">통가 중부 하파이제도 한 마을의 분화 전(왼쪽)과 후 모습. 교도통신</figcaption></figure>\n",
              "  <p data-id=\"17\" data-particle-index=\"0\" data-particle-type=\"TextTemplate\" data-texttype=\"104\">남태평양 섬나라 통가 정부가 대규모 해저화산 폭발로 인한 사상자 규모를 처음으로 공식 발표했다고 로이터통신이 18일(현지시각) 보도했습니다. 보도에 따르면 통가 정부는 지금까지 사망자 3명과 다수의 부상자가 보고됐다고 첫 공식 피해 집계를 밝혔죠. 해저화산 폭발로 끊긴 통신이 아직 복구되지 않아 정확한 인명 피해 파악이 이뤄지지 못한 상황이었죠.  </p>\n",
              "  <p data-id=\"18\" data-particle-index=\"0\" data-particle-type=\"TextTemplate\" data-texttype=\"104\">지금까지 신원이 확인된 사망자는 영국 여성 앤젤라 글로버(50)가 유일했습니다. 글로버는 자신이 운영하는 동물보호소 개들을 구하려다 파도에 휩쓸려 목숨을 잃었죠. 통가 정부는 글로버 이외에도 망고섬에서 65세 여성이, 노무카섬에서 49세 남성이 사망했다고 확인했습니다. 이어 인구 50명인 망고섬의 주택 전부가 파괴됐고, 포노이푸아섬도 2채를 제외한 나머지 주택이 모두 무너졌으며, 노무카섬도 광범위한 피해를 입었다고 설명했죠. 거처를 잃은 주민들의 대피가 진행 중이라고 전했습니다.</p>\n",
              "  <p data-id=\"20\" data-particle-index=\"0\" data-particle-type=\"TextTemplate\" data-texttype=\"104\">통가의 해저화산 폭발 이후 1만㎞ 넘게 떨어진 페루 태평양 연안에도 높은 파도가 치면서 2명이 물에 휩쓸려 숨졌습니다. 페루 경찰은 16일(현지시간) 트위터에 “(북부) 나이람프 해변에서 2명이 숨진 채 발견됐다”며 “파도가 비정상적이었다”고 전했죠. 또 페루 해안에서 유조선이 기름 유출 사고를 일으키기도 했는데요. 페루 민방위 연구소는 보도자료에서 이탈리아 선적 유조선 마레 도리쿰호가 16일 태평양 연안의 라 팜피야 정유공장에 기름을 옮겨 싣던 중 강한 파도에 흔들려 유출사고를 일으켰다고 밝혔습니다. 페루 정부는 연방 및 지역 당국이 해안을 청소하기 위해 노력하고 있다고 밝혔지만 원유가 얼마나 유출되었는지는 말하지 않았죠.</p>\n",
              "  <p data-id=\"22\" data-particle-index=\"0\" data-particle-type=\"TextTemplate\" data-texttype=\"104\">중앙일보 1월 17‧18일자</p>\n",
              "  <p data-id=\"22\" data-particle-index=\"0\" data-particle-type=\"TextTemplate\" data-texttype=\"104\"><b><strong><br/>뉴스 ③ </strong></b><b>AFP “통가 화산 또다시 대형 분출은 오보”···각국 구호 지원</b></p>\n",
              "  <figure class=\"wp-caption aligncenter\" id=\"attachment_44650\" style=\"width: 709px;\"><a href=\"https://sojoong.joins.com/wp-content/uploads/sites/4/2022/01/IM00007557_20220119-141044.jpg\"><img alt=\"남태평양 섬나라 통가 인근 해저 화산이 분화한 후 일본에서 쓰나미(해일)가 관 측된 가운데 16일 오전 일본 고치(高知)현 무로토시의 항구에 어선이 전복되거나 가라앉아 있다. 연합뉴스\" class=\"size-full wp-image-44650\" height=\"883\" src=\"https://sojoong.joins.com/wp-content/uploads/sites/4/2022/01/IM00007557_20220119-141044.jpg\" width=\"709\"/></a><figcaption class=\"wp-caption-text\">남태평양 섬나라 통가 인근 해저화산이 분화한 후 일본에서 쓰나미(해일)가 관측된 가운데 16일 오전 일본 고치(高知)현 무로토시의 항구에 어선이 전복되거나 가라앉아 있다. 연합뉴스</figcaption></figure>\n",
              "  <p data-id=\"26\" data-particle-index=\"0\" data-particle-type=\"TextTemplate\" data-texttype=\"104\">남태평양 섬나라 통가 인근에서 또 다른 대규모 화산 폭발이 관측됐다고 보도했던 AFP 통신 측이 보도가 사실이 아니라고 정정했습니다. AFP는 17일 “통가 인근에서 오전 11시 10분(현지시간) 대규모 화산 분출이 감지됐다”고 호주 다윈에 있는 관측소를 인용해 보도했지만 약 2시간 후 “새로운 분출은 확인되지 않았다”면서 먼저 송고한 기사들을 취소했죠.</p>\n",
              "  <p data-id=\"27\" data-particle-index=\"0\" data-particle-type=\"TextTemplate\" data-texttype=\"104\">페니 에나레 뉴질랜드 국방부 장관은 17일 “누쿠알로파의 많은 지역에서 전력이 복구됐다”고 밝혔습니다. 다만 통신은 여전히 장애를 겪고 있죠. 태평양 횡단 통신 케이블 업체인 서던크로스케이블네트워크는 “케이블 수리에 최대 2주가 걸릴 것”이라고 말했습니다. 이날 로이터는 “통가 공항은 상대적으로 양호한 상태로 보이지만, 도로·교량은 손상이 심각하다”고 전했죠. 국제적십자사연맹(IFRC)의 케이티 그린우드 태평양 대표단장은 BBC 인터뷰에서 “화산 분출이나 이로 인한 쓰나미‧침수 등으로 통가에서 최대 8만 명이 영향을 받았을 것”이라고 했습니다.</p>\n",
              "  <p data-id=\"29\" data-particle-index=\"0\" data-particle-type=\"TextTemplate\" data-texttype=\"104\">뉴질랜드와 호주는 통가 구호 활동에 나섰어요. 뉴질랜드 국방부(NZDF)는 이날 트위터를 통해 “해당 지역과 저지대 섬에 대한 초기 영향 평가를 지원하기 위한 정찰기를 파견했다”고 밝혔죠. 국제적십자사도 구호 활동에 나섰습니다. 알렉산더 마테우 적십자 아시아태평양국장은 “화산재로 오염된 식수 정화와 피난 쉼터 제공, 흩어진 가족 찾기 등이 시급한 문제”라고 전했죠. 하지만 통신이 복구되지 않아 구호마저 쉽지 않은 상황입니다. 또 코로나19 청정국인 통가가 국제 사회의 지원을 받다가 코로나19가 유입될 수 있다는 우려도 나옵니다.  </p>\n",
              "  <p data-id=\"31\" data-particle-index=\"0\" data-particle-type=\"TextTemplate\" data-texttype=\"104\">중앙일보 1월 17‧18일자</p>\n",
              "  <div class=\"yarpp-related yarpp-related-none\">\n",
              "  <h3>연관뉴스</h3>\n",
              "  </div>\n",
              "  </p>,\n",
              "  'title': '[위클리이슈] 통가 화산 폭발, 그 영향은 어디까지일까',\n",
              "  'url': 'https://sojoong.joins.com/archives/44648'},\n",
              " {'article': '‘1800억대 상장사 횡령사건’ 기업 투명성 제고 계기로 삼아야 1800억원대의 역대급 횡령 사건으로 투자자들을 패닉에 빠뜨린 오스템임플란트의 재무관리 담당 이모씨가 지난 5일 밤 경찰에 검거됐습니다. 아내 명의의 경기도 파주 소재 4층 건물에 숨어 있다가 붙잡혔는데, 지난달 30일 잠적 직전 파주 건물을 부인과 여동생 등에게 증여한 정황, 1㎏짜리 금괴 851개를 매입한 사실도 확인됐죠. 금융사기 사건을 다룬 영화에서나 볼 수 있는 엽기적 행각입니다. 체포 당시 이씨는 혐의를 대체로 인정한 것으로 전해졌어요. 국내 1위 임플란트 제조업체인 오스템임플란트는 시가총액이 2조원에 이르는 코스닥 20위권의 우량기업이죠. 회사 측은 이씨의 단독 범행이라 주장하지만 석연찮은 구석이 적지 않습니다. 사건의 전모는 경찰 수사를 통해 밝혀지겠지만, 무엇보다 중요한 것은 투자자들의 피해를 최소화하는 것인데요. 세계 10위의 경제국에서 이런 후진적 범죄가 재발하지 않도록 금융감독 당국의 조치가 뒤따라야 함은 물론입니다. 이번 사건은 회사 측이 이씨를 횡령 혐의로 고소했다고 지난 3일 공시하면서 알려졌죠. 횡령액 1880억원은 자기자본 2047억원의 92%, 2020년 영업이익 981억원의 두 배에 달합니다. 회사 측은 이씨가 3개월간 운영자금의 잔액 증명 서류를 위조하는 방식으로 돈을 빼돌렸다고 밝혔죠. 이번 사건이 ‘개인의 일탈’이라는 것입니다. 하지만 자본시장에 공개된 기업에서 직원 한 명이 3개월간 회사 재산을 사실상 통째로 빼돌리는데도 전혀 몰랐다는 주장은 납득하기 어려워요. ‘내부 공모설’ 등이 나오는 이유이기도 하죠. 외국인 지분율 44%, 소액주주는 2만 명에 이르는 이 회사 주식은 관련 공시가 난 지난 3일부터 거래가 정지됐습니다. 한국거래소는 오는 24일까지 거래 재개 여부를 결정하지만, 상장 폐지라는 최악의 상황을 피하더라도 주가 하락에 따른 투자자들의 손실은 불가피해 보입니다. 포털 종목 게시판에는 ‘퇴직금을 다 넣었다’, ‘밥이 안 넘어간다’, ‘가슴이 터질 것 같다’ 등의 성토가 이어지고 있어요. 회사 측은 투자자들의 피해 최소화에 최선을 다하겠다고 알려졌지만 현실적으로 어떤 대책을 내놓을 수 있을지 의문입니다. 오스템임플란트의 횡령 및 회계 논란은 처음이 아닌데요. 2018년 4분기와 2019년 2분기 실적 발표 때 1000억원 넘는 분기 매출을 내고도 영업이익이 각각 3억원, 77억원에 그쳐 회계 논란이 일었습니다. 창업주 최규옥 회장은 2016년 횡령·배임 혐의로 유죄를 선고받기도 했죠. 경찰은 이씨의 신병을 확보한 만큼 신속하고도 철저한 수사를 통해 구체적인 범행 경위와 공범 존재 여부, 횡령금 행방 등을 밝혀내야 합니다. 고승범 금융위원장은 6일 이번 사태와 관련, “사법적인 절차와는 별개로 주식시장에서 교란 행위 문제, 투자자 보호, 소액주주 문제 등 이런 부분에 대해 면밀히 볼 것”이라면서 “필요한 조치가 있다면 생각해보도록 하겠다”고 말했죠. 금융감독 당국도 부실 회계 논란에 대해 감리 착수 여부를 검토하기로 했으니 시간이 지나면 사태의 전말이 드러날 것입니다. 회사 측은 횡령금 중 1500억원 정도는 회수가 가능할 것으로 보는데, 설령 그렇더라도 주주들의 피해 우려는 단기간에 해소되지 않을 것입니다. 한국 기업의 주가는 외국 기업에 비해 저평가된 측면이 강해요. 이른바 ‘코리아 디스카운트’ 현상인데, 남북 대치 문제가 크지만 지배구조나 회계의 불투명성도 원인으로 꼽히죠. 코스닥 상장사의 횡령·배임 공시 사례만 지난 1년 새 50건이 넘죠. 한국의 경제 규모를 떠나 ESG(환경·사회·지배구조) 경영이 핵심 화두로 떠오른 시대에 이는 매우 창피한 일입니다. 더불어민주당 이재명 대선 후보는 지난 3일 증시 개장식에서 “개인 투자자들이 한국 시장에서 배신감을 느껴 떠나는 경우가 없지 않다. 이를 해소하기 위해서는 투명성을 확보해야 한다”고, 국민의힘 윤석열 후보는 “회계 처리의 낮은 신뢰도의 문제를 지속적으로 개선해야 한다”고 역설했죠. ‘코리아 디스카운트’ 극복을 위한 과제의 하나로 투명성 제고를 내세운 것인데, 두 후보의 주문처럼 이번 오스템임플란트 횡령 사태는 한국 기업의 내부 통제와 감시 시스템을 강화하고 회계·경영의 투명성을 제고하는 계기가 되어야 합니다. ‘글로벌 스탠더드’를 외면하고서는 어떤 기업도 생존을 기약할 수 없습니다. 연합뉴스 1월 6일자',\n",
              "  'author': '한은정 기자',\n",
              "  'date': '2022.01.17 08:31',\n",
              "  'img_path': 'https://sojoong.joins.com/wp-content/uploads/sites/4/2022/01/IM00006350_20220112-171033.jpg',\n",
              "  'source': '소년중앙',\n",
              "  'subtitle': <p data-id=\"0\" data-particle-index=\"0\" data-particle-type=\"TextTemplate\" data-texttype=\"104\"><b>‘1800억대 상장사 횡령사건’ 기업 투명성 제고 계기로 삼아야</b></p>,\n",
              "  'title': '[뉴스레시피] 횡령 범죄를 보고 느낀 점과 문제 해결 방법을 위한 여러분의 생각을 공유해주세요',\n",
              "  'url': 'https://sojoong.joins.com/archives/44506'},\n",
              " {'article': ' 계속되는 거액 횡령 범죄, 무엇이 문제인가국내 1위 임플란트 업체이자 코스닥 20위권 상장기업 오스템임플란트에서 대규모 횡령 사건이 발생했습니다. 한 명의 직원이 수천억원에 달하는 회삿돈을 빼돌린 것인데 일각에서는 회사 윗선 개입 의혹도 나오고 있죠. 현재 오스템임플란트 주식은 거래정지됐고, 상장적격성 실질심사 절차로 들어가 주주들에게 피해가 발생할 개연성이 크죠. 횡령이라는 형사사건의 실체규명과 피해액 회수에서 문제가 그치지 않고 회사 자체가 상장기업으로서의 적격 평가를 받게 되기 때문이에요. 범행을 저지른 직원이 구속되면서 공범관계 여부와 횡령금 회수에도 귀추가 주목되죠. 거액의 횡령 범죄, 무엇이 문제이고 그 피해는 누구에게 돌아가는지 이번 사건을 토대로 생각해보세요. 뉴스 ①직원 한 명이 회삿돈 1880억 털었다···오스템 횡령 미스터리‘회삿돈 1880억원 횡령’ 혐의를 받는 오스템임플란트 직원 이모씨가 6일 새벽 서울 강서경찰서로 압송되고 있다. 뉴스1국내 1위 임플란트 업체인 오스템임플란트에서 회삿돈 1880억원을 빼돌린 혐의를 받는 자금관리 직원 이모(45)씨가 8일 구속됐습니다. 오스템임플란트 측은 지난달 31일 이씨를 업무상 횡령(특정경제범죄 가중처벌 등에 관한 법률 위반) 혐의로 고소했고, 이씨는 도주 끝에 지난 5일 경기도 파주시의 한 건물에서 경찰에게 붙잡혔어요. 이후 오스템임플란트는 이씨의 전체 횡령 금액은 2215억원이고, 실제 피해액은 2021년 3월과 2020년 4분기에 각각 횡령했다 회사로 반환한 100억원, 235억원을 제외한 1880억원으로 동일하다고 밝히는 한편 이씨의 가족도 범죄수익은닉 혐의로 고소했죠. 이씨가 범행 예행연습을 해본 듯한 정황도 포착됐어요. 경찰 등에 따르면 이씨는 지난해 3월 회삿돈 50억원을 자신의 계좌로 송금했다가 되돌려놓고, 얼마 후 같은 액수의 돈을 꺼냈다가 한 번 더 되돌려놨습니다. 이후 다섯 차례에 걸쳐 480억원을, 같은 해 10월엔 한 번에 1400억원을 자신의 계좌로 보냈다고 해요. 이씨는 횡령금을 주식과 금괴, 부동산, 현금 등으로 분산시켰습니다. 1000억원대 주식 거래를 비롯, 한국금거래소에서 1kg짜리 금괴 851개, 약 680억원 어치를 사들이고, 부인과 처제 명의로 약 75억원 규모의 부동산을 매입한 것으로도 조사됐습니다. 경찰은 이씨 체포 당시 250억원 상당의 증권 계좌와 금괴 497㎏, 현금 4억3000만원을 압수했죠. 수사당국은 횡령금의 자금 흐름을 쫓는 한편 공범 여부도 수사하고 있어요.한편, 지난 3일 오스템임플란트의 주식 거래가 중단되며 개인 투자자들은 충격에 휩싸였습니다. 한국거래소 코스닥시장본부는 오는 24일까지 상장 적격성 실질심사 대상 여부를 판단할 예정이죠. 실질심사 대상에서 제외돼 거래가 재개되더라도 주가 하락을 피하긴 어려울 전망이에요. 횡령액이 큰 만큼 회수가 어려워질 경우 지난해 영업 외 손실로 반영될 가능성이 있고, 부실 경영과 내부 통제 미비 등의 논란도 불거졌기 때문입니다. 주식 거래 정지에 이어 개인투자자는 또 다른 날벼락을 맞았습니다. 오스템임플란트 주식을 담보로 받은 대출의 만기 연장이 막히면서죠. 횡령 사건으로 인한 피해가 확산하자 소액주주가 집단 소송에 나설 움직임도 있습니다. 중앙일보 1월 4‧6‧8‧10일자뉴스② 오스템도, 삼성도 당했다···회삿돈 손댄 ‘간 큰’ 봉급쟁이들국내 1위 임플란트 업체인 오스템임플란트에서 자금담당 간부 한 명이 1800억원대 회삿돈을 몰래 빼내는 사건이 발생했습니다. 정보기술 발달로 기업의 회계 시스템이 촘촘해지고, 컴플라이언스(준법감시)도 강화됐지만 ‘간 큰’ 봉급쟁이들의 일탈 앞에서 속수무책이었죠.4일 관련 업계에 따르면 사내 임직원에 의한 금전 사건으론 2009년 동아건설 횡령 사건이 회자됐습니다. 당시 동아건설 재경팀 A부장이 회사 공금 1000억원과 신탁자금 898억원을 빼돌린 혐의(특정경제범죄가중처벌법상 횡령 등)로 구속됐죠. 그러나 A부장의 공금 횡령은 898억원에 그치지 않은 것으로 드러났습니다. 앞서 2004년부터 2008년까지 반복적으로 총 1000억원의 공금을 빼돌린 게 추가로 밝혀졌죠. A부장의 횡령엔 동아건설 부하직원, 시중은행 담당자가 가담한 것으로 확인됐습니다. 2012년에는 삼성전자 경리부 B대리가 100억원대 회삿돈을 횡령하는 사건이 발생했어요. 그는 은행 전표 등 입출금 관련 서류를 위조해 빼돌린 돈으로 도박에 탕진한 것으로 확인됐습니다. 체계적인 시스템을 갖춰 ‘관리의 삼성’이라고 불리는데도, 당시 눈치챈 사람이 없었기에 충격이 컸어요.2016년엔 납품업자와 공모해 회삿돈 180억원을 빼돌린 대우조선해양 옥포조선소 C차장이 구속됐죠. 그는 회사 비품을 구매하면서 허위 거래명세서를 만드는 방법으로 7년여에 걸쳐 거액을 횡령했습니다. 그는 빼돌린 돈으로 아파트·상가·명품 등을 구매하며 호화 생활을 즐긴 것으로 드러나 충격을 줬죠. 당시 대우조선해양은 대규모 영업손실로 공적 자금이 투입되던 터라 사회적 공분이 일었습니다.중앙일보 1월 4일자 뉴스③85억원 빼돌린 수자원공사 직원에게 징역 15년 구형박재현 한국수자원공사 사장이 지난 10월 서울 여의도 국회에서 열린 제9차 환경노동위원회에서 한국수자원공사 직원의 부산 에코델타시티사업 횡령사건과 관련해 의원의 질의에 답하고 있다. 뉴스1부산지역 부동산 개발 사업 관련 업무를 수행하며 수년간 85억원을 빼돌린 혐의로 재판에 넘겨진 한국수자원공사 직원에게 징역 15년이 구형됐습니다. 부산지법 서부지원 형사1부(이진혁 부장판사) 심리로 10일 열린 공판에서 검찰은 특정경제범죄 가중처벌 등에 관한 법률 위반(업무상 횡령) 등 혐의로 구속기소된 한국수자원공사 부산 에코델타시티 사업단 직원 A씨에게 이 같은 징역형과 추징금 83억9200여만원, 벌금 10억원을 구형했죠.이날 재판은 첫 공판이었지만 A씨가 혐의를 인정하고 추가 증거 제출이 없어 결심공판으로 진행됐습니다. 검찰은 2014년 1월∼2020년 11월 에코델타시티 사업 회계 업무를 담당하면서 수차례에 걸쳐 수자원공사 본사에 사업 부지 취득세 대금을 이중 청구하는 수법으로 사업비를 몰래 빼내 가로챈 혐의로 A씨를 재판에 넘겼습니다. A씨는 본사에 취득세 납부고지서를 제출한 뒤 대금을 받아 취득세를 납부하면서 이미 제출했던 납부고지서를 수차례에 걸쳐 다시 올리는 수법으로 취득세 대금을 받아 빼돌렸어요.A씨는 용지 매입과 보상 후 소유권 이전 등기를 위해 취득세를 납부하는 과정의 허점을 노린 것으로 알려졌습니다. 검찰에 따르면 A씨는 모두 150여 차례에 걸쳐 허위로 입력한 뒤 돈을 인출했습니다. 이날 법정에 선 A씨는 공소사실을 모두 인정하며 횡령한 돈을 도박으로 탕진했다고 밝혔죠. A씨에 대한 선고는 다음 달 10일 열릴 예정이에요. 지난해 10월 수자원공사는 내부 종합 감사에서 이 같은 정황을 포착하고 경찰에 고소장을 제출했습니다.경찰은 A씨가 은행 계좌에서 돈을 중복해서 받은 사실 등을 확인하고 지난달 검찰에 사건을 넘겼습니다.연합뉴스 1월 10일자연관뉴스 계속되는 거액 횡령 범죄, 무엇이 문제인가 국내 1위 임플란트 업체이자 코스닥 20위권 상장기업 오스템임플란트에서 대규모 횡령 사건이 발생했습니다. 한 명의 직원이 수천억원에 달하는 회삿돈을 빼돌린 것인데 일각에서는 회사 윗선 개입 의혹도 나오고 있죠. 현재 오스템임플란트 주식은 거래정지됐고, 상장적격성 실질심사 절차로 들어가 주주들에게 피해가 발생할 개연성이 크죠. 횡령이라는 형사사건의 실체규명과 피해액 회수에서 문제가 그치지 않고 회사 자체가 상장기업으로서의 적격 평가를 받게 되기 때문이에요. 범행을 저지른 직원이 구속되면서 공범관계 여부와 횡령금 회수에도 귀추가 주목되죠. 거액의 횡령 범죄, 무엇이 문제이고 그 피해는 누구에게 돌아가는지 이번 사건을 토대로 생각해보세요.  뉴스 ①직원 한 명이 회삿돈 1880억 털었다···오스템 횡령 미스터리 국내 1위 임플란트 업체인 오스템임플란트에서 회삿돈 1880억원을 빼돌린 혐의를 받는 자금관리 직원 이모(45)씨가 8일 구속됐습니다. 오스템임플란트 측은 지난달 31일 이씨를 업무상 횡령(특정경제범죄 가중처벌 등에 관한 법률 위반) 혐의로 고소했고, 이씨는 도주 끝에 지난 5일 경기도 파주시의 한 건물에서 경찰에게 붙잡혔어요. 이후 오스템임플란트는 이씨의 전체 횡령 금액은 2215억원이고, 실제 피해액은 2021년 3월과 2020년 4분기에 각각 횡령했다 회사로 반환한 100억원, 235억원을 제외한 1880억원으로 동일하다고 밝히는 한편 이씨의 가족도 범죄수익은닉 혐의로 고소했죠. 이씨가 범행 예행연습을 해본 듯한 정황도 포착됐어요. 경찰 등에 따르면 이씨는 지난해 3월 회삿돈 50억원을 자신의 계좌로 송금했다가 되돌려놓고, 얼마 후 같은 액수의 돈을 꺼냈다가 한 번 더 되돌려놨습니다. 이후 다섯 차례에 걸쳐 480억원을, 같은 해 10월엔 한 번에 1400억원을 자신의 계좌로 보냈다고 해요. 이씨는 횡령금을 주식과 금괴, 부동산, 현금 등으로 분산시켰습니다. 1000억원대 주식 거래를 비롯, 한국금거래소에서 1kg짜리 금괴 851개, 약 680억원 어치를 사들이고, 부인과 처제 명의로 약 75억원 규모의 부동산을 매입한 것으로도 조사됐습니다. 경찰은 이씨 체포 당시 250억원 상당의 증권 계좌와 금괴 497㎏, 현금 4억3000만원을 압수했죠. 수사당국은 횡령금의 자금 흐름을 쫓는 한편 공범 여부도 수사하고 있어요. 한편, 지난 3일 오스템임플란트의 주식 거래가 중단되며 개인 투자자들은 충격에 휩싸였습니다. 한국거래소 코스닥시장본부는 오는 24일까지 상장 적격성 실질심사 대상 여부를 판단할 예정이죠. 실질심사 대상에서 제외돼 거래가 재개되더라도 주가 하락을 피하긴 어려울 전망이에요. 횡령액이 큰 만큼 회수가 어려워질 경우 지난해 영업 외 손실로 반영될 가능성이 있고, 부실 경영과 내부 통제 미비 등의 논란도 불거졌기 때문입니다. 주식 거래 정지에 이어 개인투자자는 또 다른 날벼락을 맞았습니다. 오스템임플란트 주식을 담보로 받은 대출의 만기 연장이 막히면서죠. 횡령 사건으로 인한 피해가 확산하자 소액주주가 집단 소송에 나설 움직임도 있습니다. 중앙일보 1월 4‧6‧8‧10일자 뉴스② 오스템도, 삼성도 당했다···회삿돈 손댄 ‘간 큰’ 봉급쟁이들  국내 1위 임플란트 업체인 오스템임플란트에서 자금담당 간부 한 명이 1800억원대 회삿돈을 몰래 빼내는 사건이 발생했습니다. 정보기술 발달로 기업의 회계 시스템이 촘촘해지고, 컴플라이언스(준법감시)도 강화됐지만 ‘간 큰’ 봉급쟁이들의 일탈 앞에서 속수무책이었죠. 4일 관련 업계에 따르면 사내 임직원에 의한 금전 사건으론 2009년 동아건설 횡령 사건이 회자됐습니다. 당시 동아건설 재경팀 A부장이 회사 공금 1000억원과 신탁자금 898억원을 빼돌린 혐의(특정경제범죄가중처벌법상 횡령 등)로 구속됐죠. 그러나 A부장의 공금 횡령은 898억원에 그치지 않은 것으로 드러났습니다. 앞서 2004년부터 2008년까지 반복적으로 총 1000억원의 공금을 빼돌린 게 추가로 밝혀졌죠. A부장의 횡령엔 동아건설 부하직원, 시중은행 담당자가 가담한 것으로 확인됐습니다. 2012년에는 삼성전자 경리부 B대리가 100억원대 회삿돈을 횡령하는 사건이 발생했어요. 그는 은행 전표 등 입출금 관련 서류를 위조해 빼돌린 돈으로 도박에 탕진한 것으로 확인됐습니다. 체계적인 시스템을 갖춰 ‘관리의 삼성’이라고 불리는데도, 당시 눈치챈 사람이 없었기에 충격이 컸어요. 2016년엔 납품업자와 공모해 회삿돈 180억원을 빼돌린 대우조선해양 옥포조선소 C차장이 구속됐죠. 그는 회사 비품을 구매하면서 허위 거래명세서를 만드는 방법으로 7년여에 걸쳐 거액을 횡령했습니다. 그는 빼돌린 돈으로 아파트·상가·명품 등을 구매하며 호화 생활을 즐긴 것으로 드러나 충격을 줬죠. 당시 대우조선해양은 대규모 영업손실로 공적 자금이 투입되던 터라 사회적 공분이 일었습니다. 중앙일보 1월 4일자 뉴스③85억원 빼돌린 수자원공사 직원에게 징역 15년 구형 부산지역 부동산 개발 사업 관련 업무를 수행하며 수년간 85억원을 빼돌린 혐의로 재판에 넘겨진 한국수자원공사 직원에게 징역 15년이 구형됐습니다. 부산지법 서부지원 형사1부(이진혁 부장판사) 심리로 10일 열린 공판에서 검찰은 특정경제범죄 가중처벌 등에 관한 법률 위반(업무상 횡령) 등 혐의로 구속기소된 한국수자원공사 부산 에코델타시티 사업단 직원 A씨에게 이 같은 징역형과 추징금 83억9200여만원, 벌금 10억원을 구형했죠. 이날 재판은 첫 공판이었지만 A씨가 혐의를 인정하고 추가 증거 제출이 없어 결심공판으로 진행됐습니다. 검찰은 2014년 1월∼2020년 11월 에코델타시티 사업 회계 업무를 담당하면서 수차례에 걸쳐 수자원공사 본사에 사업 부지 취득세 대금을 이중 청구하는 수법으로 사업비를 몰래 빼내 가로챈 혐의로 A씨를 재판에 넘겼습니다. A씨는 본사에 취득세 납부고지서를 제출한 뒤 대금을 받아 취득세를 납부하면서 이미 제출했던 납부고지서를 수차례에 걸쳐 다시 올리는 수법으로 취득세 대금을 받아 빼돌렸어요. A씨는 용지 매입과 보상 후 소유권 이전 등기를 위해 취득세를 납부하는 과정의 허점을 노린 것으로 알려졌습니다. 검찰에 따르면 A씨는 모두 150여 차례에 걸쳐 허위로 입력한 뒤 돈을 인출했습니다. 이날 법정에 선 A씨는 공소사실을 모두 인정하며 횡령한 돈을 도박으로 탕진했다고 밝혔죠. A씨에 대한 선고는 다음 달 10일 열릴 예정이에요. 지난해 10월 수자원공사는 내부 종합 감사에서 이 같은 정황을 포착하고 경찰에 고소장을 제출했습니다.경찰은 A씨가 은행 계좌에서 돈을 중복해서 받은 사실 등을 확인하고 지난달 검찰에 사건을 넘겼습니다. 연합뉴스 1월 10일자',\n",
              "  'author': '한은정 기자',\n",
              "  'date': '2022.01.17 08:30',\n",
              "  'img_path': 'https://sojoong.joins.com/wp-content/uploads/sites/4/2022/01/IM00006353_20220112-170944.jpg',\n",
              "  'source': '소년중앙',\n",
              "  'subtitle': <p data-id=\"0\" data-particle-index=\"0\" data-particle-type=\"TextTemplate\" data-texttype=\"104\"><a href=\"https://sojoong.joins.com/wp-content/uploads/sites/4/2022/01/IM00006580_20220113-131810.jpg\"><img alt=\"arrest for corruption - handcuffed holding dollars\" class=\"aligncenter size-full wp-image-44504\" height=\"1803\" src=\"https://sojoong.joins.com/wp-content/uploads/sites/4/2022/01/IM00006580_20220113-131810.jpg\" width=\"3307\"/></a></p>,\n",
              "  'title': '[위클리이슈] 계속되는 거액 횡령 범죄, 무엇이 문제인가',\n",
              "  'url': 'https://sojoong.joins.com/archives/44500'},\n",
              " {'article': \" 코로나에 더 힘든 장애인…외출 줄고 병원 방문도 급감 20일 보건복지부가 발표한 ‘2020년 장애인실태조사’ 결과 신종 코로나바이러스 감염증(코로나19)이 외출 빈도 감소 등 장애인 생활에 악영향을 준 것으로 나타났어요. 장애인 인구 및 일반현황으로 우리나라의 등록 장애인은 262만3000명(2020년 5월 기준)으로 2017년에 비해 약 4만2000명 증가하는 등 지속적인 증가 추세를 나타냈어요. 장애인의 32.4%는 최근 1년간 병의원에 가고 싶을 때 가지 못한 경험이 있는 것으로 나타나 2017년(17%)에 비해 큰 폭으로 상승했죠. 병의원에 가지 못한 주된 이유로는 △의료기관까지 이동 불편 △경제적 이유 △증상이 가벼워서 등으로 응답했으며, 코로나19 등으로 장애인 외출 빈도가 감소한 것도 영향을 미친 것으로 보여요. 지난 1개월 간 장애인의 외출 빈도는 거의 매일 외출하는 경우가 45.4%로 2017년에 비해 큰 폭으로 감소했으며, 전혀 외출하지 않는 경우는 8.8%로 약 2배 정도 늘어난 것으로 나타났어요. 외출하지 않은 이유는 ‘장애로 인한 불편함’이 가장 큰 이유이며 △코로나19로 인해 △하고 싶지 않아서 △도우미 부재 등으로 응답했어요. 교통수단 이용 시 장애인의 39.8%가 어려움을 느끼는 것으로 나타나 2017년에 비해 증가했어요. 교통수단 이용이 어려운 이유는 ‘버스·택시가 불편해서'(52.6%), ‘장애인 콜택시 등 전용교통수단 부족'(17.4%), ‘지하철 편의시설 부족'(12.1%)의 순으로 높았어요. 다만, 버스‧택시 불편, 장애인 전용 교통수단 부족, 지하철 편의시설 부족으로 인한 어려움 비율은 2014년, 2017년에 비해서 감소 경향을 보입니다. 뉴스1 2021년 4월 20일자  “기재부가 예산 막는 한 법안 휴짓조각”…장애인단체 5호선 승하차 시위 장애인단체들이 기획재정부에 장애인의 권리보장을 위한 예산 반영을 촉구하는 새해 첫 지하철 승하차 시위를 전개했어요. 전국장애인차별철폐연대 등은 3일 오후 서울 지하철 5호선 광화문역 승강장에서 기자회견을 열고 “장애인의 이동권과 기본권, 생존권을 기재부가 예산으로 책임있게 배정해야 한다”고 촉구했어요. 시위는 지난해 12월 31일 국회 본회의를 통과한 ‘교통약자의 이동편의 증진법(교통약자법) 개정안’ 가운데 장애인 콜택시와 같은 특별교통수단과 이를 지원하기 위한 광역이동지원센터 관련 예산 조항이 의무가 아닌 임의조항에 그친 데 따른 것입니다. 개정안은 국가 또는 지방자치단체가 특별교통수단 확보나 이동지원센터, 광역이동지원센터 설치 또는 운영에 필요한 자금을 대통령령으로 정하는 바에 따라 ‘지원할 수 있다’고 명시하고 있어요. 박경석 전국장애인야학협의회 이사장은 “기재부가 예산을 막고 있는 한 (법안은) 아무 소용이 없는 쓰레기 휴짓조각에 불과하다”며 “기재부가 운영비를 제대로 보장하지 않고서는 국회에서 통과된 교통약자법의 특별교통수단은 아직 요원하다”고 지적했어요. 조희은 전국장애인야학협의회 활동가도 “예산이 부족한 지방자치단체에서는 돈이 없어서 못 한다고 할 것”이라며 “예산을 쥔 기재부가 책임지고 해결해야 한다”고 강조했어요. 앞서 장애인단체들은 교통약자법 통과를 촉구하며 지난해부터 지하철 승하차 시위를 이어왔어요. 참석자들은 서울교통공사의 승하차 시위 대응을 비판하기도 했어요. 뉴스1 1월 3일자\",\n",
              "  'author': '성선해',\n",
              "  'date': '2022.01.10 09:00',\n",
              "  'img_path': 'https://sojoong.joins.com/wp-content/uploads/sites/4/2022/01/IM0125202201104000401_20220105-153951_346.jpg',\n",
              "  'source': '소년중앙',\n",
              "  'subtitle': <p> </p>,\n",
              "  'title': '[뉴스레시피] 장애인 이동권, 어떻게 보장해야 할까요?',\n",
              "  'url': 'https://sojoong.joins.com/archives/44438'},\n",
              " {'article': \"  장애인 이동권, 어떻게 보장해야 할까 장애인 단체 전국장애인차별철폐연대(전장연)는 2021년 서울 여의도역·혜화역 등 지하철역에서 진행한 이동권 등 권리 보장을 위한 ‘승·하차 시위’를 새해에도 이어가고 있습니다. 서울교통공사는 이들의 시위로 피해를 봤다며 전장연을 상대로 3000만원 상당의 손해배상 청구 소송을 제기했죠. 시민들은 장애인 이동권 문제에 공감하면서도 지하철 이용자가 가장 많은 출퇴근길에 시위가 진행된 것을 두고 불편했다는 반응을 보였어요. 이들은 왜 출퇴근 시간 지하철 시위를 했을까요. 장애인들이 요구하는 이동권 보장을 위한 대중교통 개선 및 편의시설 설치는 정말 그들만을 위한 이기적인 행위인 걸까요. 장애인 단체의 ‘승·하차 시위’를 둘러싼 전후 사정을 위클리 이슈로 함께 살펴봅시다. 뉴스1. 장애인단체 ‘승하차 시위’ 올해만 8번… “이해는 하지만 우리도 밥벌이” 전국장애인차별철폐연대(전장연)는 20일 오전 7시12분쯤부터 5호선 왕십리역에서 장애인 이동권 보장 시위를 진행했어요. 이날 시위는 22일 국회 국토교통위원회 교통법안심사소위 안건으로 오른 ‘교통약자이동편의증진법 개정안’ 등 심사를 촉구하기 위해 열렸죠. 이들의 승하차 퍼포먼스 등 시위는 5호선 지하철역 곳곳으로 번져 2시간가량 열차 운행이 지연됐어요. 한 발언자는 “(여러분이) 오늘 하루는 늦을 수 있지만 저희는 매일 지하철을 타지 못하고 이동권이 가로막혀 이동을 제대로 할 수 없다”고 호소했어요. 이런 시위는 올 한 해 1월 22일을 시작으로 2월, 3월, 6월, 10월 2회, 11월, 이날까지 총 8회 열렸어요. 장애인 단체의 이동권 보장 시위는 2001년 4호선 오이도역에서 장애인 노부부가 리프트에서 추락해 아내가 사망하는 참사를 계기로 시작됐어요. 이들은 리프트 대신 엘리베이터를 설치해달라고 요구해왔으며, 올해 4월 기준 서울 지하철 역사 283곳 중 261곳(92.2%)에 엘리베이터가 설치됐어요. 지난 2015년 고(故) 박원순 전 서울시장은 2022년까지 서울 지하철 내 엘리베이터 100% 설치를 약속했죠. 그러나 2022년 서울시 본 예산에 관련 예산이 포함되지 않으면서 이동권 보장 시위는 계속 이어져 왔어요. 이들은 △2025년까지 시내버스·마을버스 저상버스 100%도입 △2022년까지 특별교통수단 782대 도입약속 이행 △장애인버스 10대 도입 등을 요구하고 있어요. 장애인 단체의 잇단 시위로 비장애인들의 불만은 커져 가고 있습니다. 회사원 김모씨(30)는 “장애인들의 이동권은 당연히 보장돼야 하지만 적어도 사람들이 밥벌이해야 하는 출퇴근 시간 만큼은 피해야 했다”고 했어요. 전장연 측은 시민들에게 불편을 끼쳐 죄송하다면서도 교통약자의 이동권 보장이 이뤄지지 않아 생기는 불편함을 해소하기 위해 나선 것이라 주장했어요. 변재원 전장연 정책국장은 “시민들의 출퇴근 시간에 집회를 한 것에 대해 정말 죄송할 따름”이라면서도 “장애인뿐만 아니라 초고령사회로 가면서 노인 등 교통약자가 많아지고 있다”라며 “저상버스 도입 의무화 등이 담긴 교통약자이동편의증진법 개정안과 특별교통수단의 지역 간 차별 철폐를 위해 기획재정부가 운영비를 책임지는 법안이 통과된다면 교통수단 분담률이 늘어나 도움이 될 것”이라고 했어요. 뉴스1 2021년 12월 20일자 뉴스2. 서울교통공사, ‘지하철 시위’ 장애인 단체 3000만원 손배소 ‘차별 없이 이동할 권리’를 요구하며 지하철에서 시위를 벌인 장애인단체에 서울교통공사가 손해배상 소송을 제기했어요. 서울교통공사는 전국장애인차별철폐연대와 서울장애인차별철폐연대, 박경석 전장연 공동대표 등 관계자 4명을 상대로 손해배상금 3000만100원을 청구하는 소송을 지난달 23일 서울중앙지법에 제기했죠. 공사 측은 소장에서 “해당 단체들이 올해 1월부터 지난달까지 7차례에 걸쳐 전동 휠체어를 타고 전동차 승하차를 반복하는 시위를 해 모두 6시간 넘게 전동차 운행이 지연됐다”고 주장했어요. 또 “2020년 12월 기준 서울시 지하철 역사 278곳 중 256곳에 엘리베이터 설치가 완료됐고, 나머지 22곳 중 18곳은 2022년까지 설치공사가 완료 예정”이라며 “하지만 피고들은 원고 설명에도 이를 전혀 받아들이지 않고 ‘모든 역에 엘리베이터를 설치하라’고 시위를 했다”고 덧붙였어요. 서울교통공사 관계자는 “긴 시간 열차가 지연되는 등 승객들 불편이 컸다. 더 이상의 불편이 발생하지 않도록 공사 차원에서 대응할 필요성이 있었다”고 밝혔어요. 반면 장애인단체 측은 “‘모든 역사 엘리베이터 설치’는 서울시와 공사가 2000년대 초반부터 한 약속이었지만 계속해서 깨지고 미뤄졌다”며 “약속이 지켜지지 않은 20년 동안 지하철역에서 죽고 다친 것은 장애인들”이라고 말했어요. 그러면서 “지하철역 18곳에 엘리베이터를 설치한다고 약속했지만, 내년 예산안에는 설계비조차 반영되지 않았다. 재판에서 이런 점을 충실히 소명하겠다”고 밝혔어요. 이 사건은 서울중앙지법 민사27단독(부장 김춘수) 재판부에 배당됐어요. 중앙일보 2021년 12월 13일자  뉴스3. “승강기 없는 남영역, 장애인 이동권 박탈”…인권위 진정 장애인 인권단체와 서울 용산구 주민들은 17일 국가인권위원회 앞에서 기자회견을 열고 지하철 1호선 남영역에 승강기가 없어 장애인 이동권이 박탈되고 있다며 진정을 제기했어요. 용산구 주민이기도 한 윤두선 중증장애인독립생활연대 대표는 “하루에 2만∼3만 명이 이용하는 남영역은 승강기가 아직도 없다. 이동권이 없으면 사람다운 삶이 없는 것”이라고 지적했어요. 윤 대표는 “남영역은 휠체어를 타야 하는 장애인에게는 이동의 길이 끊긴 곳으로, 그나마 있는 리프트는 매우 위험하다”며 “아직도 버젓이 이런 전철역이 존재한다는 것은 서울시뿐 아니라 대한민국에 매우 부끄러운 일”이라고 강조했어요. 이어 “서울시와 용산구, 코레일이 예산을 분담해 승강기를 조속히 설치해야 한다”며 인권위가 조속히 권고를 내려달라고 촉구했어요. 장애인 인권단체 ‘장애의 벽을 허무는 사람들'(장애벽허물기)도 이날 같은 장소에서 기자회견을 열고 수어 통역을 제공하지 않는 지상파 방송 3사들과 감독 의무가 있는 방송통신위원회를 상대로 차별 진정을 제기한다고 밝혔어요. 지난해 지상파 3사가 메인뉴스에서 수어 통역을 제공하기 시작했으나 전체 프로그램 가운데 수어 통역이 제공되는 프로그램은 7∼8% 수준에 불과한 것으로 알려졌죠. 장애벽허물기는 “아침과 점심, 저녁 시간대 몇몇 뉴스 외에는 수어 통역으로 방송을 볼 수 없다”며 “현재 진행하는 수어 통역 방송도 통역 질이 고르지 않다는 불만이 몇 년째 이어지고 있지만 방송사들이 제대로 대응하지 않아 농인들의 시청권이 무시되고 있다”며 지상파 방송 3사 방영 프로그램의 수어 통역의 필요성을 주장했어요. 연합뉴스 2021년 11월 17일자\",\n",
              "  'author': '성선해',\n",
              "  'date': '2022.01.10 09:00',\n",
              "  'img_path': 'https://sojoong.joins.com/wp-content/uploads/sites/4/2022/01/IM0125202201104000201_20220104-203846_173.jpg',\n",
              "  'source': '소년중앙',\n",
              "  'subtitle': <p> </p>,\n",
              "  'title': '[위클리이슈] 장애인 이동권, 어떻게 보장해야 할까',\n",
              "  'url': 'https://sojoong.joins.com/archives/44432'},\n",
              " {'article': '“이러려고 촛불 들었나” vs “보복의 정치 사라져야” 참여연대와 경제정의실천시민연합(경실련), 4·16세월호참사가족협의회 등 시민사회단체들은 24일 박근혜 전 대통령 특별사면을 규탄하는 성명과 입장을 잇달아 내놓았어요. 국정농단 등으로 징역 22년형을 선고받고 4년 9개월간 복역 중이던 박 전 대통령은 이번 신년 특별사면·복권으로 풀려나 남은 17년 3개월형은 면제받게 됐죠. 참여연대는 성명을 내고 “박근혜에 대한 사면에 반대하며, (문재인) 대통령의 정치적 사면권 행사를 규탄한다”고 밝혔어요. 이 단체는 “박근혜 탄핵과 사법처리는 촛불 시민들의 힘으로 이뤄진 것으로 대통령의 정치적 사면은 촛불 시민들의 의사에 반하는 것”이라며 “사회적 통합과 거리가 멀며 대선을 앞두고 정치적 고려에 따른 사면”이라고 주장했죠. 경실련은 박 전 대통령 특별사면을 “문 대통령의 사면권 남용”으로 규정하며 철회를 요구했어요. 경실련은 불법 정치자금 수수 혐의로 실형을 확정받고 만기 출소한 한명숙 전 국무총리의 복권에 대해서도 “적절성 논란을 피할 수 없다”면서 “결국 다양한 정치 인사를 사면복권한 것은 대선을 앞두고 표심을 움직이려는 대통령의 의지가 강하게 반영된 것이라는 의심을 피할 수 없다”고 주장했죠. 세월호 참사 유족들로 구성된 4·16세월호참사가족협의회와 시민단체 4·16연대도 “참사 책임에 대해 국가수반인 대통령으로서 진정성 있는 사죄는 없는 상황에서 대통령의 사면권 행사는 도저히 납득할 수 없다”고 목소리를 높였어요. 그러면서 “자신이 저질렀던 범죄 행위에 대해 일말의 사과와 반성조차 하지 않은 자를 ‘국민 대화합’을 이유로 사면시키는 것은 민주주의 후퇴이며 시대정신의 파괴”라고 주장했어요. 이날 청와대 분수대 앞에서는 대학생겨레하나·진보대학생넷·한국대학생진보연합 등 대학생 단체들로 구성된 ‘6·15 남측위 청학본부 대학생분과 위원회’가 박 전 대통령 사면 규탄 기자회견을, 태극기혁명국민운동본부(국본)는 사면 환영 기자회견을 각각 열었어요. 2016년 말부터 2017년 초까지 주말마다 열렸던 박 전 대통령 탄핵 촛불집회에 참여했던 시민들 사이에서는 ‘납득할 수 없다’는 반응이 나왔죠. 촛불집회에 매주 참여했다는 강모(40)씨는 “박 전 대통령이 본인의 잘못에 대한 일언반구의 반성도 없는 행태를 보인 점을 생각한다면 매우 부적절한 사면”이라며 “최고권력자가 자신에게 주어진 권력을 사적으로 사용한다는 것이 얼마나 큰 범죄인지 보여주기 위해서라도 일벌백계가 필요하다”고 말했어요. 직장인 이민호(30)씨는 “대선을 3개월 앞두고 정치적 계산이 깔린 느낌이라 불쾌하다. 내가 이러려고 촛불을 들었나”라며 “왜 갑자기 화합을 외치며 사면인가”라고 반문했죠. 배모(31)씨 역시 초“건강상의 이유로 석방하는 것까진 이해하겠지만 사면·복권하고 벌금까지 면제하는 건 5년 전 촛불정신을 뒤집는 것 아닌가. 촛불을 들었던 주체는 시민인데 정부가 무슨 권리로 이런 결정을 내렸는지 모르겠다”고 했어요. 반면 익명을 요구한 박모(29)씨는 “박 전 대통령 사면을 계기로 전직 대통령을 감옥에 가두는 ‘보복의 정치’는 이제 그만 사라졌으면 좋겠다”고 했죠. 김모(27)씨 또한 “박 전 대통령이 지은 죄는 큰 잘못이지만 국민 통합을 위해 현직 대통령이 결단을 할 만한 때”라며 “올해 초부터 매우 아팠다는데 감옥에서 죽기라도 하면 국가적 분란은 어떡할 텐가. 문 대통령이 잘 결정했다”고 평가했어요. 정모(33)씨는 “정부의 결정이 이해는 간다. 건강도 많이 안 좋다고 하고, 4년 9개월이면 꽤 됐다”고 말했어요. 연합뉴스 12월 24일자',\n",
              "  'author': '박소윤 기자',\n",
              "  'date': '2022.01.03 09:01',\n",
              "  'img_path': 'https://sojoong.joins.com/wp-content/uploads/sites/4/2022/01/IM0125202201034000401_20211229-135708_657.jpg',\n",
              "  'source': '소년중앙',\n",
              "  'subtitle': <p><strong>“이러려고 촛불 들었나” vs “보복의 정치 사라져야”</strong></p>,\n",
              "  'title': '[뉴스레시피] 박근혜 전 대통령 특별사면을 둘러싼 찬반 논란, 여러분의 생각은 어떤가요.',\n",
              "  'url': 'https://sojoong.joins.com/archives/44294'},\n",
              " {'article': '박근혜 전 대통령 특별사면 논란, 쟁점은? 박근혜 전 대통령이 국정농단 사건으로 구속된 2017년 3월 31일 이후 4년 9개월 만에 신년 특별사면으로 석방됩니다. 박범계 법무부 장관은 24일 정부서울청사에서 ‘2022년 신년 특별사면 실시’ 브리핑을 열고 2021년 12월 31일 자로 3094명에 대한 특별사면을 단행한다고 밝혔죠. 이번 특사에선 징역 2년을 복역하고 만기 출소한 한명숙 전 국무총리도 복권됐지만, 징역 17년형을 확정받고 수감 중인 이명박 전 대통령은 제외됐어요. 박 전 대통령의 사면을 두고 “민주주의에 역행하는 결정”이라는 비판과 “할 때 됐다”는 의견이 첨예하게 대립하는 한편, 내년 3월 대통령 선거에 미칠 영향에 대한 분석도 쏟아지고 있는데요. 특별사면을 둘러싼 다양한 의견, 위클리이슈로 살펴봅시다. 박근혜 전 대통령 특별사면…文 “지난 시대 아픔 딛고 미래로” 문재인 대통령이 24일 박근혜 전 대통령을 특별사면·복권하기로 결정했어요. 이에 따라 박 전 대통령은 국정농단 사건으로 구속 수감된 지 4년 9개월 만인 오는 31일 0시 풀려나게 됐죠. 전직 대통령에 대한 사면은 1997년 12월 22일 故(고) 전두환·노태우 두 전직 대통령의 특별사면·복권 이후 처음이에요. 문 대통령은 이날 “우리는 지난 시대의 아픔을 딛고 새 시대로 나아가야 한다. 이제 과거에 매몰돼 서로 다투기보다는 미래를 향해 담대하게 힘을 합쳐야 할 때”라며 “특히 우리 앞에 닥친 숱한 난제들을 생각하면 무엇보다 국민 통합과 겸허한 포용이 절실하다”고 말했다고 박경미 청와대 대변인이 전했어요. 이어 “박 전 대통령의 경우 5년 가까이 복역해 건강 상태가 많이 나빠진 점도 고려했다”며 “이번 사면이 생각의 차이나 찬반을 넘어 통합과 화합, 새 시대 개막의 계기가 되기를 바란다. 사면에 반대하는 분들의 넓은 이해와 해량을 부탁드린다”고 했습니다. 박 전 대통령은 유영하 변호사를 통해 “많은 심려를 끼쳐드려 국민 여러분께 송구스럽다”고 밝혔어요. 이어 “어려움이 많았음에도 사면을 결정해 주신 문 대통령과 정부 당국에도 심심한 사의를 표한다”며 “신병 치료에 전념해 빠른 시일 내에 국민 여러분께 직접 감사 인사를 드릴 수 있도록 하겠다”고 했어요. 유 변호사는 박 전 대통령의 정치 활동 재개 가능성에 대해 “지금은 신병 치료에 전념하며 병원에 머무르는 동안 정치인을 비롯해 어떤 분도 만나지 않겠다고 했다”고 전했죠. 박 전 대통령은 지난 1월 대법원에서 국정농단 등 혐의로 징역 20년, 벌금 180억원, 추징금 35억원을 확정받았어요. 2018년 11월엔 새누리당 공천 개입 혐의로 징역 2년형을 확정받은 상태였죠. 현재 민간 병원에서 치료를 받고 있는 만큼 오는 31일 0시 교정당국 직원들이 병원에서 철수하는 형태로 석방될 예정이에요. 이날 특별사면·복권 대상에는 불법 정치자금 수수 혐의로 징역 2년을 복역한 뒤 2017년 만기 출소한 한명숙 전 총리도 포함됐어요. 내란선동죄로 수감 중인 이석기 전 통합진보당 의원도 이날 가석방돼 풀려났죠. 반면 징역 17년형을 확정받고 수감 중인 이명박 전 대통령은 특별사면 대상에서 제외됐어요. 박범계 법무부 장관은 “사면은 대통령의 고유 권한”이라며 “국민적 공감대와 갈등 치유 차원에서 사면을 고려한 것으로 안다”고 설명했어요. 중앙일보 12월 24일자 박근혜, 경호 받지만 전직 대통령 예우는 못 받는다 특별사면된 박근혜 전 대통령은 경호와 경비만 받을 뿐 박탈됐던 전직 대통령의 예우는 되찾지 못해요. 24일 행정안전부에 따르면 전직 대통령이 특별사면이 되더라도 박탈된 예우는 회복되지 않죠. 최근 사망한 노태우·전두환 대통령도 이에 해당했어요. 행안부 소관 법률인 ‘전직대통령 예우에 관한 법률(전직대통령법)’에 따라 전직 대통령에게 국가가 연금, 기념사업, 비서관·운전기사, 질병 치료, 교통·통신 및 사무실 제공, 경호·경비 등의 예우를 제공합니다. 하지만 ▲재직 중 탄핵 ▲금고 이상의 형 확정 ▲형사처분 회피 목적의 해외 도피 ▲국적 상실을 한 경우에는 제공하던 예우를 박탈하죠. 다만 ‘필요한 기간의 경호 및 경비’는 제공할 수 있도록 하고 있어요. 탄핵당하거나 금고 이상의 형을 받은 대통령이라도 최고 수준의 국가기밀을 다뤘던 인사라는 점에서 적절한 수준의 경호는 필요하다는 이유에서죠. ‘대통령 등의 경호에 관한 법률(대통령경호법)’에 따라 대통령경호처는 퇴임한 대통령을 기본 10년, 최장 15년간 경호합니다. 박 전 대통령의 사면이 결정되며 경호처는 어느 정도의 인력이 필요한지 파악하는 등 구체적인 준비에 들어갈 것으로 알려졌어요. 사망했을 경우 ‘국가장(國家葬)’을 치를지 여부는 노 전 대통령, 전 전 대통령 사망 시와 마찬가지로 정부가 판단해요. 국가장법은 ‘국가·사회에 현저한 공훈’이 있거나 ‘국민의 추앙을 받는 사람’을 국가장의 대상자로 적시하죠. 국가장을 치를 경우에는 행정안전부 장관 제청, 국무회의 심의, 대통령 최종 결정의 절차를 밟아요. 이런 절차에 따라 노 전 대통령에 대해서는 국가장이 치러졌고, 전 전 대통령은 국가장 대상에서 제외됐어요. 중앙일보·연합뉴스 12월 24일자 주요 외신도 긴급보도 “朴 특별사면, 내년 대선에 영향 미칠 듯” 주요 외신들은 24일 박근혜 전 대통령의 사면 소식을 긴급 보도하며 내년 3월 한국 대선에 미칠 영향에 주목했어요. 영국 가디언은 “박 전 대통령이 보수적인 유권자들 사이에서 갖는 영향력을 고려할 때, (이번 사면은) 내년 3월 대통령 선거에 영향을 미칠 수 있다”고 전망했죠. 가디언은 또 문재인 대통령이 2012년 대통령 선거에서 박 전 대통령에게 패한 사실을 언급하며 “그는 과거 숙적의 사면에 대해 (그동안) 공개적으로 언급하지 않았다”고 전했어요. 미국 뉴욕타임스(NYT)는 “박 전 대통령의 특별사면 여부는 내년 대선을 앞두고 정치적 쟁점이 됐다”며 “그는 여전히 그의 결백을 주장하며 석방을 요구해온, 주로 나이 많고 보수적인 열성 지지자들을 보유하고 있다”고 했습니다. 중동 매체 알자지라 방송도 “이재명 더불어민주당 대선 후보와 윤석열 국민의힘 대선 후보의 최근 여론조사 결과가 접전”이라며 대권 경쟁이 치열한 시점에 특별사면이 이뤄졌다는 점에 주목했어요. 영국 BBC 방송은 “문 대통령의 이번 사면은 의외의 발표”라고 평가했죠. 이어 박 전 대통령의 퇴임 과정에 대해 “한국의 정치 최상위층과 재벌 수뇌부의 은밀한 관계가 드러나면서 대규모 시위가 촉발됐고 시위 상당수가 박 전 대통령의 퇴진을 촉구했다”고 소개했어요. 미국 CNN 방송은 박 전 대통령이 “민주적으로 선출된 지도자 가운데 처음으로 국회와 헌법재판소에 의해 탄핵당한 대통령”이라며 “박 전 대통령의 건강이 최근 악화했으며 문재인 정부가 이를 고려해 사면을 결정했다”고 전했죠. 중앙일보 12월 24일자',\n",
              "  'author': '박소윤 기자',\n",
              "  'date': '2022.01.03 09:00',\n",
              "  'img_path': 'https://sojoong.joins.com/wp-content/uploads/sites/4/2022/01/IM0125202201034000201_20211228-222546_534.jpg',\n",
              "  'source': '소년중앙',\n",
              "  'subtitle': <p><strong><div class=\"su-note\" style=\"border-color:#d3e5e5;border-radius:5px;-moz-border-radius:5px;-webkit-border-radius:5px;\"><div class=\"su-note-inner su-clearfix\" style=\"background-color:#eafeff;border-color:#fbffff;color:#000000;border-radius:5px;-moz-border-radius:5px;-webkit-border-radius:5px;\">박근혜 전 대통령 특별사면 논란, 쟁점은?</div></div></strong></p>,\n",
              "  'title': '[위클리이슈] 박근혜 전 대통령 특별사면 논란, 쟁점은?',\n",
              "  'url': 'https://sojoong.joins.com/archives/44278'},\n",
              " {'article': '“우리 아이돌만큼 지구도 대체불가” 기후 행동 나선 K팝 팬들 ‘죽은 지구에 K-POP은 없다’ ‘누구도 최애 아이돌을 대체할 수 없듯, 지구도 대체 불가능한 존재입니다’ K팝 팬들(KPOP4PLANET)이 전 세계적 기후위기에 대응해야 한다며 내건 구호입니다. 기후변화와 K팝이 무슨 상관이냐고요? 최근 K팝 팬덤에선 최애 아이돌을 향한 ‘덕질’(팬 활동)과 ‘기후 행동’을 함께하자는 목소리가 커지고 있어요. K팝이 세계적으로 유행하며 이러한 목소리는 더 커지고 있죠.자신이 좋아하는 가수가 지구를 위한 선한 영향력을 퍼트리길 바라는 게, 팬들의 마음이라고 합니다. K팝 아이돌도 정치적 목소리를 내기 시작했습니다. 블랙핑크는 지난달 영국에서 열린 제26차 유엔 기후변화협약 당사국총회(COP26) 홍보대사였죠. 기후 행동 동참을 호소하는 영상을 유튜브에 올렸는데 약 한 달 만에 조회 수 780만 회를 기록했어요. MZ 세대 K팝 가수와 팬이 함께 바꿔가는 새로운 팬덤 문화에 대한 이야기를 들어보기 위해 2030 K팝 팬 세 명을 만나봤습니다. “K팝은 사랑으로 장사를 하거든요. 좋아하는 가수가 앨범 판매량으로 성적을 내고, 그걸로 상을 받잖아요. 저희는 그들을 사랑하는 걸 돈으로밖에 보여줄 수 없어요. 팬들이 앨범이나 굿즈를 필요 이상으로 사게 되는 이유죠.” NCT 팬이라는 박진희(23)씨는 K팝 산업을 ‘사랑 장사’라고 간단명료하게 소개해요. 팬들의 애정을 공식적으로 확인할 수 있는 건 해당 아이돌 소속사 매출에 찍힌 숫자란 거죠. 문제는 돈보다 죄책감입니다.기후변화에 큰 관심을 가진 MZ 세대는 이른바 ‘덕질’을 하면서도 환경에 대한 죄책감을 느낀다고 합니다.박씨는 “추첨으로 이뤄지는 팬 사인회에 가기 위해선 앨범을 최소 몇십 장씩 구매해야 한다. 또 앨범에 덤으로 들어있는 최애 아이돌의 포토 카드는 랜덤이라, 원하는 사진이 나올 때까지 앨범을 구매할 때도 있다”고 설명해요. 필요 없는 앨범 대다수는 그냥 폐기됩니다. 원하는 걸 얻고 나면 뿌듯하지만, 그 후 쌓인 쓰레기 산을 보면 한숨이 나오죠. K팝 팬인 A씨(30)는 “(아이돌 관련 제품에) 일반적으로 쓰는 소재가 아닌 게 많아서 어떻게 처리해야 할지도 모르겠다. 재활용 안내부터 필요하다”고 지적합니다. 이렇게 팬심 한쪽에 자리 잡은 찝찝함을 해결하기 위해 팬덤이 뭉쳤습니다. 지구를 지키면서 ‘덕질’을 하자는 플랫폼 KPOP4PLANET(케이팝포플래닛)을 중심으로요. 케이팝포플래닛에서 소통 담당자로 활동하는 이다연(20)씨는 “K팝 팬 특유의 결집력과 연대 문화가 있다”고 설명해요. 특히 “소셜 미디어에서 ‘최애’ 아이돌과 관련한 모든 것들을 굉장히 빠르게 공유하고 수용한다. 이런 MZ 세대들이 모여서 긍정적인 문화를 더 잘 전파할 수 있다”고 주장합니다. 박씨도 같은 생각입니다. 그는 “개인이 혼자 기후위기에 대응하는 방법은 한계가 있다. ‘그냥 안 사고 말지’하는 것에 그칠 뿐”이라면서 “팬 플랫폼이 있으면 각자의 목소리를 모아 산업·기업 등에 강하게 요청할 수 있다는 의미를 갖는다”고 말합니다. 이씨는 “팬들은 오래전부터 기후 행동을 해왔다”고 해요. 예전에는 좋아하는 아이돌에게 선물 공세를 펼쳤던 ‘서포트(Support)’ 문화였다면, 지금은 좋아하는 가수의 이름을 딴 숲을 조성하거나 기후변화를 해결하기 위한 기부금을 모으는 식이죠. 지난해 10월 방탄소년단(BTS) 지민의 인도네시아 팬덤은 지민의 26번째 생일을 기념해 맹그로브 숲에 나무 8735그루를 기부했어요. K팝 팬들이 지구를 생각해 먼저 움직인 상황. 이제 남은 건 이들의 목소리에 힘을 실어주는 일입니다. 특히 앨범·굿즈 등을 생산하는 주체인 K엔터테인먼트 산업의 역할이 크다고 할 수 있죠. A씨는 “엔터테인먼트사들이 환경 문제에 대해 경각심을 갖고 굿즈나 MD(각종 물품)를 만들면 더 많은 팬덤을 만드는 긍정적 효과도 있을 것 같다”고 목소리를 높였습니다. 팬들이 무차별적으로 양산되는 쓰레기에 회의감을 느끼는 만큼, 생산자들이 대안을 만들어주길 바라는 거죠. 일부 가수들은 이미 변화를 실천하고 있습니다. 가수 청하는 1집 ‘케렌시아’ 앨범을 친환경 재생 종이로 제작했어요. 해외에선 영국 밴드 콜드플레이가 2022년 ‘저탄소 콘서트’를 열겠다고 선언했죠. 지난 6일 국회에서 열린 ‘지속가능한 K 엔터 산업 간담회’에 참여한 이다연씨는 “기업들이 ESG(환경·사회·지배구조) 경영을 실천한다면 MZ 세대 소비자들은 우리 미래를 소중히 여긴다고 느낄 것”이라고 밝혔습니다. 아이돌 엔터테인먼트 업계의 기후 행동 동참을 촉구한 거죠. 전 세계적으로 몇백만 장씩 팔리는 K팝 아티스트들의 앨범이달라지는 걸 상상해보세요. 포장지를 최소화하고, 친환경 재질을 사용하고, 탈(脫) 탄소 사회에 앞장선다면 많은 자원을 아낄 수 있습니다. K팝을 향한 응원도 더 강해질 수 있겠죠. 과연 K팝은 전 지구에 기후 행동을 널리 퍼트릴 수 있을까요. 중앙일보 12월 19일자',\n",
              "  'author': '한은정 기자',\n",
              "  'date': '2021.12.27 07:31',\n",
              "  'img_path': 'https://sojoong.joins.com/wp-content/uploads/sites/4/2021/12/IM0125202112274000401_20211221-220130_091.jpg',\n",
              "  'source': '소년중앙',\n",
              "  'subtitle': <p data-id=\"0\" data-particle-index=\"0\" data-particle-type=\"TextTemplate\" data-texttype=\"104\"><b>“우리 아이돌만큼 지구도 대체불가” 기후 행동 나선 K팝 팬들</b></p>,\n",
              "  'title': '[뉴스레시피] 우리가 할 수 있는 기후 행동 아이디어를 고민해보세요',\n",
              "  'url': 'https://sojoong.joins.com/archives/44217'},\n",
              " {'article': '거듭되는 이상기후···지구가 보내는 경고 들여다보니기후위기의 심각성, 어제오늘의 얘기가 아닙니다. 산업화 이후 지구의 평균온도는 1.09℃ 상승했고 지구촌은 해마다 심각한 이상기후를 겪고 있습니다. 기후변화의 과학적 규명을 위해 설립된 국제협의체, IPCC는 현재의 속도로 지구온난화가 지속하고 지구 평균온도가 1.5℃를 초과해 상승하게 된다면 10년 안에 인류의 생존이 크게 위협받을 거라고 보고한 바 있죠. 필리핀에선 초강력 태풍 ‘라이’, 미국은 역대급 토네이도로 수많은 인명 피해가 나는 등 최근에도 기후변화로 인한 자연재해가 끊이지 않고 있어요. 기후위기가 점점 공포로 다가오고 있는 거죠. 기후가 인간에 보내는 경고를 엄중히 받아들이고 기후위기의 심각성을 다시 한번 생각해봐야 할 때입니다. 뉴스 ①물·불 안 가리고 지구 덮쳤다···사진에 담긴 그들의 복수12월 11일(현지시각) 미국 중서부와 남동부를 강타한 초대형 토네이도로 초토화된 켄터키주 메이필드시. 메이필드시는 소방서·경찰서 등 관공서가 파괴돼 복구에 어려움을 겪고 있다. 캐시 오넌 메이필드 시장은 “치명적인 폭풍우가 시를 성냥개비처럼 만들었다”고 말했다. EPA2021년의 첫 기후재앙은 지구의 가장 높은 산꼭대기에서 발생했죠. 지난 2월 인도 북부 우타라칸드주(州) 히말라야 서부 고산 지대에선 갑작스러운 홍수가 일어나 200여 명이 실종되거나 사망했어요. 해발 7816m인 난다데비산에서 발생한 쓰나미와도 같은 급류의 원인으론 따뜻해진 날씨로 인한 ‘빙하 붕괴’가 꼽힙니다. 세라 다스 미국 우즈홀 해양연구소 부교수는 AP통신과 인터뷰에서 “세계 대부분의 빙하가 지구온난화와 기후변화로 인해 극적인 수준으로 녹으면서 축소되고 있다”고 말했죠.반면, 2월 낮 최고기온이 섭씨 14.4~23.9도를 오가는 미국 남부 텍사스주에선 30년 만의 한파로 기온이 영하 18도까지 떨어졌습니다. 멕시코와 국경을 접한 땅이 알래스카보다 추운 이상 저온 현상이 발생한 것이죠. 북극발 한파로 대규모 정전 사태까지 발생해 470만 명 이상이 정전 피해를 보았으며, 11살 크리스티안 피네다가 이동식 주택 이불 더미 밑에서 동사하는 안타까운 일이 발생했습니다. 6월은 고기압이 반구 형태의 지붕을 만들어 뜨거운 공기를 가두는 ‘열돔 현상’(heat dome)이 태평양 연안 북서부 지역을 덮치는 것으로 시작됐죠. 이 지역은 여름에도 기온이 크게 높지 않아 에어컨을 설치한 가정도 많지 않습니다. 10월 21일(현지시간) 영국 일간 가디언은 “지구의 기온이 계속 오를 경우 전 세계 수백만 명의 인구가 만성 신장 질환을 앓게 될 것이라는 우려가 의료 전문가들 사이에서 나오고 있다”며 “이미 지구에서 가장 뜨거운 곳(hotspot)에선 이런 현상이 발견되고 있다”고 전했습니다. 만성신부전증은 노화 현상 중 하나로 노년층에서 주로 발생하지만, 기온이 빠르게 상승하는 중미 니카라과의 사탕수수 노동자 등 남성 야외 노동자에게서도 발견되고 있죠.‘발등의 불’로 다가온 기후변화에 문재인 대통령과 미국의 조 바이든 대통령 등 190여 개국 정부 대표단은 코로나19 팬데믹 이후 최대 규모의 정상회담인 제26회 유엔 기후변화 당사국 총회(COP26)를 통해 ‘지구 온도 상승 1.5도 제한’을 이행하기 위한 방법을 찾았습니다. 이번 COP26에선 남태평양 중앙에 위치한 섬나라 투발루의 외무장관이 수중 연설을 하는 영상이 화제를 모았어요. 그는 “우리는 기후변화와 해수면 상승이라는 현실을 살아가고 있다”며 “바닷물이 항상 차오르고 있는 상황에서 말뿐인 약속만을 기다릴 여유가 없다”고 강조했죠. 중앙일보 12월 15일자뉴스② 한반도 해수면 매년 평균 3.03㎜ 상승···“기후변화 여파”투발루 섬의 사이먼 코페 장관은 11월 4일(현지시각) 제26차 유엔기후변화협약총회에서 공개된 영상에서 양복과 넥타이를 착용하고 물속에서 연설해 눈길을 끌었다. 투발루는 해수면 상승으로 인해 앞으로 수십 년 동안 사라질 위기에 처해 있다. SNS 캡처기후변화로 인해 지난 30년 동안 우리나라의 해수면이 매년 평균 3.03㎜씩 상승한 것으로 나타났습니다. 특히 최근 10년간 연평균 해수면 상승 폭이 지난 30년간 연평균보다 높아지는 등 한반도 연안의 해수면 상승 속도가 점차 빨라지고 있죠.20일 해양수산부 국립해양조사원(원장 정태성)이 기후변화에 따른 해수면 변동을 알아보기 위해 1991년부터 2020년까지 30년 동안의 연안 조위관측소 자료를 분석한 결과에 따르면 우리나라 전 연안의 평균 해수면이 매년 3.03㎜씩 높아져 평균 9.1㎝가량 상승한 것으로 조사됐습니다.해역별 평균 해수면 상승률은 동해안(연 3.71㎜)이 가장 높았고, 이어 서해안(연 3.07㎜), 남해안(연 2.61㎜) 순으로 나타났죠. 관측지점별로 보면 울릉도가 연 6.17㎜로 가장 높았고, 이어 포항(3.99㎜), 보령(3.38㎜), 인천(3.31㎜), 속초(3.17㎜) 순이었습니다. 최근 30년간의 연안 평균 해수면 상승 속도는 ▲1991~2000년 3.80㎜ ▲2001~2010년 0.13㎜ ▲2011~2020년 연 4.27㎜로, 1990년대 대비 최근 10년에 약 10% 이상 증가했죠.지난 8월 ‘정부 간 기후변화에 관한 협의체(IPCC)’ 산하 실무그룹은 1971년부터 2006년까지 전 지구 평균 해수면이 연 1.9㎜씩, 2006년부터 2018년까지 연 3.7㎜씩 상승했다는 내용이 담긴 보고서를 발표했어요. 이 결과와 비교하면 우리나라 연안의 해수면 상승률은 1971~2006년에 연 2.2㎜로, 전 지구 평균보다 소폭 빨랐으나, 2006~2018년에는 연 3.6㎜로 전 지구 평균과 유사하게 상승하고 있습니다.뉴시스 12월 20일자뉴스③인류 망해도 이건 남긴다, 외관부터 범상찮은 이 건축물 정체2022년 중 호주 태즈메이니아주 서부 해변에 설치될 ‘지구 블랙박스’. 지구 블랙박스 공식 홈페이지 캡처2층짜리 대형 시내버스보다 덩치가 큰 강철 구조. 외부엔 태양광 패널 부착, 내부엔 데이터 저장할 드라이브 설치. 섬으로 이뤄진 호주 태즈메이니아주에 들어설 한 건축물의 모습입니다. 언뜻 정체를 상상하기 어려운 이곳은 ‘지구 블랙박스’(Earth’s Black Box)입니다. 7일(현지시간) CNN·로이터 등에 따르면 지구 상의 기후변화와 세계 각국의 대응을 기록하기 위한 저장 장치인 지구 블랙박스가 내년 중 등장합니다. 호주의 태즈메이니아 대학, 광고대행사 클레멘저BBDO 등이 개발을 주도하고 있죠. 앞으로 온라인으로 올라오는 기후위기 연구 자료와 뉴스, 소셜 미디어 게시물 등은 모두 여기에 실시간으로 저장할 계획입니다. 평균 기온, 에너지 소비량 등 500가지 측정 지표를 바탕으로 기후위기 현상과 각국 정부 움직임도 정기적으로 기록하죠.지구 블랙박스란 이름은 어떤 사고에도 파괴가 불가능한 비행기 기록계에서 영감을 받아 붙였습니다. 이 건축물은 이름 그대로 모든 자연재해를 견딜 수 있도록 견고하게 설계되는데요. 크기는 길이 10m, 가로 4m, 높이 3m. 두꺼운 벽은 강철 소재가 쓰이죠. 태양광·태양열 같은 재생에너지로 가동되기 때문에 외부 에너지 공급이 끊겨도 문제가 없다고 합니다.지구 블랙박스가 이토록 튼튼하게 지어진 건 기후변화로 인류가 멸망할 가능성에 대비해서입니다. 블랙박스 건축을 기획한 클레멘저BBDO의 디렉터 짐 커티스는 “기후변화로 최악의 상황이 발생하더라도 기후위기 내용과 인류의 대응이 담긴 이 블랙박스는 남아 있을 것이다. 추후 이를 발견한 미래의 누군가가 우리의 실수로부터 교훈을 얻을 수 있다”고 설명했어요.중앙일보 12월 8일자연관뉴스 거듭되는 이상기후···지구가 보내는 경고 들여다보니 기후위기의 심각성, 어제오늘의 얘기가 아닙니다. 산업화 이후 지구의 평균온도는 1.09℃ 상승했고 지구촌은 해마다 심각한 이상기후를 겪고 있습니다. 기후변화의 과학적 규명을 위해 설립된 국제협의체, IPCC는 현재의 속도로 지구온난화가 지속하고 지구 평균온도가 1.5℃를 초과해 상승하게 된다면 10년 안에 인류의 생존이 크게 위협받을 거라고 보고한 바 있죠. 필리핀에선 초강력 태풍 ‘라이’, 미국은 역대급 토네이도로 수많은 인명 피해가 나는 등 최근에도 기후변화로 인한 자연재해가 끊이지 않고 있어요. 기후위기가 점점 공포로 다가오고 있는 거죠. 기후가 인간에 보내는 경고를 엄중히 받아들이고 기후위기의 심각성을 다시 한번 생각해봐야 할 때입니다.  뉴스 ①물·불 안 가리고 지구 덮쳤다···사진에 담긴 그들의 복수 2021년의 첫 기후재앙은 지구의 가장 높은 산꼭대기에서 발생했죠. 지난 2월 인도 북부 우타라칸드주(州) 히말라야 서부 고산 지대에선 갑작스러운 홍수가 일어나 200여 명이 실종되거나 사망했어요. 해발 7816m인 난다데비산에서 발생한 쓰나미와도 같은 급류의 원인으론 따뜻해진 날씨로 인한 ‘빙하 붕괴’가 꼽힙니다. 세라 다스 미국 우즈홀 해양연구소 부교수는 AP통신과 인터뷰에서 “세계 대부분의 빙하가 지구온난화와 기후변화로 인해 극적인 수준으로 녹으면서 축소되고 있다”고 말했죠. 반면, 2월 낮 최고기온이 섭씨 14.4~23.9도를 오가는 미국 남부 텍사스주에선 30년 만의 한파로 기온이 영하 18도까지 떨어졌습니다. 멕시코와 국경을 접한 땅이 알래스카보다 추운 이상 저온 현상이 발생한 것이죠. 북극발 한파로 대규모 정전 사태까지 발생해 470만 명 이상이 정전 피해를 보았으며, 11살 크리스티안 피네다가 이동식 주택 이불 더미 밑에서 동사하는 안타까운 일이 발생했습니다. 6월은 고기압이 반구 형태의 지붕을 만들어 뜨거운 공기를 가두는 ‘열돔 현상’(heat dome)이 태평양 연안 북서부 지역을 덮치는 것으로 시작됐죠. 이 지역은 여름에도 기온이 크게 높지 않아 에어컨을 설치한 가정도 많지 않습니다. 10월 21일(현지시간) 영국 일간 가디언은 “지구의 기온이 계속 오를 경우 전 세계 수백만 명의 인구가 만성 신장 질환을 앓게 될 것이라는 우려가 의료 전문가들 사이에서 나오고 있다”며 “이미 지구에서 가장 뜨거운 곳(hotspot)에선 이런 현상이 발견되고 있다”고 전했습니다. 만성신부전증은 노화 현상 중 하나로 노년층에서 주로 발생하지만, 기온이 빠르게 상승하는 중미 니카라과의 사탕수수 노동자 등 남성 야외 노동자에게서도 발견되고 있죠. ‘발등의 불’로 다가온 기후변화에 문재인 대통령과 미국의 조 바이든 대통령 등 190여 개국 정부 대표단은 코로나19 팬데믹 이후 최대 규모의 정상회담인 제26회 유엔 기후변화 당사국 총회(COP26)를 통해 ‘지구 온도 상승 1.5도 제한’을 이행하기 위한 방법을 찾았습니다. 이번 COP26에선 남태평양 중앙에 위치한 섬나라 투발루의 외무장관이 수중 연설을 하는 영상이 화제를 모았어요. 그는 “우리는 기후변화와 해수면 상승이라는 현실을 살아가고 있다”며 “바닷물이 항상 차오르고 있는 상황에서 말뿐인 약속만을 기다릴 여유가 없다”고 강조했죠. 중앙일보 12월 15일자 뉴스② 한반도 해수면 매년 평균 3.03㎜ 상승···“기후변화 여파” 기후변화로 인해 지난 30년 동안 우리나라의 해수면이 매년 평균 3.03㎜씩 상승한 것으로 나타났습니다. 특히 최근 10년간 연평균 해수면 상승 폭이 지난 30년간 연평균보다 높아지는 등 한반도 연안의 해수면 상승 속도가 점차 빨라지고 있죠. 20일 해양수산부 국립해양조사원(원장 정태성)이 기후변화에 따른 해수면 변동을 알아보기 위해 1991년부터 2020년까지 30년 동안의 연안 조위관측소 자료를 분석한 결과에 따르면 우리나라 전 연안의 평균 해수면이 매년 3.03㎜씩 높아져 평균 9.1㎝가량 상승한 것으로 조사됐습니다. 해역별 평균 해수면 상승률은 동해안(연 3.71㎜)이 가장 높았고, 이어 서해안(연 3.07㎜), 남해안(연 2.61㎜) 순으로 나타났죠. 관측지점별로 보면 울릉도가 연 6.17㎜로 가장 높았고, 이어 포항(3.99㎜), 보령(3.38㎜), 인천(3.31㎜), 속초(3.17㎜) 순이었습니다. 최근 30년간의 연안 평균 해수면 상승 속도는 ▲1991~2000년 3.80㎜ ▲2001~2010년 0.13㎜ ▲2011~2020년 연 4.27㎜로, 1990년대 대비 최근 10년에 약 10% 이상 증가했죠. 지난 8월 ‘정부 간 기후변화에 관한 협의체(IPCC)’ 산하 실무그룹은 1971년부터 2006년까지 전 지구 평균 해수면이 연 1.9㎜씩, 2006년부터 2018년까지 연 3.7㎜씩 상승했다는 내용이 담긴 보고서를 발표했어요. 이 결과와 비교하면 우리나라 연안의 해수면 상승률은 1971~2006년에 연 2.2㎜로, 전 지구 평균보다 소폭 빨랐으나, 2006~2018년에는 연 3.6㎜로 전 지구 평균과 유사하게 상승하고 있습니다. 뉴시스 12월 20일자 뉴스③인류 망해도 이건 남긴다, 외관부터 범상찮은 이 건축물 정체 2층짜리 대형 시내버스보다 덩치가 큰 강철 구조. 외부엔 태양광 패널 부착, 내부엔 데이터 저장할 드라이브 설치. 섬으로 이뤄진 호주 태즈메이니아주에 들어설 한 건축물의 모습입니다. 언뜻 정체를 상상하기 어려운 이곳은 ‘지구 블랙박스’(Earth’s Black Box)입니다. 7일(현지시간) CNN·로이터 등에 따르면 지구 상의 기후변화와 세계 각국의 대응을 기록하기 위한 저장 장치인 지구 블랙박스가 내년 중 등장합니다. 호주의 태즈메이니아 대학, 광고대행사 클레멘저BBDO 등이 개발을 주도하고 있죠. 앞으로 온라인으로 올라오는 기후위기 연구 자료와 뉴스, 소셜 미디어 게시물 등은 모두 여기에 실시간으로 저장할 계획입니다. 평균 기온, 에너지 소비량 등 500가지 측정 지표를 바탕으로 기후위기 현상과 각국 정부 움직임도 정기적으로 기록하죠. 지구 블랙박스란 이름은 어떤 사고에도 파괴가 불가능한 비행기 기록계에서 영감을 받아 붙였습니다. 이 건축물은 이름 그대로 모든 자연재해를 견딜 수 있도록 견고하게 설계되는데요. 크기는 길이 10m, 가로 4m, 높이 3m. 두꺼운 벽은 강철 소재가 쓰이죠. 태양광·태양열 같은 재생에너지로 가동되기 때문에 외부 에너지 공급이 끊겨도 문제가 없다고 합니다. 지구 블랙박스가 이토록 튼튼하게 지어진 건 기후변화로 인류가 멸망할 가능성에 대비해서입니다. 블랙박스 건축을 기획한 클레멘저BBDO의 디렉터 짐 커티스는 “기후변화로 최악의 상황이 발생하더라도 기후위기 내용과 인류의 대응이 담긴 이 블랙박스는 남아 있을 것이다. 추후 이를 발견한 미래의 누군가가 우리의 실수로부터 교훈을 얻을 수 있다”고 설명했어요. 중앙일보 12월 8일자',\n",
              "  'author': '한은정 기자',\n",
              "  'date': '2021.12.27 07:30',\n",
              "  'img_path': 'https://sojoong.joins.com/wp-content/uploads/sites/4/2021/12/IM0125202112274000201_20211221-214722_088.jpg',\n",
              "  'source': '소년중앙',\n",
              "  'subtitle': <p data-id=\"0\" data-particle-index=\"0\" data-particle-type=\"TextTemplate\" data-texttype=\"104\"><div class=\"su-note\" style=\"border-color:#a5cad0;border-radius:3px;-moz-border-radius:3px;-webkit-border-radius:3px;\"><div class=\"su-note-inner su-clearfix\" style=\"background-color:#b7e1e7;border-color:#f1f9fa;color:#000000;border-radius:3px;-moz-border-radius:3px;-webkit-border-radius:3px;\">\n",
              "  <p data-id=\"0\" data-particle-index=\"0\" data-particle-type=\"TextTemplate\" data-texttype=\"104\"><strong>거듭되는 이상기후···지구가 보내는 경고 들여다보니</strong></p>\n",
              "  <p data-id=\"1\" data-particle-index=\"0\" data-particle-type=\"TextTemplate\" data-texttype=\"104\">기후위기의 심각성, 어제오늘의 얘기가 아닙니다. 산업화 이후 지구의 평균온도는 1.09℃ 상승했고 지구촌은 해마다 심각한 이상기후를 겪고 있습니다. 기후변화의 과학적 규명을 위해 설립된 국제협의체, IPCC는 현재의 속도로 지구온난화가 지속하고 지구 평균온도가 1.5℃를 초과해 상승하게 된다면 10년 안에 인류의 생존이 크게 위협받을 거라고 보고한 바 있죠. 필리핀에선 초강력 태풍 ‘라이’, 미국은 역대급 토네이도로 수많은 인명 피해가 나는 등 최근에도 기후변화로 인한 자연재해가 끊이지 않고 있어요. 기후위기가 점점 공포로 다가오고 있는 거죠. 기후가 인간에 보내는 경고를 엄중히 받아들이고 기후위기의 심각성을 다시 한번 생각해봐야 할 때입니다.  </p>\n",
              "  <p data-id=\"0\" data-particle-index=\"0\" data-particle-type=\"TextTemplate\" data-texttype=\"104\"></p></div></div>\n",
              "  <p data-id=\"0\" data-particle-index=\"0\" data-particle-type=\"TextTemplate\" data-texttype=\"104\"><b><strong><br/>뉴스 ① </strong></b><b>물·불 안 가리고 지구 덮쳤다···사진에 담긴 그들의 복수</b></p>\n",
              "  <figure class=\"wp-caption aligncenter\" id=\"attachment_44207\" style=\"width: 2953px;\"><a href=\"https://sojoong.joins.com/wp-content/uploads/sites/4/2021/12/IM0125202112274000201_20211221-214353_087.jpg\"><img alt=\"12월 11일(현지시각) 미국 중서부와 남동부를 강타한 초대형 토네이도로 초토화된 켄터키주 메이필드시. 메이필드시는 소방서·경찰서 등 관공서가 파괴돼 복구에 어려움을 겪고 있다. 캐시 오넌 메이필드 시장은 “치명적인 폭풍우가 시를 성냥개비처럼 만들었다”고 말했다. EPA\" class=\"size-full wp-image-44207\" height=\"1951\" src=\"https://sojoong.joins.com/wp-content/uploads/sites/4/2021/12/IM0125202112274000201_20211221-214353_087.jpg\" width=\"2953\"/></a><figcaption class=\"wp-caption-text\">12월 11일(현지시각) 미국 중서부와 남동부를 강타한 초대형 토네이도로 초토화된 켄터키주 메이필드시. 메이필드시는 소방서·경찰서 등 관공서가 파괴돼 복구에 어려움을 겪고 있다. 캐시 오넌 메이필드 시장은 “치명적인 폭풍우가 시를 성냥개비처럼 만들었다”고 말했다. EPA</figcaption></figure>\n",
              "  <p data-id=\"4\" data-particle-index=\"0\" data-particle-type=\"TextTemplate\" data-texttype=\"104\">2021년의 첫 기후재앙은 지구의 가장 높은 산꼭대기에서 발생했죠. 지난 2월 인도 북부 우타라칸드주(州) 히말라야 서부 고산 지대에선 갑작스러운 홍수가 일어나 200여 명이 실종되거나 사망했어요. 해발 7816m인 난다데비산에서 발생한 쓰나미와도 같은 급류의 원인으론 따뜻해진 날씨로 인한 ‘빙하 붕괴’가 꼽힙니다. 세라 다스 미국 우즈홀 해양연구소 부교수는 AP통신과 인터뷰에서 “세계 대부분의 빙하가 지구온난화와 기후변화로 인해 극적인 수준으로 녹으면서 축소되고 있다”고 말했죠.</p>\n",
              "  <p data-id=\"6\" data-particle-index=\"0\" data-particle-type=\"TextTemplate\" data-texttype=\"104\">반면, 2월 낮 최고기온이 섭씨 14.4~23.9도를 오가는 미국 남부 텍사스주에선 30년 만의 한파로 기온이 영하 18도까지 떨어졌습니다. 멕시코와 국경을 접한 땅이 알래스카보다 추운 이상 저온 현상이 발생한 것이죠. 북극발 한파로 대규모 정전 사태까지 발생해 470만 명 이상이 정전 피해를 보았으며, 11살 크리스티안 피네다가 이동식 주택 이불 더미 밑에서 동사하는 안타까운 일이 발생했습니다. 6월은 고기압이 반구 형태의 지붕을 만들어 뜨거운 공기를 가두는 ‘열돔 현상’(heat dome)이 태평양 연안 북서부 지역을 덮치는 것으로 시작됐죠. 이 지역은 여름에도 기온이 크게 높지 않아 에어컨을 설치한 가정도 많지 않습니다.  </p>\n",
              "  <p data-id=\"8\" data-particle-index=\"0\" data-particle-type=\"TextTemplate\" data-texttype=\"104\">10월 21일(현지시간) 영국 일간 가디언은 “지구의 기온이 계속 오를 경우 전 세계 수백만 명의 인구가 만성 신장 질환을 앓게 될 것이라는 우려가 의료 전문가들 사이에서 나오고 있다”며 “이미 지구에서 가장 뜨거운 곳(hotspot)에선 이런 현상이 발견되고 있다”고 전했습니다. 만성신부전증은 노화 현상 중 하나로 노년층에서 주로 발생하지만, 기온이 빠르게 상승하는 중미 니카라과의 사탕수수 노동자 등 남성 야외 노동자에게서도 발견되고 있죠.</p>\n",
              "  <p data-id=\"10\" data-particle-index=\"0\" data-particle-type=\"TextTemplate\" data-texttype=\"104\">‘발등의 불’로 다가온 기후변화에 문재인 대통령과 미국의 조 바이든 대통령 등 190여 개국 정부 대표단은 코로나19 팬데믹 이후 최대 규모의 정상회담인 제26회 유엔 기후변화 당사국 총회(COP26)를 통해 ‘지구 온도 상승 1.5도 제한’을 이행하기 위한 방법을 찾았습니다. 이번 COP26에선 남태평양 중앙에 위치한 섬나라 투발루의 외무장관이 수중 연설을 하는 영상이 화제를 모았어요. 그는 “우리는 기후변화와 해수면 상승이라는 현실을 살아가고 있다”며 “바닷물이 항상 차오르고 있는 상황에서 말뿐인 약속만을 기다릴 여유가 없다”고 강조했죠.  </p>\n",
              "  <p data-id=\"12\" data-particle-index=\"0\" data-particle-type=\"TextTemplate\" data-texttype=\"104\">중앙일보 12월 15일자</p>\n",
              "  <p data-id=\"14\" data-particle-index=\"0\" data-particle-type=\"TextTemplate\" data-texttype=\"104\"><b><br/>뉴스 ② 한반도 해수면 매년 평균 3.03㎜ 상승···“기후변화 여파”</b></p>\n",
              "  <figure class=\"wp-caption aligncenter\" id=\"attachment_44209\" style=\"width: 1654px;\"><a href=\"https://sojoong.joins.com/wp-content/uploads/sites/4/2021/12/IM0125202112274000201_20211221-215056_089.jpg\"><img alt=\"투발루 섬의 사이먼 코페 장관은 11월 4일(현지시각) 제26차 유엔기후변화협약총회에서 공개된 영상에서 양복과 넥타이를 착용하고 물속에서 연설해 눈길을 끌었다. 투발루는 해수면  상승으로 인해 앞으로 수십 년 동안 사라질 위기에 처해 있다. SNS 캡처\" class=\"size-full wp-image-44209\" height=\"1102\" src=\"https://sojoong.joins.com/wp-content/uploads/sites/4/2021/12/IM0125202112274000201_20211221-215056_089.jpg\" width=\"1654\"/></a><figcaption class=\"wp-caption-text\">투발루 섬의 사이먼 코페 장관은 11월 4일(현지시각) 제26차 유엔기후변화협약총회에서 공개된 영상에서 양복과 넥타이를 착용하고 물속에서 연설해 눈길을 끌었다. 투발루는 해수면 상승으로 인해 앞으로 수십 년 동안 사라질 위기에 처해 있다. SNS 캡처</figcaption></figure>\n",
              "  <p data-id=\"17\" data-particle-index=\"0\" data-particle-type=\"TextTemplate\" data-texttype=\"104\">기후변화로 인해 지난 30년 동안 우리나라의 해수면이 매년 평균 3.03㎜씩 상승한 것으로 나타났습니다. 특히 최근 10년간 연평균 해수면 상승 폭이 지난 30년간 연평균보다 높아지는 등 한반도 연안의 해수면 상승 속도가 점차 빨라지고 있죠.</p>\n",
              "  <p data-id=\"18\" data-particle-index=\"0\" data-particle-type=\"TextTemplate\" data-texttype=\"104\">20일 해양수산부 국립해양조사원(원장 정태성)이 기후변화에 따른 해수면 변동을 알아보기 위해 1991년부터 2020년까지 30년 동안의 연안 조위관측소 자료를 분석한 결과에 따르면 우리나라 전 연안의 평균 해수면이 매년 3.03㎜씩 높아져 평균 9.1㎝가량 상승한 것으로 조사됐습니다.</p>\n",
              "  <p data-id=\"20\" data-particle-index=\"0\" data-particle-type=\"TextTemplate\" data-texttype=\"104\">해역별 평균 해수면 상승률은 동해안(연 3.71㎜)이 가장 높았고, 이어 서해안(연 3.07㎜), 남해안(연 2.61㎜) 순으로 나타났죠. 관측지점별로 보면 울릉도가 연 6.17㎜로 가장 높았고, 이어 포항(3.99㎜), 보령(3.38㎜), 인천(3.31㎜), 속초(3.17㎜) 순이었습니다. 최근 30년간의 연안 평균 해수면 상승 속도는 ▲1991~2000년 3.80㎜ ▲2001~2010년 0.13㎜ ▲2011~2020년 연 4.27㎜로, 1990년대 대비 최근 10년에 약 10% 이상 증가했죠.</p>\n",
              "  <p data-id=\"22\" data-particle-index=\"0\" data-particle-type=\"TextTemplate\" data-texttype=\"104\">지난 8월 ‘정부 간 기후변화에 관한 협의체(IPCC)’ 산하 실무그룹은 1971년부터 2006년까지 전 지구 평균 해수면이 연 1.9㎜씩, 2006년부터 2018년까지 연 3.7㎜씩 상승했다는 내용이 담긴 보고서를 발표했어요. 이 결과와 비교하면 우리나라 연안의 해수면 상승률은 1971~2006년에 연 2.2㎜로, 전 지구 평균보다 소폭 빨랐으나, 2006~2018년에는 연 3.6㎜로 전 지구 평균과 유사하게 상승하고 있습니다.</p>\n",
              "  <p data-id=\"24\" data-particle-index=\"0\" data-particle-type=\"TextTemplate\" data-texttype=\"104\">뉴시스 12월 20일자</p>\n",
              "  <p data-id=\"26\" data-particle-index=\"0\" data-particle-type=\"TextTemplate\" data-texttype=\"104\"><b><br/><strong>뉴스 ③ </strong>인류 망해도 이건 남긴다, 외관부터 범상찮은 이 건축물 정체</b></p>\n",
              "  <figure class=\"wp-caption aligncenter\" id=\"attachment_44210\" style=\"width: 1031px;\"><a href=\"https://sojoong.joins.com/wp-content/uploads/sites/4/2021/12/IM0125202112274000201_20211221-215526_090.jpg\"><img alt=\"2022년 중 호주 태즈메이니아주 서부 해변에 설치될 ‘지구 블랙박스’. 지구 블랙박스 공식 홈페이지 캡처\" class=\"size-full wp-image-44210\" height=\"626\" src=\"https://sojoong.joins.com/wp-content/uploads/sites/4/2021/12/IM0125202112274000201_20211221-215526_090.jpg\" width=\"1031\"/></a><figcaption class=\"wp-caption-text\">2022년 중 호주 태즈메이니아주 서부 해변에 설치될 ‘지구 블랙박스’. 지구 블랙박스 공식 홈페이지 캡처</figcaption></figure>\n",
              "  <p data-id=\"29\" data-particle-index=\"0\" data-particle-type=\"TextTemplate\" data-texttype=\"104\">2층짜리 대형 시내버스보다 덩치가 큰 강철 구조. 외부엔 태양광 패널 부착, 내부엔 데이터 저장할 드라이브 설치. 섬으로 이뤄진 호주 태즈메이니아주에 들어설 한 건축물의 모습입니다. 언뜻 정체를 상상하기 어려운 이곳은 ‘지구 블랙박스’(Earth’s Black Box)입니다.  </p>\n",
              "  <p data-id=\"30\" data-particle-index=\"0\" data-particle-type=\"TextTemplate\" data-texttype=\"104\">7일(현지시간) CNN·로이터 등에 따르면 지구 상의 기후변화와 세계 각국의 대응을 기록하기 위한 저장 장치인 지구 블랙박스가 내년 중 등장합니다. 호주의 태즈메이니아 대학, 광고대행사 클레멘저BBDO 등이 개발을 주도하고 있죠. 앞으로 온라인으로 올라오는 기후위기 연구 자료와 뉴스, 소셜 미디어 게시물 등은 모두 여기에 실시간으로 저장할 계획입니다. 평균 기온, 에너지 소비량 등 500가지 측정 지표를 바탕으로 기후위기 현상과 각국 정부 움직임도 정기적으로 기록하죠.</p>\n",
              "  <p data-id=\"32\" data-particle-index=\"0\" data-particle-type=\"TextTemplate\" data-texttype=\"104\">지구 블랙박스란 이름은 어떤 사고에도 파괴가 불가능한 비행기 기록계에서 영감을 받아 붙였습니다. 이 건축물은 이름 그대로 모든 자연재해를 견딜 수 있도록 견고하게 설계되는데요. 크기는 길이 10m, 가로 4m, 높이 3m. 두꺼운 벽은 강철 소재가 쓰이죠. 태양광·태양열 같은 재생에너지로 가동되기 때문에 외부 에너지 공급이 끊겨도 문제가 없다고 합니다.</p>\n",
              "  <p data-id=\"35\" data-particle-index=\"0\" data-particle-type=\"TextTemplate\" data-texttype=\"104\">지구 블랙박스가 이토록 튼튼하게 지어진 건 기후변화로 인류가 멸망할 가능성에 대비해서입니다. 블랙박스 건축을 기획한 클레멘저BBDO의 디렉터 짐 커티스는 “기후변화로 최악의 상황이 발생하더라도 기후위기 내용과 인류의 대응이 담긴 이 블랙박스는 남아 있을 것이다. 추후 이를 발견한 미래의 누군가가 우리의 실수로부터 교훈을 얻을 수 있다”고 설명했어요.</p>\n",
              "  <p data-id=\"36\" data-particle-index=\"0\" data-particle-type=\"TextTemplate\" data-texttype=\"104\">중앙일보 12월 8일자</p>\n",
              "  <p data-id=\"48\" data-particle-index=\"0\" data-particle-type=\"TextTemplate\" data-texttype=\"104\"> </p>\n",
              "  <div class=\"yarpp-related yarpp-related-none\">\n",
              "  <h3>연관뉴스</h3>\n",
              "  </div>\n",
              "  </p>,\n",
              "  'title': '[위클리이슈] 거듭되는 이상기후···지구가 보내는 경고 들여다보니',\n",
              "  'url': 'https://sojoong.joins.com/archives/44206'}]"
            ]
          },
          "metadata": {},
          "execution_count": 63
        }
      ]
    }
  ]
}