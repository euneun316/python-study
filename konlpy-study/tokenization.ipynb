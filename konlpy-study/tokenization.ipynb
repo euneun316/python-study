{
  "nbformat": 4,
  "nbformat_minor": 0,
  "metadata": {
    "colab": {
      "name": "tokenization.ipynb",
      "provenance": [],
      "collapsed_sections": [],
      "include_colab_link": true
    },
    "kernelspec": {
      "name": "python3",
      "display_name": "Python 3"
    },
    "language_info": {
      "name": "python"
    }
  },
  "cells": [
    {
      "cell_type": "markdown",
      "metadata": {
        "id": "view-in-github",
        "colab_type": "text"
      },
      "source": [
        "<a href=\"https://colab.research.google.com/github/euneun316/python-study/blob/main/konlpy-study/tokenization.ipynb\" target=\"_parent\"><img src=\"https://colab.research.google.com/assets/colab-badge.svg\" alt=\"Open In Colab\"/></a>"
      ]
    },
    {
      "cell_type": "markdown",
      "source": [
        "# Tokenizer"
      ],
      "metadata": {
        "id": "8Ze6u39wkZF0"
      }
    },
    {
      "cell_type": "markdown",
      "source": [
        "## Insatll Mecab"
      ],
      "metadata": {
        "id": "kTt1KbVDkcXF"
      }
    },
    {
      "cell_type": "code",
      "source": [
        "%%bash\n",
        "apt-get update\n",
        "apt-get install g++ openjdk-8-jdk python-dev python3-dev\n",
        "pip3 install JPype1\n",
        "pip3 install konlpy"
      ],
      "metadata": {
        "id": "8u8V14iYVimp"
      },
      "execution_count": null,
      "outputs": []
    },
    {
      "cell_type": "code",
      "source": [
        "%env JAVA_HOME \"/usr/lib/jvm/java-8-openjdk-amd64\""
      ],
      "metadata": {
        "colab": {
          "base_uri": "https://localhost:8080/"
        },
        "id": "FglPQ9JiVZ-r",
        "outputId": "3a752491-ba30-407d-fcae-e95505855289"
      },
      "execution_count": 2,
      "outputs": [
        {
          "output_type": "stream",
          "name": "stdout",
          "text": [
            "env: JAVA_HOME=\"/usr/lib/jvm/java-8-openjdk-amd64\"\n"
          ]
        }
      ]
    },
    {
      "cell_type": "code",
      "source": [
        "%%bash\n",
        "bash <(curl -s https://raw.githubusercontent.com/konlpy/konlpy/master/scripts/mecab.sh)\n",
        "pip3 install /tmp/mecab-python-0.996"
      ],
      "metadata": {
        "id": "-3PKhy0hVq36"
      },
      "execution_count": null,
      "outputs": []
    },
    {
      "cell_type": "markdown",
      "source": [
        "## Import"
      ],
      "metadata": {
        "id": "XtSRF20kki8L"
      }
    },
    {
      "cell_type": "code",
      "source": [
        "import konlpy\n",
        "from konlpy.tag import Kkma, Komoran, Hannanum, Okt\n",
        "from konlpy.utils import pprint\n",
        "from konlpy.tag import Mecab"
      ],
      "metadata": {
        "id": "ZqcBh9EUVyRt"
      },
      "execution_count": 4,
      "outputs": []
    },
    {
      "cell_type": "code",
      "source": [
        "import sys\n",
        "import pandas as pd\n",
        "import re\n",
        "from konlpy.tag import Mecab\n",
        "m= Mecab()\n",
        "from google.colab import drive\n",
        "drive.mount('/content/drive')\n",
        "filename = '/content/drive/MyDrive/Colab Notebooks/kidchosun.json'\n",
        "df = pd.read_json(filename, lines=True)"
      ],
      "metadata": {
        "colab": {
          "base_uri": "https://localhost:8080/"
        },
        "id": "aZZtNIdbX5Ay",
        "outputId": "7511f026-ec38-4b2a-c9cc-0c983336e445"
      },
      "execution_count": 5,
      "outputs": [
        {
          "output_type": "stream",
          "name": "stdout",
          "text": [
            "Mounted at /content/drive\n"
          ]
        }
      ]
    },
    {
      "cell_type": "markdown",
      "source": [
        "## Load Data"
      ],
      "metadata": {
        "id": "QEEHQ0QinGWz"
      }
    },
    {
      "cell_type": "code",
      "source": [
        "m = Mecab()\n",
        "sentence = \"안녕하세요 설치가 정상적으로 완료되었습니다.\"\n",
        "m.morphs(sentence)"
      ],
      "metadata": {
        "colab": {
          "base_uri": "https://localhost:8080/"
        },
        "id": "RC4LCtgyV2cH",
        "outputId": "5bd1b47b-dbf5-4cf1-d422-44715a45d663"
      },
      "execution_count": 6,
      "outputs": [
        {
          "output_type": "execute_result",
          "data": {
            "text/plain": [
              "['안녕', '하', '세요', '설치', '가', '정상', '적', '으로', '완료', '되', '었', '습니다', '.']"
            ]
          },
          "metadata": {},
          "execution_count": 6
        }
      ]
    },
    {
      "cell_type": "markdown",
      "source": [
        "---"
      ],
      "metadata": {
        "id": "7kAOeVmYX8Tr"
      }
    },
    {
      "cell_type": "code",
      "source": [
        "df.head(3)"
      ],
      "metadata": {
        "colab": {
          "base_uri": "https://localhost:8080/",
          "height": 447
        },
        "id": "ijHLobHHZBpl",
        "outputId": "a13a5db5-2a6c-4b19-95c1-68c15225c89d"
      },
      "execution_count": 7,
      "outputs": [
        {
          "output_type": "execute_result",
          "data": {
            "text/html": [
              "\n",
              "  <div id=\"df-2b14c2b8-b218-403c-9c6b-0c6701a1b7eb\">\n",
              "    <div class=\"colab-df-container\">\n",
              "      <div>\n",
              "<style scoped>\n",
              "    .dataframe tbody tr th:only-of-type {\n",
              "        vertical-align: middle;\n",
              "    }\n",
              "\n",
              "    .dataframe tbody tr th {\n",
              "        vertical-align: top;\n",
              "    }\n",
              "\n",
              "    .dataframe thead th {\n",
              "        text-align: right;\n",
              "    }\n",
              "</style>\n",
              "<table border=\"1\" class=\"dataframe\">\n",
              "  <thead>\n",
              "    <tr style=\"text-align: right;\">\n",
              "      <th></th>\n",
              "      <th>_id</th>\n",
              "      <th>url</th>\n",
              "      <th>title</th>\n",
              "      <th>subtitle</th>\n",
              "      <th>author</th>\n",
              "      <th>date</th>\n",
              "      <th>article</th>\n",
              "      <th>img_path</th>\n",
              "      <th>source</th>\n",
              "    </tr>\n",
              "  </thead>\n",
              "  <tbody>\n",
              "    <tr>\n",
              "      <th>0</th>\n",
              "      <td>{'$oid': '61fc7fc7e1791fc0544944ba'}</td>\n",
              "      <td>http://kid.chosun.com/site/data/html_dir/2022/...</td>\n",
              "      <td>[교과서 한자어] 樹液(수액)</td>\n",
              "      <td>None</td>\n",
              "      <td>어린이조선일보</td>\n",
              "      <td>2022-02-03 00:01:00</td>\n",
              "      <td></td>\n",
              "      <td>http://kid.chosun.com/site/data/img_dir/2022/0...</td>\n",
              "      <td>어린이조선일보</td>\n",
              "    </tr>\n",
              "    <tr>\n",
              "      <th>1</th>\n",
              "      <td>{'$oid': '61fc7fc7e1791fc0544944bb'}</td>\n",
              "      <td>http://kid.chosun.com/site/data/html_dir/2022/...</td>\n",
              "      <td>‘우편 트럭’ 선물받은 암투병 美 소년</td>\n",
              "      <td>신장암 앓고 있는 제이콥 “우체부가 돼 세계일주 할 거예요”</td>\n",
              "      <td>신자영 기자</td>\n",
              "      <td>2022-01-31 11:40:00</td>\n",
              "      <td>2년 간 암과 싸우던 미국의 소년이 7번째 생일을 맞아 최고의 선물을 받았다. 최근...</td>\n",
              "      <td>http://kid.chosun.com/site/data/img_dir/2022/0...</td>\n",
              "      <td>어린이조선일보</td>\n",
              "    </tr>\n",
              "    <tr>\n",
              "      <th>2</th>\n",
              "      <td>{'$oid': '61fc7fc7e1791fc0544944bc'}</td>\n",
              "      <td>http://kid.chosun.com/site/data/html_dir/2022/...</td>\n",
              "      <td>프란치스코 교황 ‘코로나 인포데믹’ 우려</td>\n",
              "      <td>“올바른 정보도 人權, 과학적 정보 보장돼야”</td>\n",
              "      <td>신현주 기자</td>\n",
              "      <td>2022-01-31 11:44:00</td>\n",
              "      <td>프란치스코(Francesco) 교황이 코로나와 관련된 가짜뉴스가 성행(盛行)하고 있...</td>\n",
              "      <td>http://kid.chosun.com/site/data/img_dir/2022/0...</td>\n",
              "      <td>어린이조선일보</td>\n",
              "    </tr>\n",
              "  </tbody>\n",
              "</table>\n",
              "</div>\n",
              "      <button class=\"colab-df-convert\" onclick=\"convertToInteractive('df-2b14c2b8-b218-403c-9c6b-0c6701a1b7eb')\"\n",
              "              title=\"Convert this dataframe to an interactive table.\"\n",
              "              style=\"display:none;\">\n",
              "        \n",
              "  <svg xmlns=\"http://www.w3.org/2000/svg\" height=\"24px\"viewBox=\"0 0 24 24\"\n",
              "       width=\"24px\">\n",
              "    <path d=\"M0 0h24v24H0V0z\" fill=\"none\"/>\n",
              "    <path d=\"M18.56 5.44l.94 2.06.94-2.06 2.06-.94-2.06-.94-.94-2.06-.94 2.06-2.06.94zm-11 1L8.5 8.5l.94-2.06 2.06-.94-2.06-.94L8.5 2.5l-.94 2.06-2.06.94zm10 10l.94 2.06.94-2.06 2.06-.94-2.06-.94-.94-2.06-.94 2.06-2.06.94z\"/><path d=\"M17.41 7.96l-1.37-1.37c-.4-.4-.92-.59-1.43-.59-.52 0-1.04.2-1.43.59L10.3 9.45l-7.72 7.72c-.78.78-.78 2.05 0 2.83L4 21.41c.39.39.9.59 1.41.59.51 0 1.02-.2 1.41-.59l7.78-7.78 2.81-2.81c.8-.78.8-2.07 0-2.86zM5.41 20L4 18.59l7.72-7.72 1.47 1.35L5.41 20z\"/>\n",
              "  </svg>\n",
              "      </button>\n",
              "      \n",
              "  <style>\n",
              "    .colab-df-container {\n",
              "      display:flex;\n",
              "      flex-wrap:wrap;\n",
              "      gap: 12px;\n",
              "    }\n",
              "\n",
              "    .colab-df-convert {\n",
              "      background-color: #E8F0FE;\n",
              "      border: none;\n",
              "      border-radius: 50%;\n",
              "      cursor: pointer;\n",
              "      display: none;\n",
              "      fill: #1967D2;\n",
              "      height: 32px;\n",
              "      padding: 0 0 0 0;\n",
              "      width: 32px;\n",
              "    }\n",
              "\n",
              "    .colab-df-convert:hover {\n",
              "      background-color: #E2EBFA;\n",
              "      box-shadow: 0px 1px 2px rgba(60, 64, 67, 0.3), 0px 1px 3px 1px rgba(60, 64, 67, 0.15);\n",
              "      fill: #174EA6;\n",
              "    }\n",
              "\n",
              "    [theme=dark] .colab-df-convert {\n",
              "      background-color: #3B4455;\n",
              "      fill: #D2E3FC;\n",
              "    }\n",
              "\n",
              "    [theme=dark] .colab-df-convert:hover {\n",
              "      background-color: #434B5C;\n",
              "      box-shadow: 0px 1px 3px 1px rgba(0, 0, 0, 0.15);\n",
              "      filter: drop-shadow(0px 1px 2px rgba(0, 0, 0, 0.3));\n",
              "      fill: #FFFFFF;\n",
              "    }\n",
              "  </style>\n",
              "\n",
              "      <script>\n",
              "        const buttonEl =\n",
              "          document.querySelector('#df-2b14c2b8-b218-403c-9c6b-0c6701a1b7eb button.colab-df-convert');\n",
              "        buttonEl.style.display =\n",
              "          google.colab.kernel.accessAllowed ? 'block' : 'none';\n",
              "\n",
              "        async function convertToInteractive(key) {\n",
              "          const element = document.querySelector('#df-2b14c2b8-b218-403c-9c6b-0c6701a1b7eb');\n",
              "          const dataTable =\n",
              "            await google.colab.kernel.invokeFunction('convertToInteractive',\n",
              "                                                     [key], {});\n",
              "          if (!dataTable) return;\n",
              "\n",
              "          const docLinkHtml = 'Like what you see? Visit the ' +\n",
              "            '<a target=\"_blank\" href=https://colab.research.google.com/notebooks/data_table.ipynb>data table notebook</a>'\n",
              "            + ' to learn more about interactive tables.';\n",
              "          element.innerHTML = '';\n",
              "          dataTable['output_type'] = 'display_data';\n",
              "          await google.colab.output.renderOutput(dataTable, element);\n",
              "          const docLink = document.createElement('div');\n",
              "          docLink.innerHTML = docLinkHtml;\n",
              "          element.appendChild(docLink);\n",
              "        }\n",
              "      </script>\n",
              "    </div>\n",
              "  </div>\n",
              "  "
            ],
            "text/plain": [
              "                                    _id  ...   source\n",
              "0  {'$oid': '61fc7fc7e1791fc0544944ba'}  ...  어린이조선일보\n",
              "1  {'$oid': '61fc7fc7e1791fc0544944bb'}  ...  어린이조선일보\n",
              "2  {'$oid': '61fc7fc7e1791fc0544944bc'}  ...  어린이조선일보\n",
              "\n",
              "[3 rows x 9 columns]"
            ]
          },
          "metadata": {},
          "execution_count": 7
        }
      ]
    },
    {
      "cell_type": "code",
      "source": [
        "titles = list(df[\"title\"])"
      ],
      "metadata": {
        "id": "06sOYJ-vX4RL"
      },
      "execution_count": 10,
      "outputs": []
    },
    {
      "cell_type": "code",
      "source": [
        "titles[1:3]"
      ],
      "metadata": {
        "colab": {
          "base_uri": "https://localhost:8080/"
        },
        "id": "_WCHbLL_ZEqE",
        "outputId": "cbd4a62e-f337-4a88-86d3-4fbbf20dfbf8"
      },
      "execution_count": 11,
      "outputs": [
        {
          "output_type": "execute_result",
          "data": {
            "text/plain": [
              "['‘우편 트럭’ 선물받은 암투병 美 소년', '프란치스코 교황 ‘코로나 인포데믹’ 우려']"
            ]
          },
          "metadata": {},
          "execution_count": 11
        }
      ]
    },
    {
      "cell_type": "code",
      "source": [
        "for title in titles:\n",
        "  print(title)"
      ],
      "metadata": {
        "id": "Kwb-3EyBfIE6"
      },
      "execution_count": null,
      "outputs": []
    },
    {
      "cell_type": "markdown",
      "source": [
        "## Define"
      ],
      "metadata": {
        "id": "Y6CaOXxdnNJ4"
      }
    },
    {
      "cell_type": "code",
      "source": [
        "# target pos set\n",
        "noun = {\"NNG\", \"NNP\", \"NP\"}\n",
        "verb_adj = {\"VV\", \"VA\"}\n",
        "\n",
        "def tokenizer(text):\n",
        "    # input/output object\n",
        "    token = m.pos(text)\n",
        "    result = \"\"\n",
        "    # processing\n",
        "    for word, tag in token:\n",
        "        if tag in verb_adj:\n",
        "            result += word + \"다 \"\n",
        "        elif tag in noun:\n",
        "            result += word + \" \"\n",
        "    # result\n",
        "    return result"
      ],
      "metadata": {
        "id": "V-IkNs1AZITJ"
      },
      "execution_count": 15,
      "outputs": []
    },
    {
      "cell_type": "code",
      "source": [
        "result = \"\"\n",
        "for title in titles:\n",
        "    result += tokenizer(title)\n",
        "\n",
        "result"
      ],
      "metadata": {
        "colab": {
          "base_uri": "https://localhost:8080/",
          "height": 200
        },
        "id": "H1NFfAyZnSiA",
        "outputId": "383f730c-f511-4473-d0bf-06d1f74d3ecc"
      },
      "execution_count": 13,
      "outputs": [
        {
          "output_type": "execute_result",
          "data": {
            "application/vnd.google.colaboratory.intrinsic+json": {
              "type": "string"
            },
            "text/plain": [
              "'교과서 한자어 樹液 수액 우편 트럭 선물 받다 암투병 美 소년 프란치스코 교황 코로나 인포 믹 우려 행시 짓다 곰돌이 푸 이번 주 미션 슬기 소비자 되다 미세 플라스틱 위험 일상 속 특급 비밀 편하다 위 아래 엘리베이터 작동 핵심 밧줄 도르래 세종 쌤 들려주다 기술 이야기 변호사 의사 역할 보조 名品 명품 짝퉁 쓰다 되다 생각 쓰다 베니스 상인 산문 입선 미사 조정 경기장 체험 행사 방송 출연 동물 안전 보장 史劇 사극 동물 학대 논란 연예계 외신 비판 뉴스 탐험대 반크 英 유명 세계사 책 한국 역사 오류 많다 뉴스 탐험대 佛 연구 넘다 비눗방울 개발 뉴스 탐험대 체중 늘다 감봉 항공사 외모 강요 논란 바다 위 팬케이크 추위 자연 현상 뉴스 탐험대 전 우주 검다 다이아몬드 경매 뉴스 탐험대 영국 어린이 뽑다 지난해 단어 불안 비행기 出産 출산 의사 선생 감사 주목 정보 레터 아침 햇볕 샤워 낮잠 넘기다 메시지 뉴스 재밌다 지하철 역명 이야기 어린이 조선 작가 교실 문장 짧다 말 거짓 내용 첨가 금물 교과서 한자어 熱氣 열기 한국사 속 인물 근현대 석주명 책 읽다 찻집 행운 고양이 사건 오늘 내 뚱딴지 작가 일자 면 구성 행시 짓다 호랑이 이번 주 미션 알차다 튀다 인터뷰 국내 청소년 아티스트 아트 띠 박 하름 영상 맛있다 실험실 감자채 피자 만들다 영상 출동 명예 기자 새벽 배송 쇼핑몰 마켓 컬리 김 슬아 대표 인터뷰 영상 출동 명예 기자 국립 과학 수사 연구원 체험 속 속뜻 퀴즈 알 립 니다 온라인 기자 체험 참가자 모집 뚱딴지 명작 그리다 워드 서치 스도쿠 뉴스 탐험대 중계 코너 할머니 살빼다 넥슨 출동 명예 기자 국립 과학 수사 연구원 가다 반려 동식물 이야기 주인 도로 경찰 금붕어 기억력 길 기억 운전 뉴 미디어 세상 속 새 가족 폰 사용 시간 청소부 아빠 받다 딸 화장실 보다 자랑 뉴스 탐험대 한국인 신뢰 국가 美 日 中 꼴찌 뉴스 탐험대 영화 다르다 중세 시대 軍馬 군마 조랑말 크기 스도쿠 출동 명예 기자 피자 가족 왕자 영재 아이 기질 우리 기질 타율 경험 기회 자율 부모 지지 헬스 리포트 기지개 점프 숨다 키 기자 수다 뉴스 탐험대 오레 생일 축하 한정판 공개 오늘 키워드 기자 수첩 고든 램지 버거 비싸다 줄서다 먹다 이유 꿀 경제 핫 애플 모바일 세상 아이폰 탄생 뚱딴지 수면 부족 산문 가작 장 동시 가작 길고양이 마음 창간 이벤트 태블릿 공기 청정기 퀴즈 풀다 선물 받다 새해 계획 作心 작심삼일 실현 가능 목표 실천 콧수염 닮다 같다 뉴스 탐험대 확진 보건소 연락 없다 의료 공백 속출 뉴스 탐험대 中 탐사선 달 표면 흙 물 존재 증거 찾다 뉴스 탐험대 대체재 곰팡이 달걀 흰자 맛 기자 수첩 뛰어놀다 모습 강산아 하늘나라 행복 뉴스 탐험대 英 케이트 왕세손 육아 태도 다이애나 닮다 간식 유혹 먹다 없다 엄마 경제 선생 주식 투자 관심 있다 코스피 지수 공부 하다 일 없다 꿈 모르다 내면 열정 몰입 동시 첫눈 읽다 똥 묻다 세계사 교과서 한자어 休息 휴식 뚱딴지 지폐 워드 서치 주목 정보 레터 공부 다그치다 경험 하다 메시지 뉴스 어린이 교통안전 기업 탐방 수소 비행기 전기 車 윤리 생산 집중 어린이 조선 작가 교실 생각 모으다 개요 짜다 글 틀 교과서 한자어 尊重 존중 세계 영웅 라이트 형제 윤희영 명언 수수께끼 우스개 뚱딴지 운동화 워드 서치 스도쿠 팝콘 뉴스 태권 어린이 자기 조절력 높다 뉴스 탐험대 빙하 남다 펭귄 전력 질주 뉴스 탐험대 카불 공항 아기 가족 품 뉴스 탐험대 뿔 투구 바이킹 전유물 청동기 시대 제작 유전자 변형 돼지 심장 사람 移植 이식 세계 최초 교과서 한자어 惡名 악명 윤희영 애플 시 총 의미 프랑스 인도 규모 맞먹다 슬기 소비자 되다 플라스틱 세상 일상 속 특급 비밀 옷 男女 老少 남녀노소 사랑 받다 청바지 이야기 듣다 名曲 나 체코 음악가 안토닌 드보르자크 광주 아파트 붕괴 예견 사고 전 행정 처분 주민 민원 세종 쌤 들려주다 기술 이야기 가짜 가상 현실 만나다 시사 낱말 퍼즐 친구 그림책 책 출간 요즘 나 지내다 신문 속 모르다 단어 나 사전 완성 책상 위 친구 보다 마음 편안 뉴스 탐험대 韓 분야 수출 역대 최고 原電 원전 위험 환경 유해 오해 진실 풀다 웹 소설 웹툰 보다 독서 학생 독서 량 뚝 전자책 활용 비율 늘다 워드 서치 스도쿠 산문 가작 나 누구 동시 가작 마지막 잎사귀 의학 정보 우리 어깨 통증 나 거북목 견 묘생 역전 힘들다 과거 행복 통가 강력 화산 분화 세계 곳곳 영향 뉴스 탐험대 학원 독서실 방역 패스 해제 청소년 적용 유지 뉴스 탐험대 장기 우주여행 적혈구 파괴 배 뉴스 탐험대 한정판 운동화 뭐 위험 역주행 뉴스 탐험대 美 적십자사 혈액 부족 사태 최악 뉴스 탐험대 은하 입체 지도 공개 뉴스 탐험대 해부도 살구색 피부 검다 태아 삽화 화제 세계 전기차 열풍 불자 배터리 원재료 니켈 값 급등 생각 쓰다 갈매기 꿈 마음 듣다 문학 꽃 이야기 양산 황금빛 물결 이루다 앨런 튜링 하다 두뇌 퍼즐 건물 지다 지도 길 찾다 교과서 한자어 創刊 창간 세상 경쟁 현정화 리분희 뚱딴지 건강 지수 윤희영 명언 수수께끼 우스개 뚱딴지 일어나다 벌레 워드 서치 스도쿠 속 속뜻 퀴즈 윤우영 空間 스케치 포천 선 휴게소 곳 보다 의자 앉다 팬 상술 아이돌 굿 괜찮다 안네 은신처 密告 밀다 유력 용의자 찾다 뉴스 탐험대 베이징 오미크론 확진 국제 우편물 감염 뉴스 탐험대 중남미 新種 신종 개구리 이름 그레타 툰베리 오늘 키워드 집중 전략 감귤 녹화 병 美 오렌지 생산 줄자 주스 가격 이야기 듣다 名曲 백조 호수 호두 까다 인형 발레 음악 거장 차이콥스키 교과서 한자어 名曲 명곡 윤희영 뚱딴지 체질 맞다 음식 워드 서치 스도쿠 뉴스 탐험대 중계 코너 뿔 투구 태권도 강산 아이폰 오레 정판 반려 동식물 이야기 건강 감량 성공 犬公 代 잇다 질병 탐지견 남매 활약 기대 뉴 미디어 세상 속 代 인기 유 튜버 틱톡 커 정치인 진 엄격 하다 만화 캐릭터 닮다 부모 때 행복 현실 뉴스 탐험대 건강 아동 부스터 샷 필요 증거 없다 올해 소비 트렌드 일상 회복 엄마 경제 선생 돈 발행 좋다 물가 치솟다 인플레이션 일기 쓰다 어렵다 이순신 장군 마음 담다 동시 개밥바라기 읽다 어린이 교과서 한자어 疫病 역병 뚱딴지 운동 꿀 경제 핫 편식 친환경 제품 설 선물 키워드 보다 경제 상식 경제 키워드 슬기 소비자 되다 쓰레기 섬 아다 지구 망치다 패스트 패션 일상 속 특급 비밀 기억 지우개 부탁 세종 쌤 들려주다 기술 이야기 실제 보다 느끼다 머리 시사 낱말 퍼즐 기사 신문 스크랩 올해 요즘 나 지내다 파워 포인트 간 연습 자격증 도전 바늘 양모 인형 완성 촉감 스트레스 싹 책 읽다 일 있다 언제 오늘 내 뚱딴지 작가 일자 면 구성 행시 짓다 승승장구 이번 주 미션 알차다 튀다 인터뷰 세계 드론 기술 임현 유비 파이 대표 전쟁 不辭 불사 러시아 속내 우크라 유럽 없다 치료 전문가 칸토 인물 특징 뉴스 탐험대 우주 최초 영화 스튜디오 촬영 톰 크루즈 뉴스 탐험대 오미크론 차단 실내 마스크 권장 뉴스 탐험대 동물 友愛 우애 깊다 붙다 코끼리 형제 기자 수첩 나 레시피 우유 팝콘 말기 건강 간식 주목 정보 레터 운명 날 남다 메시지 뉴스 어린이 안전 관리 강화 기업 탐방 전통 제조업 강국 탄소 제로 변화 앞장 어린이 조선 작가 교실 문장 읽다 짧다 문장 사용 연재 끝 워드 서치 스도쿠 왕자 건강 어린이 나 나 알약 삼키기 힘들다 먹다 기자 수다 이번 달 생활비 늘다 이유 뉴스 탐험대 세계 부자 빈부 격차 해소 세금 내다 뉴스 탐험대 아이 치즈 먹다 광고 방송 금지 오늘 키워드 공모주 전세 대출 利子 이자 월세 金 금리 오르다 역전 사이언 티 픽 메타 버스 물 속 다리 짧다 보이다 이유 마음 듣다 문학 꽃 이야기 잡초 틈 찾다 가다 길 잊다 앨런 튜링 하다 두뇌 퍼즐 알다 로봇 교과서 한자어 海底 해저 뚱딴지 우주선 놓다 어휘 명절 영화 워드 서치 스도쿠 동시 입선 이사 장난감 교과서 한자어 出産 출산 세계 영웅 로물루스 레 무스 윤희영 명언 수수께끼 우스개 뚱딴지 한쪽 눈 뜨다 자기 놓다 어휘 주리 인생 좌우명 워드 서치 스도쿠 속 속뜻 퀴즈 출동 명예 기자 남궁 응급 의학 전문의 만나다 우리 나라 지역 특산물 얼마 뉴스 탐험대 외국인 한국 이미지 긍정 뉴스 탐험대 탐사 위성 테스 외계 행성 후보 발견 오늘 키워드 빅 테크 조상 호텔 셰프 먹다 차례 인기 이야기 듣다 名曲 손가락 연주자 대신 작곡자 로베르트 슈만 교과서 한자어 追跡 추적 윤희영 뚱딴지 당나귀 놓다 어휘 정신 놓다 명당자리 워드 서치 스도쿠 뉴스 탐험대 중계 코너 질병 탐지견 견 묘생 역전 대출 利子 검다 다이아몬드 반려 동식물 이야기 설 연휴 호텔 반려 견과 영화관 데이트 즐기다 뉴 미디어 세상 속 유튜브 독자 콘텐츠 접다 쇼 츠 확대 메타 가상 세계 속 감각 센서 특허 설 연휴 내 닮다 캐릭터 나오다 디즈니 영화 활동 량 줄다 패스트푸드 섭취 늘다 서울 학생 체중 뉴스 탐험대 시험 점수 노력 자세 칭찬 뉴스 탐험대 장소 호그와트 城 메타 버스 결혼 피로연 눌리다 파노라마 찍다 동물 사진 설 낱말 퍼즐 생활 계획표 실천 하루 부지런 곳 거리 海底 해저 터널 기술력 종이 구멍 나 드론 쇼 솜씨 자랑 圖案 오리다 완성 팝 잇 손 가다 오늘 내 뚱딴지 작가 일자 면 구성 출동 명예 기자 강 정욱 펫 푸드 스타일리스트 만나다 왕자 목요일 쿠 킹 클래스 설날 맛있다 환상 짝꿍 떡국 봄동 겉절이 헬스 리포트 게임 지나치다 小兒 소아 우울증 의심 알 립 니다 창간 이벤트 기자 수다 슬기 소비자 되다 분리 배출 하다 이유 일상 속 특급 비밀 포스트잇 스카치테이프 바리캉 공통점 아다 뉴스 탐험대 라이선스 탈환 성공 엘사 바비 인형 오늘 키워드 퍼펙트 스톰 기자 수첩 몸 좋다 맛 좋다 전북 충북 특산물 소개 영상 출동 명예 기자 화제 인물 글 쓰다 의사 남궁 만나다 신자영 영어 원피스 대신 바지 입다 미니 마우스 美 포브스 한국 미국 최대 수출국 스텔스 오미크론 변종 세계 기록 달성 기록 달인 탄생 토스트 팬케이크 아침 먹다 초등 중학생 게임 시간 하루 평균 시간 꿀 경제 핫 카카오 신뢰 되찾다 있다 골 목상 침해 주식 먹 튀 논란 탈세 의혹 학교 야단맞다 낙서 소년 나이키 어린이 크리에이터 뉴스 탐험대 의존 낮다 우크라 전쟁 국내 영향 윷놀이 팽이 제기차기 놀다 풍성 엄마 아빠 뭐 세종 쌤 들려주다 기술 이야기 인간 생각 기계 인공지능 시사 낱말 퍼즐 소라게 손가락 괜찮다 나 살다 곳 세계 문화유산 팔만대장경 기운 받다 새해 좋다 일 하다 책 읽다 화 때 기분 좋다 비법 있다 오늘 내 뚱딴지 작가 일자 면 구성 겨울잠 자다 땅다람쥐 우주 여행 비법 위기 코알라 설날 고기 사다 구독자 보유 어린이 유튜브 라임 튜브 출연 이재명 후보 윤석열 후보 어린이 도서관 책 대출 절차 바꾸다 우리 나라 대표 얼굴 국민 손 뽑다 먹다 쉬다 연휴 끝 운동 시작 뉴스 탐험대 세계 학습 손실 극복 가능 엄마 경제 선생 투자 위험 간접 투자 세상 존재 인간 지구 막 쓰다 동시 읽다 연이 버들 도령 교과서 한자어 崩壞 붕괴 뚱딴지 체력 놓다 어휘 재산 쏟아부다 모조품 워드 서치 스도쿠 왕자 영재 아이 기질 우리 기질 자극 좇다 아이 위험 예측 대비 습관 연재 끝 헬스 리포트 집중 하다 아이 주의력 결핍 과잉 행동 장애 이번 주 미션 기자 수다 네이버 다음 목표 거대 뉴스 탐험대 자율 주행 로봇 步道 보도 통행 내년 허용 기자 수첩 받다 세뱃돈 관리 품질 안전 소비자 뽑다 자녀 최고 브랜드 꿀 경제 핫 名品 업계 스포츠 의류 시장 눈독 뉴스 탐험대 敵 소리 울음 소리 무리 알다 뉴스 탐험대 의미 있다 삶 꿈꾸다 어린이 되다 엄마 경제 선생 말 들다 계란 담다 뚱딴지 세월 놓다 어휘 음모 워드 서치 스도쿠 하늘 날다 학교 가요 에어택시 시대 여러분 생각 경제 활성 출근 오미크론 위험 뉴스 탐험대 농수산 식품 수출액 기록 역대 최고 뉴스 탐험대 넥슨 美 할리우드 제작사 투자 영재 아이 기질 우리 기질 배려 몰입 자기 형 관계 왕자 건강 어린이 나 나 음식점 위생 확인 기자 수다 뉴스 탐험대 신봉선 리액션 대체 가능 토큰 판매 창간 복간 이후 지금 어린이 조선일보 발자취 보다 공기 동물 수집 기자 수첩 용돈 떼쓰다 협상 꿀 경제 핫 막 세계 첨단 기술 자리 이번 주 미션 출동 명예 기자 새벽 배송 쇼핑몰 마켓 컬리 김 슬아 대표 만나다 우리 가족 代 어린이 조선일보 열혈 독자 엄마 경제 선생 물품 화폐 주화 은행 돈 진화 친구 용기 팔다 없다 나 읽다 이름 음식 교과서 한자어 英雄 영웅 뚱딴지 겨울잠 워드 서치 책 속 장면 눈 아이 스도쿠 작다 실천 알뜰 뉴스 탐험대 도넛 우유 식음료 업계 壬寅 年 인년 마케팅 어린이 오경 민 누리 형제 이웃 돕다 게임기 포기 뉴스 탐험대 어획량 감소 가격 급등 나 金 징어 뉴스 탐험대 새해 달라지다 교육 정책 교실 연장 이웃 해 전국서 기부 행렬 꿀 경제 핫 밖 춥다 위험 홈파티 관련 소비 증가 꿀 경제 뉴스 속 맛있다 움직이다 예술 슬기 소비자 되다 공정 무역 교과서 한자어 誘發 유발 엄마 경제 선생 부자 되다 돈 관리 습관 들이다 뚱딴지 상아 없다 코끼리 워드 서치 스도쿠 왕자 영재 아이 기질 우리 기질 내향형 혼자 공간 외향형 다양 교류 필요 상 잠재력 선수 꿈 나무 우승 뒤 가족 있다 알 립 니다 대상 러시 글쓰기 강좌 수강 모집 각종 이슈 담다 여러분 지식 올해 세상 이롭다 기술 뉴스 탐험대 빚 갚다 홍합 그릇 값 뉴스 탐험대 멸종 위기 바다거북 반 잦다 출몰 이유 뉴스 탐험대 세계 아동 학습 빈곤 평생 소득 손실 성장기 아이 신체 놀이 감정 통제 능력 올해 이상 시상식 활약 기대 헬스 리포트 코 막히다 콧물 알레르기 비염 어쩌다 기자 수다 독자 감사 편지 고맙다 세종 쌤 들려주다 기술 이야기 덕분 사람 농작물 건강 시사 낱말 퍼즐 생각 쓰다 레 미제라블 오늘 키워드 산타랠리 올해 최악 기후 재난 美 허리케인 아이다 상공 발 줄타기 도전 성장 있다 뉴스 탐험대 북 민 인권 운동가 박지현 올해 영웅 영국 선데이 타임스 이야기 듣다 名曲 현대 음악 문 연 인상주의 작곡가 드뷔시 교과서 한자어 含有 함유 윤희영 워드 서치 스도쿠 뉴스 탐험대 중계 코너 내사시 티라노 여우 그림 꼬마 영웅 마음 듣다 문학 꽃 이야기 꽃잎 밥알 서러움 알다 앨런 튜링 하다 두뇌 퍼즐 빵 굽다 대회 보석 더하기 교과서 한자어 卒業 졸업 세상 경쟁 정몽주 정도 전 워드 서치 스도쿠 산문 특선 엄마 추억 상자 동시 특선 고라니 작품 뽑다 곳 잊히다 소년 병 모습 세상 전쟁 사라지다 중학교 일 책 읽다 물고기 상상 젖소 모습 트레저 앵무새 바닐라 라떼 행시 짓다 나 해 이번 주 미션 요즘 나 지내다 황금 비율 생크림 바르다 마카롱 장식 새해 복 흥 지도력 용맹 열정 으뜸 새해 호랑이 문예 특선 박다 윤 인천 서흥 정 여경 충남 논산 왕전 전지 우주 산업 국가 경제 안보 필수 전략 기술 자녀 실수 대신 계속 뉴스 탐험대 부모 지위 자녀 학습 격차 새 뉴스 탐험대 돼지 형제 우화 볏짚 벽돌 약 뉴스 탐험대 머리 데칼코마니 형제 기록 달성 세계 인구 전년 比 감소 예측 주목 정보 레터 재밌다 방학 만드다 방법 여러분 실천 메시지 뉴스 성년 成年 기준 의학 정보 우리 마음 병원 치료 받다 어린이 조선 작가 교실 수집 자료 필요 순서 정하다 교과서 한자어 永眠 영면 한국사 속 인물 근현대 방정환 윤희영 명언 수수께끼 우스개 뚱딴지 호랑이 워드 서치 스도쿠 속 속뜻 퀴즈 윤우영 空間 스케치 일상 쉼표 포천 동화 마을 속 작다 문학 서점 사람 되다 나다 세상 만들다 학교 개방 최우선 교육 결손 막다 뉴스 탐험대 김밥 팔다 기부 代 할머니 뉴스 탐험대 교회 첨탑 남다 광산 폐수 유령 마을 뉴스 탐험대 한입 하다 찌르레기 떼 숟가락 춤 포착 유행 돌아오다 부츠 떡볶이 코트 세대 인기 이야기 듣다 名曲 오페라 서민 이야기 담다 자코모 푸치니 교과서 한자어 短縮 단축 윤희영 스도쿠 뉴스 탐험대 중계 코너 갯벌 어로 韓食 임인 마케팅 마인 크래프트 반려 동식물 이야기 돼지 家 피그 카소 그림 동물 작품 최고 백악관 놀이터 퍼스트 도그 커맨더 워드 서치 뉴 미디어 세상 속 틱톡 구글 제치다 세계 방문자 수 춤추다 뷰 영상 알 립 니다 여러분 궁금증 기자 대답 현장 출동 영국 여성 안심 귀가 드론 출시 건축 의료 쓰이다 소재 안전성 개선 숙제 뉴스 탐험대 새해 살 빼다 간식 줄이다 걸다 뉴스 탐험대 美 완구 회사 올해 인형 아시아 모델 코린 뉴스 탐험대 법원 학원 독서실 방역 패스 기본 침해 판단 엄마 아빠 살다 자녀 경험 뉴스 탐험대 아프리카 新種 식물 이름 디 프리오 뉴스 탐험대 말 사람 마음 읽다 中 산업 로봇 가상 인간 노래 김 가수 데뷔 계획 발표 역대 일자 소식 어린이 조선일보 기자 무엇 물다 책 읽다 경제 공부 억만장자 되다 꿈 친구 없다 행복 지구 노동자 행복 경제 일상 속 특급 비밀 짜장면 자장면 맛있다 세종 쌤 들려주다 기술 이야기 자료 필요 때 시사 낱말 퍼즐 곳 눈썰매 얼음 낚시 추위 잊다 신나다 호두 까다 왕자 클라라 발레 아름답다 신비 트레저 선물 받다 발 킥 보드 타다 동네 안전 수칙 책 읽다 엄마 앞 곳 동생 앞 티라노 오늘 내 뚱딴지 작가 일자 면 구성 행시 짓다 새해 희망 생각 쓰다 적 흑 교과서 한자어 防疫 방역 뉴스 탐험대 맹견 동생 영웅 스파이더맨 어린이 책 주인공 성별 쓰다 표현 다르다 마음 듣다 문학 꽃 이야기 스님 기다리다 동자승 넋 세상 경쟁 어니스트 헤밍웨이 스콧 피츠제럴드 뉴스 탐험대 줄 행성 우주 쇼 앨런 튜링 하다 두뇌 퍼즐 그림 동물 찾다 워드 서치 스도쿠 산문 입선 갯벌 놀이터 뚱딴지 예수 동시 입선 버릇 제임스 웹 우주망원경 지구 밖 우주 탄생 비밀 풀다 빌 게이츠 정부 불신 美 경제 걸림돌 메시지 뉴스 세계 새해 풍습 뉴스 탐험대 교복 학교 소속감 높이다 효과 없다 오늘 키워드 코끼리 푸드 대표 주자 한국인 절반 치킨 韓食 한식 주목 정보 레터 갯벌 해산물 캐다 전통 기술 갯벌 어로 무형문화재 지정 뉴스 탐험대 프란치스코 교황 가정 평화 인내 믿음 중요 기업 탐방 석유 기업 신재 에너지 저탄소 기술 집중 책 읽다 꽃구경 좋다 하다 꾸다 엄마 오늘 내 뚱딴지 작가 일자 면 구성 이번 주 미션 트레저 길고양이 까망이 크리스마스 퍼즐 준비 산타 뒤 있다 뭐 행시 짓다 초코파이 알 립 니다 올해 감사 편지 뉴스 탐험대 우리 기술 세계 最長 최장 현수교 위용 선조 전염병 기자 수다 꿀 경제 핫 대한민국 성장 원동력 불 원자력 경제 뉴스 코로나 차 경제 댄스파티 덕담 집 해피 뉴 뉴스 탐험대 치솟다 세계 물가 佛 바게트 美 피자 값 돈 가치 알다 장 보다 중고 거래 모피 가죽 패션 필 환경 뉴스 탐험대 연속 한국 집 주인 주목 사람 조직 혁신 이끈 젊다 리더 고객 만족 최우선 어린이 조선 작가 교실 말 주제 후 자료 모으다 정리 시사 낱말 퍼즐 요즘 나 지내다 겉뜨기 뜨다 익히다 가방 목도리 교과서 한자어 廣告 광고 세계 영웅 누르하치 윤희영 명언 수수께끼 우스개 뚱딴지 말구유 워드 서치 스도쿠 속 속뜻 퀴즈 '"
            ]
          },
          "metadata": {},
          "execution_count": 13
        }
      ]
    },
    {
      "cell_type": "markdown",
      "source": [
        "## Save File"
      ],
      "metadata": {
        "id": "NRWyVrg9na73"
      }
    },
    {
      "cell_type": "code",
      "source": [
        "# /content/mapper_result.txt\n",
        "# sys.stdout = open('mapper_result.txt', 'w')\n",
        "with open(\"mapper_result.txt\", \"w\", encoding=\"utf-8\") as text_file:\n",
        "    text_file.write(result)"
      ],
      "metadata": {
        "id": "x381b61rZLFC"
      },
      "execution_count": 16,
      "outputs": []
    },
    {
      "cell_type": "code",
      "source": [
        "# ref\n",
        "# https://sanghyu.tistory.com/170"
      ],
      "metadata": {
        "id": "wNXizNycVoef"
      },
      "execution_count": null,
      "outputs": []
    }
  ]
}